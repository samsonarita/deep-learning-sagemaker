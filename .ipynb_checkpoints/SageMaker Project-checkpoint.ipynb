{
 "cells": [
  {
   "cell_type": "markdown",
   "metadata": {},
   "source": [
    "# Creating a Sentiment Analysis Web App\n",
    "## Using PyTorch and SageMaker\n",
    "\n",
    "_Deep Learning Nanodegree Program | Deployment_\n",
    "\n",
    "---\n",
    "\n",
    "Now that we have a basic understanding of how SageMaker works we will try to use it to construct a complete project from end to end. Our goal will be to have a simple web page which a user can use to enter a movie review. The web page will then send the review off to our deployed model which will predict the sentiment of the entered review.\n",
    "\n",
    "## Instructions\n",
    "\n",
    "Some template code has already been provided for you, and you will need to implement additional functionality to successfully complete this notebook. You will not need to modify the included code beyond what is requested. Sections that begin with '**TODO**' in the header indicate that you need to complete or implement some portion within them. Instructions will be provided for each section and the specifics of the implementation are marked in the code block with a `# TODO: ...` comment. Please be sure to read the instructions carefully!\n",
    "\n",
    "In addition to implementing code, there will be questions for you to answer which relate to the task and your implementation. Each section where you will answer a question is preceded by a '**Question:**' header. Carefully read each question and provide your answer below the '**Answer:**' header by editing the Markdown cell.\n",
    "\n",
    "> **Note**: Code and Markdown cells can be executed using the **Shift+Enter** keyboard shortcut. In addition, a cell can be edited by typically clicking it (double-click for Markdown cells) or by pressing **Enter** while it is highlighted.\n",
    "\n",
    "## General Outline\n",
    "\n",
    "Recall the general outline for SageMaker projects using a notebook instance.\n",
    "\n",
    "1. Download or otherwise retrieve the data.\n",
    "2. Process / Prepare the data.\n",
    "3. Upload the processed data to S3.\n",
    "4. Train a chosen model.\n",
    "5. Test the trained model (typically using a batch transform job).\n",
    "6. Deploy the trained model.\n",
    "7. Use the deployed model.\n",
    "\n",
    "For this project, you will be following the steps in the general outline with some modifications. \n",
    "\n",
    "First, you will not be testing the model in its own step. You will still be testing the model, however, you will do it by deploying your model and then using the deployed model by sending the test data to it. One of the reasons for doing this is so that you can make sure that your deployed model is working correctly before moving forward.\n",
    "\n",
    "In addition, you will deploy and use your trained model a second time. In the second iteration you will customize the way that your trained model is deployed by including some of your own code. In addition, your newly deployed model will be used in the sentiment analysis web app."
   ]
  },
  {
   "cell_type": "markdown",
   "metadata": {},
   "source": [
    "## Step 1: Downloading the data\n",
    "\n",
    "As in the XGBoost in SageMaker notebook, we will be using the [IMDb dataset](http://ai.stanford.edu/~amaas/data/sentiment/)\n",
    "\n",
    "> Maas, Andrew L., et al. [Learning Word Vectors for Sentiment Analysis](http://ai.stanford.edu/~amaas/data/sentiment/). In _Proceedings of the 49th Annual Meeting of the Association for Computational Linguistics: Human Language Technologies_. Association for Computational Linguistics, 2011."
   ]
  },
  {
   "cell_type": "code",
   "execution_count": 1,
   "metadata": {},
   "outputs": [],
   "source": [
    "#%mkdir ../data\n",
    "#!wget -O ../data/aclImdb_v1.tar.gz http://ai.stanford.edu/~amaas/data/sentiment/aclImdb_v1.tar.gz\n",
    "#!tar -zxf ../data/aclImdb_v1.tar.gz -C ../data"
   ]
  },
  {
   "cell_type": "markdown",
   "metadata": {},
   "source": [
    "## Step 2: Preparing and Processing the data\n",
    "\n",
    "Also, as in the XGBoost notebook, we will be doing some initial data processing. The first few steps are the same as in the XGBoost example. To begin with, we will read in each of the reviews and combine them into a single input structure. Then, we will split the dataset into a training set and a testing set."
   ]
  },
  {
   "cell_type": "code",
   "execution_count": 2,
   "metadata": {},
   "outputs": [],
   "source": [
    "import os\n",
    "import glob\n",
    "\n",
    "def read_imdb_data(data_dir='../data/aclImdb'):\n",
    "    data = {}\n",
    "    labels = {}\n",
    "    \n",
    "    for data_type in ['train', 'test']:\n",
    "        data[data_type] = {}\n",
    "        labels[data_type] = {}\n",
    "        \n",
    "        for sentiment in ['pos', 'neg']:\n",
    "            data[data_type][sentiment] = []\n",
    "            labels[data_type][sentiment] = []\n",
    "            \n",
    "            path = os.path.join(data_dir, data_type, sentiment, '*.txt')\n",
    "            files = glob.glob(path)\n",
    "            \n",
    "            for f in files:\n",
    "                with open(f) as review:\n",
    "                    data[data_type][sentiment].append(review.read())\n",
    "                    # Here we represent a positive review by '1' and a negative review by '0'\n",
    "                    labels[data_type][sentiment].append(1 if sentiment == 'pos' else 0)\n",
    "                    \n",
    "            assert len(data[data_type][sentiment]) == len(labels[data_type][sentiment]), \\\n",
    "                    \"{}/{} data size does not match labels size\".format(data_type, sentiment)\n",
    "                \n",
    "    return data, labels"
   ]
  },
  {
   "cell_type": "code",
   "execution_count": 3,
   "metadata": {},
   "outputs": [
    {
     "name": "stdout",
     "output_type": "stream",
     "text": [
      "IMDB reviews: train = 12500 pos / 12500 neg, test = 12500 pos / 12500 neg\n"
     ]
    }
   ],
   "source": [
    "data, labels = read_imdb_data()\n",
    "print(\"IMDB reviews: train = {} pos / {} neg, test = {} pos / {} neg\".format(\n",
    "            len(data['train']['pos']), len(data['train']['neg']),\n",
    "            len(data['test']['pos']), len(data['test']['neg'])))"
   ]
  },
  {
   "cell_type": "markdown",
   "metadata": {},
   "source": [
    "Now that we've read the raw training and testing data from the downloaded dataset, we will combine the positive and negative reviews and shuffle the resulting records."
   ]
  },
  {
   "cell_type": "code",
   "execution_count": 4,
   "metadata": {},
   "outputs": [],
   "source": [
    "from sklearn.utils import shuffle\n",
    "\n",
    "def prepare_imdb_data(data, labels):\n",
    "    \"\"\"Prepare training and test sets from IMDb movie reviews.\"\"\"\n",
    "    \n",
    "    #Combine positive and negative reviews and labels\n",
    "    data_train = data['train']['pos'] + data['train']['neg']\n",
    "    data_test = data['test']['pos'] + data['test']['neg']\n",
    "    labels_train = labels['train']['pos'] + labels['train']['neg']\n",
    "    labels_test = labels['test']['pos'] + labels['test']['neg']\n",
    "    \n",
    "    #Shuffle reviews and corresponding labels within training and test sets\n",
    "    data_train, labels_train = shuffle(data_train, labels_train)\n",
    "    data_test, labels_test = shuffle(data_test, labels_test)\n",
    "    \n",
    "    # Return a unified training data, test data, training labels, test labets\n",
    "    return data_train, data_test, labels_train, labels_test"
   ]
  },
  {
   "cell_type": "code",
   "execution_count": 5,
   "metadata": {},
   "outputs": [
    {
     "name": "stdout",
     "output_type": "stream",
     "text": [
      "IMDb reviews (combined): train = 25000, test = 25000\n"
     ]
    }
   ],
   "source": [
    "train_X, test_X, train_y, test_y = prepare_imdb_data(data, labels)\n",
    "print(\"IMDb reviews (combined): train = {}, test = {}\".format(len(train_X), len(test_X)))"
   ]
  },
  {
   "cell_type": "markdown",
   "metadata": {},
   "source": [
    "Now that we have our training and testing sets unified and prepared, we should do a quick check and see an example of the data our model will be trained on. This is generally a good idea as it allows you to see how each of the further processing steps affects the reviews and it also ensures that the data has been loaded correctly."
   ]
  },
  {
   "cell_type": "code",
   "execution_count": 6,
   "metadata": {},
   "outputs": [
    {
     "name": "stdout",
     "output_type": "stream",
     "text": [
      "I thought it was a very funny movie. I love dog movies and comedy movies so combined they were twice as good. K-9, k-911, and k-9 PI are my favorite movies. Jim Belushi is hysterical and Jerry Lee is hilarious and adorable they make a great team. The only downside is that i really didn't understand how Dooley's wife died. She died before this movie but how? If they said it i must have missed it. Other than that I give it two thumbs/tails up! Those dogs (Jerry Lee and Zeus) must have had A lot of training. They were so funny and all the noises Jerry Lee would make when Dooley was talking to him was so funny. my favorite was when Jerry Lee sang and when he would bite peoples privates to get information very very funny lol\n",
      "1\n"
     ]
    }
   ],
   "source": [
    "print(train_X[100])\n",
    "print(train_y[100])"
   ]
  },
  {
   "cell_type": "markdown",
   "metadata": {},
   "source": [
    "The first step in processing the reviews is to make sure that any html tags that appear should be removed. In addition we wish to tokenize our input, that way words such as *entertained* and *entertaining* are considered the same with regard to sentiment analysis."
   ]
  },
  {
   "cell_type": "code",
   "execution_count": 7,
   "metadata": {},
   "outputs": [],
   "source": [
    "import nltk\n",
    "from nltk.corpus import stopwords\n",
    "from nltk.stem.porter import *\n",
    "\n",
    "import re\n",
    "from bs4 import BeautifulSoup\n",
    "\n",
    "def review_to_words(review):\n",
    "    nltk.download(\"stopwords\", quiet=True)\n",
    "    stemmer = PorterStemmer()\n",
    "    \n",
    "    text = BeautifulSoup(review, \"html.parser\").get_text() # Remove HTML tags\n",
    "    text = re.sub(r\"[^a-zA-Z0-9]\", \" \", text.lower()) # Convert to lower case\n",
    "    words = text.split() # Split string into words\n",
    "    words = [w for w in words if w not in stopwords.words(\"english\")] # Remove stopwords\n",
    "    words = [PorterStemmer().stem(w) for w in words] # stem\n",
    "    \n",
    "    return words"
   ]
  },
  {
   "cell_type": "markdown",
   "metadata": {},
   "source": [
    "The `review_to_words` method defined above uses `BeautifulSoup` to remove any html tags that appear and uses the `nltk` package to tokenize the reviews. As a check to ensure we know how everything is working, try applying `review_to_words` to one of the reviews in the training set."
   ]
  },
  {
   "cell_type": "code",
   "execution_count": 8,
   "metadata": {},
   "outputs": [
    {
     "name": "stdout",
     "output_type": "stream",
     "text": [
      "['thought', 'funni', 'movi', 'love', 'dog', 'movi', 'comedi', 'movi', 'combin', 'twice', 'good', 'k', '9', 'k', '911', 'k', '9', 'pi', 'favorit', 'movi', 'jim', 'belushi', 'hyster', 'jerri', 'lee', 'hilari', 'ador', 'make', 'great', 'team', 'downsid', 'realli', 'understand', 'dooley', 'wife', 'die', 'die', 'movi', 'said', 'must', 'miss', 'give', 'two', 'thumb', 'tail', 'dog', 'jerri', 'lee', 'zeu', 'must', 'lot', 'train', 'funni', 'nois', 'jerri', 'lee', 'would', 'make', 'dooley', 'talk', 'funni', 'favorit', 'jerri', 'lee', 'sang', 'would', 'bite', 'peopl', 'privat', 'get', 'inform', 'funni', 'lol']\n"
     ]
    }
   ],
   "source": [
    "# TODO: Apply review_to_words to a review (train_X[100] or any other review)\n",
    "words_check = review_to_words(train_X[100])\n",
    "print(words_check)"
   ]
  },
  {
   "cell_type": "markdown",
   "metadata": {},
   "source": [
    "**Question:** Above we mentioned that `review_to_words` method removes html formatting and allows us to tokenize the words found in a review, for example, converting *entertained* and *entertaining* into *entertain* so that they are treated as though they are the same word. What else, if anything, does this method do to the input?"
   ]
  },
  {
   "cell_type": "markdown",
   "metadata": {},
   "source": [
    "**Answer:**\n",
    "\n",
    "1. HTML tags from the content captured from a HTML page are removed to only remain with the required content\n",
    "2. Word tokenization. Example: converting entertained and entertaining into entertain\n",
    "3. Removing stop words. These are words that do not add much meaning to a sentence. Example: a, the, and\n",
    "4. A regex is applied to only capture letters and numbers, hence removes punctuations, symbols etc\n",
    "5. The words are converted to lower case\n",
    "6. The texts are split to return a list of words\n",
    "\n"
   ]
  },
  {
   "cell_type": "markdown",
   "metadata": {},
   "source": [
    "The method below applies the `review_to_words` method to each of the reviews in the training and testing datasets. In addition it caches the results. This is because performing this processing step can take a long time. This way if you are unable to complete the notebook in the current session, you can come back without needing to process the data a second time."
   ]
  },
  {
   "cell_type": "code",
   "execution_count": 9,
   "metadata": {},
   "outputs": [],
   "source": [
    "import pickle\n",
    "\n",
    "cache_dir = os.path.join(\"../cache\", \"sentiment_analysis\")  # where to store cache files\n",
    "os.makedirs(cache_dir, exist_ok=True)  # ensure cache directory exists\n",
    "\n",
    "def preprocess_data(data_train, data_test, labels_train, labels_test,\n",
    "                    cache_dir=cache_dir, cache_file=\"preprocessed_data.pkl\"):\n",
    "    \"\"\"Convert each review to words; read from cache if available.\"\"\"\n",
    "\n",
    "    # If cache_file is not None, try to read from it first\n",
    "    cache_data = None\n",
    "    if cache_file is not None:\n",
    "        try:\n",
    "            with open(os.path.join(cache_dir, cache_file), \"rb\") as f:\n",
    "                cache_data = pickle.load(f)\n",
    "            print(\"Read preprocessed data from cache file:\", cache_file)\n",
    "        except:\n",
    "            pass  # unable to read from cache, but that's okay\n",
    "    \n",
    "    # If cache is missing, then do the heavy lifting\n",
    "    if cache_data is None:\n",
    "        # Preprocess training and test data to obtain words for each review\n",
    "        #words_train = list(map(review_to_words, data_train))\n",
    "        #words_test = list(map(review_to_words, data_test))\n",
    "        words_train = [review_to_words(review) for review in data_train]\n",
    "        words_test = [review_to_words(review) for review in data_test]\n",
    "        \n",
    "        # Write to cache file for future runs\n",
    "        if cache_file is not None:\n",
    "            cache_data = dict(words_train=words_train, words_test=words_test,\n",
    "                              labels_train=labels_train, labels_test=labels_test)\n",
    "            with open(os.path.join(cache_dir, cache_file), \"wb\") as f:\n",
    "                pickle.dump(cache_data, f)\n",
    "            print(\"Wrote preprocessed data to cache file:\", cache_file)\n",
    "    else:\n",
    "        # Unpack data loaded from cache file\n",
    "        words_train, words_test, labels_train, labels_test = (cache_data['words_train'],\n",
    "                cache_data['words_test'], cache_data['labels_train'], cache_data['labels_test'])\n",
    "    \n",
    "    return words_train, words_test, labels_train, labels_test"
   ]
  },
  {
   "cell_type": "code",
   "execution_count": 10,
   "metadata": {},
   "outputs": [
    {
     "name": "stdout",
     "output_type": "stream",
     "text": [
      "Read preprocessed data from cache file: preprocessed_data.pkl\n"
     ]
    }
   ],
   "source": [
    "# Preprocess data\n",
    "train_X, test_X, train_y, test_y = preprocess_data(train_X, test_X, train_y, test_y)"
   ]
  },
  {
   "cell_type": "markdown",
   "metadata": {},
   "source": [
    "## Transform the data\n",
    "\n",
    "In the XGBoost notebook we transformed the data from its word representation to a bag-of-words feature representation. For the model we are going to construct in this notebook we will construct a feature representation which is very similar. To start, we will represent each word as an integer. Of course, some of the words that appear in the reviews occur very infrequently and so likely don't contain much information for the purposes of sentiment analysis. The way we will deal with this problem is that we will fix the size of our working vocabulary and we will only include the words that appear most frequently. We will then combine all of the infrequent words into a single category and, in our case, we will label it as `1`.\n",
    "\n",
    "Since we will be using a recurrent neural network, it will be convenient if the length of each review is the same. To do this, we will fix a size for our reviews and then pad short reviews with the category 'no word' (which we will label `0`) and truncate long reviews."
   ]
  },
  {
   "cell_type": "markdown",
   "metadata": {},
   "source": [
    "### (TODO) Create a word dictionary\n",
    "\n",
    "To begin with, we need to construct a way to map words that appear in the reviews to integers. Here we fix the size of our vocabulary (including the 'no word' and 'infrequent' categories) to be `5000` but you may wish to change this to see how it affects the model.\n",
    "\n",
    "> **TODO:** Complete the implementation for the `build_dict()` method below. Note that even though the vocab_size is set to `5000`, we only want to construct a mapping for the most frequently appearing `4998` words. This is because we want to reserve the special labels `0` for 'no word' and `1` for 'infrequent word'."
   ]
  },
  {
   "cell_type": "code",
   "execution_count": 11,
   "metadata": {},
   "outputs": [],
   "source": [
    "import numpy as np\n",
    "from collections import Counter\n",
    "\n",
    "def build_dict(data, vocab_size = 5000):\n",
    "    \"\"\"Construct and return a dictionary mapping each of the most frequently appearing words to a unique integer.\"\"\"\n",
    "    \n",
    "    # TODO: Determine how often each word appears in `data`. Note that `data` is a list of sentences and that a\n",
    "    #       sentence is a list of words.\n",
    "    \n",
    "    word_count = Counter() # A dict storing the words that appear in the reviews along with how often they occur\n",
    "    \n",
    "    # TODO: Sort the words found in `data` so that sorted_words[0] is the most frequently appearing word and\n",
    "    #       sorted_words[-1] is the least frequently appearing word.\n",
    "\n",
    "    for review in data:\n",
    "        #print(review)\n",
    "        for word in review:\n",
    "            word_count[word] += 1 \n",
    "            \n",
    "    sorted_words = dict(word_count)\n",
    "    sorted_words = sorted(sorted_words, key=sorted_words.get, reverse=True)\n",
    "    \n",
    "    \n",
    "    word_dict = {} # This is what we are building, a dictionary that translates words into integers\n",
    "    for idx, word in enumerate(sorted_words[:vocab_size - 2]): # The -2 is so that we save room for the 'no word'\n",
    "        word_dict[word] = idx + 2                              # 'infrequent' labels\n",
    "        \n",
    "    return word_dict"
   ]
  },
  {
   "cell_type": "code",
   "execution_count": 12,
   "metadata": {},
   "outputs": [
    {
     "name": "stdout",
     "output_type": "stream",
     "text": [
      "{'movi': 2, 'film': 3, 'one': 4, 'like': 5, 'time': 6, 'good': 7, 'make': 8, 'charact': 9, 'get': 10, 'see': 11, 'watch': 12, 'stori': 13, 'even': 14, 'would': 15, 'realli': 16, 'well': 17, 'scene': 18, 'look': 19, 'show': 20, 'much': 21, 'end': 22, 'peopl': 23, 'bad': 24, 'go': 25, 'great': 26, 'also': 27, 'first': 28, 'love': 29, 'think': 30, 'way': 31, 'act': 32, 'play': 33, 'made': 34, 'thing': 35, 'could': 36, 'know': 37, 'say': 38, 'seem': 39, 'work': 40, 'plot': 41, 'two': 42, 'actor': 43, 'year': 44, 'come': 45, 'mani': 46, 'seen': 47, 'take': 48, 'want': 49, 'life': 50, 'never': 51, 'littl': 52, 'best': 53, 'tri': 54, 'man': 55, 'ever': 56, 'give': 57, 'better': 58, 'still': 59, 'perform': 60, 'find': 61, 'feel': 62, 'part': 63, 'back': 64, 'use': 65, 'someth': 66, 'director': 67, 'actual': 68, 'interest': 69, 'lot': 70, 'real': 71, 'old': 72, 'cast': 73, 'though': 74, 'live': 75, 'star': 76, 'enjoy': 77, 'guy': 78, 'anoth': 79, 'new': 80, 'role': 81, 'noth': 82, '10': 83, 'funni': 84, 'music': 85, 'point': 86, 'start': 87, 'set': 88, 'girl': 89, 'origin': 90, 'day': 91, 'world': 92, 'everi': 93, 'believ': 94, 'turn': 95, 'quit': 96, 'us': 97, 'direct': 98, 'thought': 99, 'fact': 100, 'minut': 101, 'horror': 102, 'kill': 103, 'action': 104, 'comedi': 105, 'pretti': 106, 'young': 107, 'wonder': 108, 'happen': 109, 'around': 110, 'got': 111, 'effect': 112, 'right': 113, 'long': 114, 'howev': 115, 'big': 116, 'line': 117, 'famili': 118, 'enough': 119, 'seri': 120, 'may': 121, 'need': 122, 'fan': 123, 'bit': 124, 'script': 125, 'beauti': 126, 'person': 127, 'becom': 128, 'without': 129, 'must': 130, 'alway': 131, 'friend': 132, 'tell': 133, 'reason': 134, 'saw': 135, 'last': 136, 'final': 137, 'kid': 138, 'almost': 139, 'put': 140, 'least': 141, 'sure': 142, 'done': 143, 'whole': 144, 'place': 145, 'complet': 146, 'kind': 147, 'expect': 148, 'differ': 149, 'shot': 150, 'far': 151, 'mean': 152, 'anyth': 153, 'book': 154, 'laugh': 155, 'might': 156, 'name': 157, 'sinc': 158, 'begin': 159, '2': 160, 'probabl': 161, 'woman': 162, 'help': 163, 'entertain': 164, 'let': 165, 'screen': 166, 'call': 167, 'tv': 168, 'moment': 169, 'away': 170, 'read': 171, 'yet': 172, 'rather': 173, 'worst': 174, 'run': 175, 'fun': 176, 'lead': 177, 'hard': 178, 'audienc': 179, 'idea': 180, 'anyon': 181, 'episod': 182, 'american': 183, 'found': 184, 'appear': 185, 'bore': 186, 'especi': 187, 'although': 188, 'hope': 189, 'cours': 190, 'keep': 191, 'anim': 192, 'job': 193, 'goe': 194, 'move': 195, 'sens': 196, 'version': 197, 'dvd': 198, 'war': 199, 'money': 200, 'someon': 201, 'mind': 202, 'mayb': 203, 'problem': 204, 'true': 205, 'hous': 206, 'everyth': 207, 'nice': 208, 'second': 209, 'rate': 210, 'three': 211, 'night': 212, 'follow': 213, 'face': 214, 'recommend': 215, 'main': 216, 'product': 217, 'worth': 218, 'leav': 219, 'human': 220, 'special': 221, 'excel': 222, 'togeth': 223, 'wast': 224, 'sound': 225, 'everyon': 226, 'john': 227, 'hand': 228, '1': 229, 'father': 230, 'later': 231, 'eye': 232, 'said': 233, 'view': 234, 'instead': 235, 'review': 236, 'boy': 237, 'high': 238, 'hour': 239, 'miss': 240, 'classic': 241, 'talk': 242, 'wife': 243, 'understand': 244, 'left': 245, 'care': 246, 'black': 247, 'death': 248, 'open': 249, 'murder': 250, 'write': 251, 'half': 252, 'head': 253, 'rememb': 254, 'chang': 255, 'viewer': 256, 'fight': 257, 'gener': 258, 'surpris': 259, 'includ': 260, 'short': 261, 'die': 262, 'fall': 263, 'less': 264, 'els': 265, 'entir': 266, 'piec': 267, 'involv': 268, 'pictur': 269, 'simpli': 270, 'top': 271, 'power': 272, 'home': 273, 'total': 274, 'usual': 275, 'budget': 276, 'attempt': 277, 'suppos': 278, 'releas': 279, 'hollywood': 280, 'terribl': 281, 'song': 282, 'men': 283, 'possibl': 284, 'featur': 285, 'portray': 286, 'disappoint': 287, 'poor': 288, '3': 289, 'coupl': 290, 'camera': 291, 'stupid': 292, 'dead': 293, 'wrong': 294, 'produc': 295, 'low': 296, 'either': 297, 'video': 298, 'aw': 299, 'definit': 300, 'except': 301, 'rest': 302, 'given': 303, 'absolut': 304, 'women': 305, 'lack': 306, 'word': 307, 'writer': 308, 'titl': 309, 'talent': 310, 'decid': 311, 'full': 312, 'perfect': 313, 'along': 314, 'style': 315, 'close': 316, 'truli': 317, 'school': 318, 'emot': 319, 'save': 320, 'age': 321, 'sex': 322, 'next': 323, 'bring': 324, 'mr': 325, 'case': 326, 'killer': 327, 'heart': 328, 'comment': 329, 'sort': 330, 'creat': 331, 'perhap': 332, 'came': 333, 'brother': 334, 'sever': 335, 'joke': 336, 'art': 337, 'dialogu': 338, 'game': 339, 'small': 340, 'base': 341, 'flick': 342, 'written': 343, 'sequenc': 344, 'meet': 345, 'earli': 346, 'often': 347, 'other': 348, 'mother': 349, 'develop': 350, 'humor': 351, 'actress': 352, 'consid': 353, 'dark': 354, 'guess': 355, 'amaz': 356, 'unfortun': 357, 'lost': 358, 'light': 359, 'exampl': 360, 'cinema': 361, 'drama': 362, 'ye': 363, 'white': 364, 'experi': 365, 'imagin': 366, 'mention': 367, 'stop': 368, 'natur': 369, 'forc': 370, 'manag': 371, 'felt': 372, 'present': 373, 'cut': 374, 'children': 375, 'fail': 376, 'son': 377, 'support': 378, 'car': 379, 'qualiti': 380, 'ask': 381, 'hit': 382, 'side': 383, 'voic': 384, 'extrem': 385, 'impress': 386, 'wors': 387, 'evil': 388, 'went': 389, 'stand': 390, 'certainli': 391, 'basic': 392, 'oh': 393, 'overal': 394, 'favorit': 395, 'horribl': 396, 'mysteri': 397, 'number': 398, 'type': 399, 'danc': 400, 'wait': 401, 'hero': 402, 'alreadi': 403, '5': 404, 'learn': 405, 'matter': 406, '4': 407, 'michael': 408, 'genr': 409, 'fine': 410, 'despit': 411, 'throughout': 412, 'walk': 413, 'success': 414, 'histori': 415, 'question': 416, 'zombi': 417, 'town': 418, 'relationship': 419, 'realiz': 420, 'past': 421, 'child': 422, 'daughter': 423, 'late': 424, 'b': 425, 'wish': 426, 'hate': 427, 'credit': 428, 'event': 429, 'theme': 430, 'touch': 431, 'citi': 432, 'today': 433, 'sometim': 434, 'behind': 435, 'god': 436, 'twist': 437, 'sit': 438, 'stay': 439, 'annoy': 440, 'deal': 441, 'abl': 442, 'rent': 443, 'pleas': 444, 'edit': 445, 'blood': 446, 'deserv': 447, 'comic': 448, 'anyway': 449, 'appar': 450, 'soon': 451, 'gave': 452, 'etc': 453, 'level': 454, 'slow': 455, 'chanc': 456, 'score': 457, 'bodi': 458, 'brilliant': 459, 'incred': 460, 'figur': 461, 'situat': 462, 'major': 463, 'self': 464, 'stuff': 465, 'decent': 466, 'element': 467, 'return': 468, 'dream': 469, 'obvious': 470, 'continu': 471, 'order': 472, 'pace': 473, 'ridicul': 474, 'happi': 475, 'add': 476, 'group': 477, 'highli': 478, 'thank': 479, 'ladi': 480, 'novel': 481, 'speak': 482, 'pain': 483, 'career': 484, 'shoot': 485, 'strang': 486, 'heard': 487, 'sad': 488, 'polic': 489, 'husband': 490, 'import': 491, 'break': 492, 'took': 493, 'strong': 494, 'cannot': 495, 'robert': 496, 'predict': 497, 'violenc': 498, 'hilari': 499, 'recent': 500, 'countri': 501, 'known': 502, 'particularli': 503, 'pick': 504, 'documentari': 505, 'season': 506, 'critic': 507, 'jame': 508, 'compar': 509, 'obviou': 510, 'alon': 511, 'told': 512, 'state': 513, 'visual': 514, 'rock': 515, 'exist': 516, 'theater': 517, 'offer': 518, 'opinion': 519, 'gore': 520, 'hold': 521, 'crap': 522, 'result': 523, 'realiti': 524, 'hear': 525, 'room': 526, 'effort': 527, 'clich': 528, 'thriller': 529, 'caus': 530, 'explain': 531, 'serious': 532, 'sequel': 533, 'king': 534, 'local': 535, 'ago': 536, 'none': 537, 'hell': 538, 'note': 539, 'allow': 540, 'david': 541, 'sister': 542, 'simpl': 543, 'femal': 544, 'deliv': 545, 'ok': 546, 'class': 547, 'convinc': 548, 'check': 549, 'suspens': 550, 'win': 551, 'buy': 552, 'oscar': 553, 'huge': 554, 'valu': 555, 'sexual': 556, 'cool': 557, 'scari': 558, 'excit': 559, 'similar': 560, 'apart': 561, 'provid': 562, 'exactli': 563, 'avoid': 564, 'shown': 565, 'seriou': 566, 'english': 567, 'whose': 568, 'taken': 569, 'cinematographi': 570, 'shock': 571, 'polit': 572, 'spoiler': 573, 'offic': 574, 'across': 575, 'middl': 576, 'street': 577, 'pass': 578, 'messag': 579, 'charm': 580, 'silli': 581, 'somewhat': 582, 'modern': 583, 'filmmak': 584, 'confus': 585, 'form': 586, 'tale': 587, 'singl': 588, 'jack': 589, 'mostli': 590, 'carri': 591, 'william': 592, 'attent': 593, 'sing': 594, 'five': 595, 'subject': 596, 'richard': 597, 'prove': 598, 'team': 599, 'stage': 600, 'cop': 601, 'unlik': 602, 'georg': 603, 'monster': 604, 'televis': 605, 'earth': 606, 'villain': 607, 'cover': 608, 'pay': 609, 'marri': 610, 'toward': 611, 'build': 612, 'pull': 613, 'parent': 614, 'due': 615, 'respect': 616, 'fill': 617, 'dialog': 618, 'four': 619, 'remind': 620, 'futur': 621, 'typic': 622, 'weak': 623, '7': 624, 'cheap': 625, 'intellig': 626, 'british': 627, 'atmospher': 628, '80': 629, 'clearli': 630, 'non': 631, 'paul': 632, 'dog': 633, 'artist': 634, '8': 635, 'knew': 636, 'fast': 637, 'crime': 638, 'easili': 639, 'escap': 640, 'doubt': 641, 'adult': 642, 'detail': 643, 'date': 644, 'romant': 645, 'member': 646, 'fire': 647, 'gun': 648, 'drive': 649, 'straight': 650, 'fit': 651, 'beyond': 652, 'attack': 653, 'imag': 654, 'upon': 655, 'posit': 656, 'whether': 657, 'fantast': 658, 'peter': 659, 'appreci': 660, 'captur': 661, 'aspect': 662, 'ten': 663, 'plan': 664, 'discov': 665, 'remain': 666, 'near': 667, 'period': 668, 'realist': 669, 'air': 670, 'mark': 671, 'red': 672, 'dull': 673, 'adapt': 674, 'within': 675, 'spend': 676, 'lose': 677, 'materi': 678, 'color': 679, 'chase': 680, 'mari': 681, 'storylin': 682, 'forget': 683, 'bunch': 684, 'clear': 685, 'lee': 686, 'victim': 687, 'nearli': 688, 'box': 689, 'york': 690, 'match': 691, 'inspir': 692, 'finish': 693, 'mess': 694, 'standard': 695, 'easi': 696, 'truth': 697, 'suffer': 698, 'busi': 699, 'bill': 700, 'space': 701, 'dramat': 702, 'western': 703, 'e': 704, 'list': 705, 'battl': 706, 'notic': 707, 'de': 708, 'french': 709, 'ad': 710, '9': 711, 'tom': 712, 'larg': 713, 'among': 714, 'eventu': 715, 'train': 716, 'accept': 717, 'agre': 718, 'soundtrack': 719, 'spirit': 720, 'third': 721, 'teenag': 722, 'adventur': 723, 'soldier': 724, 'drug': 725, 'suggest': 726, 'sorri': 727, 'famou': 728, 'normal': 729, 'cri': 730, 'babi': 731, 'troubl': 732, 'ultim': 733, 'contain': 734, 'certain': 735, 'cultur': 736, 'romanc': 737, 'rare': 738, 'lame': 739, 'somehow': 740, 'mix': 741, 'disney': 742, 'gone': 743, 'cartoon': 744, 'student': 745, 'reveal': 746, 'fear': 747, 'suck': 748, 'kept': 749, 'attract': 750, 'appeal': 751, 'premis': 752, 'secret': 753, 'design': 754, 'greatest': 755, 'shame': 756, 'throw': 757, 'copi': 758, 'scare': 759, 'wit': 760, 'admit': 761, 'america': 762, 'particular': 763, 'relat': 764, 'brought': 765, 'screenplay': 766, 'whatev': 767, 'pure': 768, '70': 769, 'harri': 770, 'averag': 771, 'master': 772, 'describ': 773, 'male': 774, 'treat': 775, '20': 776, 'fantasi': 777, 'issu': 778, 'warn': 779, 'inde': 780, 'background': 781, 'forward': 782, 'project': 783, 'free': 784, 'japanes': 785, 'memor': 786, 'poorli': 787, 'award': 788, 'locat': 789, 'amus': 790, 'potenti': 791, 'struggl': 792, 'weird': 793, 'magic': 794, 'societi': 795, 'okay': 796, 'imdb': 797, 'accent': 798, 'doctor': 799, 'water': 800, 'hot': 801, 'dr': 802, 'express': 803, 'alien': 804, '30': 805, 'odd': 806, 'crazi': 807, 'choic': 808, 'studio': 809, 'fiction': 810, 'becam': 811, 'control': 812, 'masterpiec': 813, 'fli': 814, 'difficult': 815, 'joe': 816, 'scream': 817, 'costum': 818, 'lover': 819, 'uniqu': 820, 'refer': 821, 'remak': 822, 'girlfriend': 823, 'vampir': 824, 'prison': 825, 'execut': 826, 'wear': 827, 'jump': 828, 'unless': 829, 'wood': 830, 'creepi': 831, 'cheesi': 832, 'superb': 833, 'otherwis': 834, 'parti': 835, 'roll': 836, 'ghost': 837, 'public': 838, 'mad': 839, 'depict': 840, 'badli': 841, 'week': 842, 'moral': 843, 'earlier': 844, 'jane': 845, 'dumb': 846, 'fi': 847, 'flaw': 848, 'grow': 849, 'deep': 850, 'sci': 851, 'maker': 852, 'cat': 853, 'connect': 854, 'older': 855, 'footag': 856, 'plenti': 857, 'bother': 858, 'outsid': 859, 'stick': 860, 'gay': 861, 'catch': 862, 'plu': 863, 'co': 864, 'popular': 865, 'equal': 866, 'social': 867, 'quickli': 868, 'disturb': 869, 'perfectli': 870, 'dress': 871, '90': 872, 'era': 873, 'mistak': 874, 'lie': 875, 'ride': 876, 'previou': 877, 'combin': 878, 'band': 879, 'concept': 880, 'rich': 881, 'answer': 882, 'surviv': 883, 'front': 884, 'christma': 885, 'sweet': 886, 'insid': 887, 'eat': 888, 'bare': 889, 'concern': 890, 'listen': 891, 'beat': 892, 'ben': 893, 'c': 894, 'serv': 895, 'term': 896, 'german': 897, 'meant': 898, 'la': 899, 'hardli': 900, 'stereotyp': 901, 'innoc': 902, 'law': 903, 'desper': 904, 'memori': 905, 'promis': 906, 'intent': 907, 'cute': 908, 'variou': 909, 'inform': 910, 'steal': 911, 'brain': 912, 'post': 913, 'tone': 914, 'island': 915, 'amount': 916, 'track': 917, 'nuditi': 918, 'compani': 919, 'store': 920, 'claim': 921, 'hair': 922, 'flat': 923, '50': 924, 'land': 925, 'univers': 926, 'scott': 927, 'kick': 928, 'fairli': 929, 'danger': 930, 'player': 931, 'plain': 932, 'crew': 933, 'step': 934, 'toni': 935, 'share': 936, 'tast': 937, 'centuri': 938, 'achiev': 939, 'engag': 940, 'cold': 941, 'travel': 942, 'suit': 943, 'record': 944, 'rip': 945, 'sadli': 946, 'manner': 947, 'wrote': 948, 'spot': 949, 'tension': 950, 'intens': 951, 'fascin': 952, 'familiar': 953, 'depth': 954, 'remark': 955, 'burn': 956, 'histor': 957, 'destroy': 958, 'sleep': 959, 'purpos': 960, 'languag': 961, 'ruin': 962, 'ignor': 963, 'delight': 964, 'unbeliev': 965, 'italian': 966, 'soul': 967, 'abil': 968, 'collect': 969, 'clever': 970, 'detect': 971, 'violent': 972, 'rape': 973, 'reach': 974, 'door': 975, 'liter': 976, 'scienc': 977, 'trash': 978, 'caught': 979, 'reveng': 980, 'commun': 981, 'creatur': 982, 'trip': 983, 'approach': 984, 'fashion': 985, 'intrigu': 986, 'skill': 987, 'introduc': 988, 'paint': 989, 'channel': 990, 'complex': 991, 'camp': 992, 'christian': 993, 'hole': 994, 'extra': 995, 'ann': 996, 'mental': 997, 'immedi': 998, 'limit': 999, 'slightli': 1000, '6': 1001, 'mere': 1002, 'comput': 1003, 'million': 1004, 'conclus': 1005, 'slasher': 1006, 'suddenli': 1007, 'imposs': 1008, 'neither': 1009, 'crimin': 1010, 'teen': 1011, 'nation': 1012, 'physic': 1013, 'spent': 1014, 'respons': 1015, 'planet': 1016, 'fake': 1017, 'receiv': 1018, 'sick': 1019, 'blue': 1020, 'bizarr': 1021, 'embarrass': 1022, 'indian': 1023, '15': 1024, 'ring': 1025, 'pop': 1026, 'drop': 1027, 'drag': 1028, 'haunt': 1029, 'pointless': 1030, 'suspect': 1031, 'search': 1032, 'edg': 1033, 'handl': 1034, 'common': 1035, 'biggest': 1036, 'faith': 1037, 'hurt': 1038, 'arriv': 1039, 'technic': 1040, 'angel': 1041, 'dad': 1042, 'genuin': 1043, 'solid': 1044, 'awesom': 1045, 'f': 1046, 'former': 1047, 'colleg': 1048, 'focu': 1049, 'van': 1050, 'count': 1051, 'heavi': 1052, 'tear': 1053, 'rais': 1054, 'wall': 1055, 'visit': 1056, 'younger': 1057, 'laughabl': 1058, 'excus': 1059, 'sign': 1060, 'fair': 1061, 'cult': 1062, 'tough': 1063, 'key': 1064, 'motion': 1065, 'desir': 1066, 'super': 1067, 'addit': 1068, 'stun': 1069, 'exploit': 1070, 'cloth': 1071, 'tortur': 1072, 'smith': 1073, 'davi': 1074, 'race': 1075, 'author': 1076, 'cross': 1077, 'jim': 1078, 'focus': 1079, 'minor': 1080, 'compel': 1081, 'consist': 1082, 'pathet': 1083, 'commit': 1084, 'chemistri': 1085, 'park': 1086, 'frank': 1087, 'tradit': 1088, 'obsess': 1089, 'grade': 1090, 'asid': 1091, '60': 1092, 'brutal': 1093, 'somewher': 1094, 'steve': 1095, 'opportun': 1096, 'grant': 1097, 'rule': 1098, 'depress': 1099, 'explor': 1100, 'u': 1101, 'honest': 1102, 'besid': 1103, 'dub': 1104, 'anti': 1105, 'trailer': 1106, 'intend': 1107, 'bar': 1108, 'longer': 1109, 'regard': 1110, 'scientist': 1111, 'west': 1112, 'judg': 1113, 'decad': 1114, 'silent': 1115, 'armi': 1116, 'creativ': 1117, 'wild': 1118, 'stewart': 1119, 'g': 1120, 'south': 1121, 'draw': 1122, 'road': 1123, 'govern': 1124, 'ex': 1125, 'boss': 1126, 'practic': 1127, 'surprisingli': 1128, 'motiv': 1129, 'gang': 1130, 'club': 1131, 'festiv': 1132, 'page': 1133, 'redeem': 1134, 'london': 1135, 'green': 1136, 'machin': 1137, 'militari': 1138, 'display': 1139, 'aliv': 1140, 'idiot': 1141, 'thrill': 1142, 'repeat': 1143, 'nobodi': 1144, '100': 1145, 'folk': 1146, 'yeah': 1147, '40': 1148, 'garbag': 1149, 'journey': 1150, 'tire': 1151, 'ground': 1152, 'smile': 1153, 'bought': 1154, 'mood': 1155, 'sam': 1156, 'cost': 1157, 'stone': 1158, 'mouth': 1159, 'noir': 1160, 'agent': 1161, 'terrif': 1162, 'utterli': 1163, 'requir': 1164, 'honestli': 1165, 'sexi': 1166, 'area': 1167, 'report': 1168, 'geniu': 1169, 'glad': 1170, 'humour': 1171, 'investig': 1172, 'enter': 1173, 'serial': 1174, 'occasion': 1175, 'narr': 1176, 'passion': 1177, 'climax': 1178, 'marriag': 1179, 'industri': 1180, 'studi': 1181, 'center': 1182, 'nowher': 1183, 'ship': 1184, 'charli': 1185, 'demon': 1186, 'loos': 1187, 'hors': 1188, 'bear': 1189, 'hang': 1190, 'wow': 1191, 'graphic': 1192, 'admir': 1193, 'giant': 1194, 'send': 1195, 'loud': 1196, 'damn': 1197, 'rel': 1198, 'profession': 1199, 'nake': 1200, 'subtl': 1201, 'blow': 1202, 'bottom': 1203, 'batman': 1204, 'insult': 1205, 'boyfriend': 1206, 'r': 1207, 'doubl': 1208, 'kelli': 1209, 'initi': 1210, 'frame': 1211, 'opera': 1212, 'gem': 1213, 'challeng': 1214, 'church': 1215, 'drawn': 1216, 'affect': 1217, 'cinemat': 1218, 'nightmar': 1219, 'fulli': 1220, 'l': 1221, 'evid': 1222, 'seek': 1223, 'j': 1224, 'arm': 1225, 'conflict': 1226, 'essenti': 1227, 'henri': 1228, 'christoph': 1229, 'wind': 1230, 'grace': 1231, 'witch': 1232, 'narrat': 1233, 'assum': 1234, 'push': 1235, 'hunt': 1236, 'wise': 1237, 'chri': 1238, 'nomin': 1239, 'month': 1240, 'repres': 1241, 'sceneri': 1242, 'affair': 1243, 'avail': 1244, 'hide': 1245, 'justic': 1246, 'smart': 1247, 'thu': 1248, 'bond': 1249, 'outstand': 1250, 'interview': 1251, 'flashback': 1252, 'constantli': 1253, 'satisfi': 1254, 'presenc': 1255, 'bed': 1256, 'central': 1257, 'iron': 1258, 'sell': 1259, 'content': 1260, 'gag': 1261, 'everybodi': 1262, 'slowli': 1263, 'hotel': 1264, 'hire': 1265, 'system': 1266, 'hey': 1267, 'thrown': 1268, 'adam': 1269, 'individu': 1270, 'charl': 1271, 'jone': 1272, 'mediocr': 1273, 'allen': 1274, 'ray': 1275, 'billi': 1276, 'lesson': 1277, 'photographi': 1278, 'cameo': 1279, 'fellow': 1280, 'pari': 1281, 'strike': 1282, 'rise': 1283, 'absurd': 1284, 'brief': 1285, 'independ': 1286, 'neg': 1287, 'phone': 1288, 'impact': 1289, 'ill': 1290, 'born': 1291, 'model': 1292, 'angl': 1293, 'spoil': 1294, 'fresh': 1295, 'abus': 1296, 'likabl': 1297, 'hill': 1298, 'discuss': 1299, 'sight': 1300, 'ahead': 1301, 'photograph': 1302, 'sent': 1303, 'shine': 1304, 'logic': 1305, 'occur': 1306, 'blame': 1307, 'bruce': 1308, 'mainli': 1309, 'skip': 1310, 'forev': 1311, 'commerci': 1312, 'teacher': 1313, 'held': 1314, 'surround': 1315, 'segment': 1316, 'blond': 1317, 'zero': 1318, 'summer': 1319, 'trap': 1320, 'resembl': 1321, 'satir': 1322, 'queen': 1323, 'ball': 1324, 'fool': 1325, 'six': 1326, 'tragedi': 1327, 'sub': 1328, 'twice': 1329, 'pack': 1330, 'reaction': 1331, 'bomb': 1332, 'hospit': 1333, 'will': 1334, 'protagonist': 1335, 'sport': 1336, 'mile': 1337, 'jerri': 1338, 'vote': 1339, 'drink': 1340, 'mom': 1341, 'trust': 1342, 'encount': 1343, 'plane': 1344, 'current': 1345, 'station': 1346, 'program': 1347, 'al': 1348, 'choos': 1349, 'martin': 1350, 'celebr': 1351, 'join': 1352, 'tragic': 1353, 'round': 1354, 'favourit': 1355, 'field': 1356, 'lord': 1357, 'robot': 1358, 'vision': 1359, 'jean': 1360, 'tie': 1361, 'arthur': 1362, 'fortun': 1363, 'roger': 1364, 'random': 1365, 'intern': 1366, 'dread': 1367, 'psycholog': 1368, 'epic': 1369, 'improv': 1370, 'nonsens': 1371, 'prefer': 1372, 'highlight': 1373, 'formula': 1374, 'pleasur': 1375, 'legend': 1376, 'dollar': 1377, 'tape': 1378, '11': 1379, 'wide': 1380, 'object': 1381, 'thin': 1382, 'fox': 1383, 'porn': 1384, 'gorgeou': 1385, 'buddi': 1386, 'influenc': 1387, 'ugli': 1388, 'nasti': 1389, 'prepar': 1390, 'ii': 1391, 'reflect': 1392, 'supposedli': 1393, 'progress': 1394, 'warm': 1395, 'youth': 1396, 'worthi': 1397, 'unusu': 1398, 'length': 1399, 'latter': 1400, 'crash': 1401, 'shop': 1402, 'seven': 1403, 'childhood': 1404, 'superior': 1405, 'remot': 1406, 'theatr': 1407, 'pilot': 1408, 'disgust': 1409, 'funniest': 1410, 'paid': 1411, 'trick': 1412, 'convers': 1413, 'fell': 1414, 'castl': 1415, 'gangster': 1416, 'rob': 1417, 'disast': 1418, 'establish': 1419, 'ident': 1420, 'disappear': 1421, 'suicid': 1422, 'heaven': 1423, 'mine': 1424, 'forgotten': 1425, 'heroin': 1426, 'mask': 1427, 'tend': 1428, 'singer': 1429, 'decis': 1430, 'brian': 1431, 'partner': 1432, 'desert': 1433, 'recogn': 1434, 'alan': 1435, 'ms': 1436, 'thoroughli': 1437, 'stuck': 1438, 'sky': 1439, 'p': 1440, 'accur': 1441, 'replac': 1442, 'market': 1443, 'eddi': 1444, 'uncl': 1445, 'seemingli': 1446, 'clue': 1447, 'danni': 1448, 'commentari': 1449, 'andi': 1450, 'devil': 1451, 'jackson': 1452, 'pair': 1453, 'refus': 1454, 'that': 1455, 'therefor': 1456, 'fate': 1457, 'ed': 1458, 'river': 1459, 'fault': 1460, 'unit': 1461, 'accid': 1462, 'tune': 1463, 'afraid': 1464, 'hidden': 1465, 'clean': 1466, 'stephen': 1467, 'russian': 1468, 'convey': 1469, 'captain': 1470, 'quick': 1471, 'instanc': 1472, 'readi': 1473, 'test': 1474, 'irrit': 1475, 'european': 1476, 'insan': 1477, 'frustrat': 1478, 'daniel': 1479, 'rescu': 1480, '1950': 1481, 'food': 1482, 'wed': 1483, 'chines': 1484, 'lock': 1485, 'dirti': 1486, 'angri': 1487, 'joy': 1488, 'price': 1489, 'steven': 1490, 'bland': 1491, 'cage': 1492, 'anymor': 1493, 'rang': 1494, 'wooden': 1495, 'rush': 1496, 'n': 1497, 'jason': 1498, 'news': 1499, 'martial': 1500, 'board': 1501, 'twenti': 1502, 'led': 1503, '12': 1504, 'worri': 1505, 'transform': 1506, 'hunter': 1507, 'cgi': 1508, 'symbol': 1509, 'johnni': 1510, 'sentiment': 1511, 'invent': 1512, 'piti': 1513, 'x': 1514, 'onto': 1515, 'process': 1516, 'explan': 1517, 'attitud': 1518, 'owner': 1519, 'awar': 1520, 'aim': 1521, 'necessari': 1522, 'floor': 1523, 'energi': 1524, 'favor': 1525, 'target': 1526, 'opposit': 1527, 'religi': 1528, 'window': 1529, 'insight': 1530, 'chick': 1531, 'blind': 1532, 'movement': 1533, 'comparison': 1534, 'deepli': 1535, 'possess': 1536, 'research': 1537, 'mountain': 1538, 'comed': 1539, 'rain': 1540, 'grand': 1541, 'whatsoev': 1542, 'mid': 1543, 'began': 1544, 'shadow': 1545, 'bank': 1546, 'princ': 1547, 'parodi': 1548, 'credibl': 1549, 'pre': 1550, 'weapon': 1551, 'taylor': 1552, 'friendship': 1553, 'flesh': 1554, 'teach': 1555, 'dougla': 1556, 'protect': 1557, 'hint': 1558, 'terror': 1559, 'bloodi': 1560, 'marvel': 1561, 'leader': 1562, 'drunk': 1563, 'load': 1564, 'watchabl': 1565, 'anybodi': 1566, 'superman': 1567, 'accord': 1568, 'freddi': 1569, 'brown': 1570, 'jeff': 1571, 'appropri': 1572, 'tim': 1573, 'seat': 1574, 'hitler': 1575, 'charg': 1576, 'unknown': 1577, 'knock': 1578, 'villag': 1579, 'keaton': 1580, 'media': 1581, 'empti': 1582, 'england': 1583, 'unnecessari': 1584, 'enemi': 1585, 'dare': 1586, 'strength': 1587, 'utter': 1588, 'craft': 1589, 'wave': 1590, 'buck': 1591, 'perspect': 1592, 'contrast': 1593, 'correct': 1594, 'nativ': 1595, 'kiss': 1596, 'ford': 1597, 'magnific': 1598, 'distract': 1599, 'soap': 1600, 'chill': 1601, 'speed': 1602, 'knowledg': 1603, 'anywher': 1604, 'nazi': 1605, '1980': 1606, 'mission': 1607, 'fred': 1608, 'breath': 1609, 'ice': 1610, 'crowd': 1611, 'joan': 1612, 'moon': 1613, 'jr': 1614, 'kate': 1615, 'frighten': 1616, 'soft': 1617, '000': 1618, 'nick': 1619, 'dan': 1620, 'hundr': 1621, 'dick': 1622, 'somebodi': 1623, 'radio': 1624, 'dozen': 1625, 'simon': 1626, 'thousand': 1627, 'loss': 1628, 'shakespear': 1629, 'academi': 1630, 'andrew': 1631, 'root': 1632, 'vehicl': 1633, 'quot': 1634, 'account': 1635, 'sum': 1636, 'convent': 1637, 'behavior': 1638, '1970': 1639, 'leg': 1640, 'gold': 1641, 'regular': 1642, 'pretenti': 1643, 'worker': 1644, 'demand': 1645, 'compet': 1646, 'candi': 1647, 'privat': 1648, 'japan': 1649, 'notabl': 1650, 'stretch': 1651, 'explos': 1652, 'interpret': 1653, 'lynch': 1654, 'tarzan': 1655, 'debut': 1656, 'constant': 1657, 'revolv': 1658, 'spi': 1659, 'prais': 1660, 'sea': 1661, 'translat': 1662, 'failur': 1663, 'technolog': 1664, 'quiet': 1665, 'threaten': 1666, 'sat': 1667, 'franc': 1668, 'ass': 1669, 'jesu': 1670, 'met': 1671, 'aid': 1672, 'higher': 1673, 'kevin': 1674, 'punch': 1675, 'toy': 1676, 'interact': 1677, 'mike': 1678, 'abandon': 1679, 'vh': 1680, 'command': 1681, 'separ': 1682, 'confront': 1683, 'bet': 1684, 'gotten': 1685, 'belong': 1686, 'servic': 1687, 'site': 1688, 'recal': 1689, 'techniqu': 1690, 'stunt': 1691, 'cabl': 1692, 'freak': 1693, 'bug': 1694, 'foot': 1695, 'african': 1696, 'jimmi': 1697, 'fu': 1698, 'bright': 1699, 'capabl': 1700, 'succeed': 1701, 'boat': 1702, 'clark': 1703, 'presid': 1704, 'fat': 1705, 'stock': 1706, 'structur': 1707, 'gene': 1708, 'spanish': 1709, 'paper': 1710, 'kidnap': 1711, 'belief': 1712, 'factor': 1713, 'whilst': 1714, 'realism': 1715, 'complic': 1716, 'tree': 1717, 'realis': 1718, 'bob': 1719, 'educ': 1720, 'witti': 1721, 'attend': 1722, 'broken': 1723, 'assist': 1724, 'finest': 1725, 'santa': 1726, 'determin': 1727, 'depart': 1728, 'up': 1729, 'v': 1730, 'smoke': 1731, 'observ': 1732, 'fame': 1733, 'domin': 1734, 'oper': 1735, 'lewi': 1736, 'hat': 1737, 'routin': 1738, 'rubbish': 1739, 'lone': 1740, 'advanc': 1741, 'kinda': 1742, 'foreign': 1743, 'hook': 1744, 'safe': 1745, 'morgan': 1746, 'rank': 1747, 'numer': 1748, 'civil': 1749, 'vs': 1750, 'shallow': 1751, 'werewolf': 1752, 'rose': 1753, 'shape': 1754, 'washington': 1755, 'gari': 1756, 'morn': 1757, 'winner': 1758, 'accomplish': 1759, 'kong': 1760, 'ordinari': 1761, 'virtual': 1762, 'whenev': 1763, 'peac': 1764, 'grab': 1765, 'luck': 1766, 'offens': 1767, 'h': 1768, 'patient': 1769, 'contriv': 1770, 'complain': 1771, 'activ': 1772, 'welcom': 1773, 'bigger': 1774, 'unfunni': 1775, 'trek': 1776, 'dimension': 1777, 'con': 1778, 'pretend': 1779, 'eric': 1780, 'code': 1781, 'lesbian': 1782, 'wake': 1783, 'flash': 1784, 'cain': 1785, 'dri': 1786, 'albert': 1787, 'statu': 1788, 'guard': 1789, 'manipul': 1790, 'corrupt': 1791, 'dancer': 1792, 'awkward': 1793, 'gain': 1794, 'signific': 1795, 'speech': 1796, 'sourc': 1797, 'context': 1798, 'sean': 1799, 'psycho': 1800, 'anthoni': 1801, 'corni': 1802, 'clip': 1803, '13': 1804, 'w': 1805, 'curiou': 1806, 'theatric': 1807, 'reli': 1808, 'religion': 1809, 'priest': 1810, 'advic': 1811, 'flow': 1812, 'addict': 1813, 'asian': 1814, 'secur': 1815, 'jennif': 1816, 'skin': 1817, 'howard': 1818, 'specif': 1819, 'promot': 1820, 'organ': 1821, 'core': 1822, 'comfort': 1823, 'luke': 1824, 'golden': 1825, 'cheat': 1826, 'lucki': 1827, 'cash': 1828, 'dislik': 1829, 'lower': 1830, 'associ': 1831, 'wing': 1832, 'regret': 1833, 'frequent': 1834, 'frankli': 1835, 'contribut': 1836, 'spell': 1837, 'balanc': 1838, 'devic': 1839, 'degre': 1840, 'sake': 1841, 'forgiv': 1842, 'lake': 1843, 'print': 1844, 'mass': 1845, 'thoma': 1846, 'betti': 1847, 'gordon': 1848, 'unexpect': 1849, 'crack': 1850, 'depend': 1851, 'grown': 1852, 'unfold': 1853, 'amateur': 1854, 'categori': 1855, 'construct': 1856, 'invit': 1857, 'matur': 1858, 'anna': 1859, 'walter': 1860, 'intellectu': 1861, 'honor': 1862, 'grew': 1863, 'condit': 1864, 'spectacular': 1865, 'mirror': 1866, 'sole': 1867, 'sudden': 1868, 'veteran': 1869, 'demonstr': 1870, 'liner': 1871, 'card': 1872, 'robin': 1873, 'meanwhil': 1874, 'experienc': 1875, 'overli': 1876, 'grip': 1877, 'freedom': 1878, 'gift': 1879, 'drew': 1880, 'circumst': 1881, 'unabl': 1882, 'colour': 1883, 'sheriff': 1884, 'section': 1885, 'crappi': 1886, 'brilliantli': 1887, 'subtitl': 1888, 'oliv': 1889, 'theori': 1890, 'matt': 1891, 'parker': 1892, 'altern': 1893, 'sheer': 1894, 'path': 1895, 'pile': 1896, 'laughter': 1897, 'cook': 1898, 'wander': 1899, 'hall': 1900, 'accident': 1901, 'relief': 1902, 'treatment': 1903, 'defin': 1904, 'sinatra': 1905, 'lawyer': 1906, 'dragon': 1907, 'hank': 1908, 'captiv': 1909, 'gratuit': 1910, 'halloween': 1911, 'moor': 1912, 'unintent': 1913, 'jacki': 1914, 'broadway': 1915, 'wayn': 1916, 'k': 1917, 'cowboy': 1918, 'wound': 1919, 'barbara': 1920, 'kung': 1921, 'winter': 1922, 'spoof': 1923, 'statement': 1924, 'surreal': 1925, 'canadian': 1926, 'cheer': 1927, 'compos': 1928, 'fish': 1929, 'gonna': 1930, 'fare': 1931, 'treasur': 1932, 'sensit': 1933, 'victor': 1934, 'emerg': 1935, 'woodi': 1936, 'unrealist': 1937, 'sympathet': 1938, 'driven': 1939, 'ran': 1940, 'neighbor': 1941, 'authent': 1942, 'menac': 1943, 'expos': 1944, 'overlook': 1945, 'topic': 1946, 'glass': 1947, 'ancient': 1948, 'handsom': 1949, 'chief': 1950, 'gross': 1951, 'michel': 1952, 'comedian': 1953, 'contemporari': 1954, 'feet': 1955, 'nevertheless': 1956, 'network': 1957, 'built': 1958, 'pleasant': 1959, 'stranger': 1960, 'russel': 1961, 'cinderella': 1962, 'miser': 1963, 'gori': 1964, 'blockbust': 1965, 'endless': 1966, 'underr': 1967, 'letter': 1968, 'earn': 1969, 'consider': 1970, 'solv': 1971, 'brook': 1972, 'switch': 1973, 'victoria': 1974, 'bullet': 1975, 'edward': 1976, 'joseph': 1977, 'virgin': 1978, 'convict': 1979, '0': 1980, 'cynic': 1981, 'alex': 1982, 'scale': 1983, 'scenario': 1984, 'chosen': 1985, 'sword': 1986, 'gut': 1987, 'com': 1988, 'outrag': 1989, 'curs': 1990, 'screenwrit': 1991, 'juli': 1992, 'uk': 1993, 'monkey': 1994, 'proper': 1995, 'driver': 1996, 'substanc': 1997, 'wrap': 1998, 'bird': 1999, 'indic': 2000, 'court': 2001, 'remov': 2002, 'par': 2003, 'loser': 2004, 'rental': 2005, 'advertis': 2006, 'inevit': 2007, 'roy': 2008, 'nanci': 2009, 'naiv': 2010, 'consequ': 2011, 'grave': 2012, 'fatal': 2013, 'slap': 2014, 'brave': 2015, 'invis': 2016, 'bridg': 2017, 'le': 2018, 'germani': 2019, 'provok': 2020, 'loui': 2021, 'footbal': 2022, 'anger': 2023, 'ador': 2024, 'chan': 2025, 'alcohol': 2026, 'anderson': 2027, 'stumbl': 2028, 'ryan': 2029, 'professor': 2030, 'willi': 2031, '1930': 2032, 'assassin': 2033, 'patrick': 2034, 'sharp': 2035, 'australian': 2036, 'bat': 2037, 'cell': 2038, 'refresh': 2039, 'liber': 2040, 'amateurish': 2041, 'strongli': 2042, 'ape': 2043, 'saturday': 2044, 'heck': 2045, 'lousi': 2046, 'eight': 2047, 'trilog': 2048, 'deni': 2049, 'sin': 2050, 'resid': 2051, 'san': 2052, 'vagu': 2053, 'justifi': 2054, 'sympathi': 2055, 'indi': 2056, 'mini': 2057, 'creator': 2058, 'defeat': 2059, 'terrifi': 2060, 'reput': 2061, 'prevent': 2062, 'tediou': 2063, 'expert': 2064, 'endur': 2065, 'task': 2066, 'tabl': 2067, 'basebal': 2068, 'offend': 2069, 'employ': 2070, 'rival': 2071, 'che': 2072, 'trial': 2073, 'imit': 2074, 'pitch': 2075, 'dig': 2076, 'europ': 2077, 'complaint': 2078, 'beach': 2079, 'weekend': 2080, 'max': 2081, 'fairi': 2082, 'murphi': 2083, 'purchas': 2084, 'format': 2085, 'risk': 2086, 'reminisc': 2087, 'hype': 2088, 'nois': 2089, 'titan': 2090, 'harsh': 2091, 'tini': 2092, 'bite': 2093, 'glimps': 2094, 'powel': 2095, 'prime': 2096, 'strip': 2097, 'asleep': 2098, 'fals': 2099, '14': 2100, 'north': 2101, 'till': 2102, 'africa': 2103, 'destruct': 2104, 'revel': 2105, 'texa': 2106, 'descript': 2107, 'inner': 2108, 'semi': 2109, 'surfac': 2110, 'excess': 2111, 'uninterest': 2112, 'sitcom': 2113, 'spin': 2114, 'arrest': 2115, 'controversi': 2116, 'argu': 2117, 'hitchcock': 2118, 'twin': 2119, 'dinosaur': 2120, 'massiv': 2121, 'makeup': 2122, 'maintain': 2123, 'ideal': 2124, 'melodrama': 2125, 'kim': 2126, 'expens': 2127, 'ludicr': 2128, 'stare': 2129, 'reject': 2130, 'insist': 2131, 'nail': 2132, 'erot': 2133, 'ala': 2134, 'host': 2135, 'subplot': 2136, 'atroci': 2137, 'forest': 2138, 'supernatur': 2139, 'ga': 2140, 'press': 2141, 'columbo': 2142, 'cant': 2143, 'identifi': 2144, 'dude': 2145, 'presum': 2146, 'notch': 2147, 'character': 2148, 'plagu': 2149, 'crude': 2150, 'method': 2151, 'guest': 2152, 'closer': 2153, 'forgett': 2154, 'lion': 2155, 'landscap': 2156, 'ear': 2157, 'foster': 2158, 'border': 2159, 'beast': 2160, 'princess': 2161, 'jungl': 2162, 'previous': 2163, 'birth': 2164, 'pacino': 2165, 'aunt': 2166, 'storytel': 2167, 'urban': 2168, 'accus': 2169, 'damag': 2170, 'bound': 2171, 'thirti': 2172, 'chose': 2173, 'doll': 2174, 'nude': 2175, 'propaganda': 2176, 'guid': 2177, 'emma': 2178, 'jess': 2179, 'mainstream': 2180, 'mate': 2181, '25': 2182, 'whoever': 2183, 'warrior': 2184, 'pet': 2185, 'cooper': 2186, 'upset': 2187, 'deadli': 2188, 'latest': 2189, 'size': 2190, 'friday': 2191, 'merit': 2192, 'gritti': 2193, 'exact': 2194, 'poster': 2195, 'buff': 2196, 'contest': 2197, 'contact': 2198, '1990': 2199, 'popul': 2200, 'rough': 2201, 'citizen': 2202, 'wilson': 2203, 'ton': 2204, 'warner': 2205, 'corps': 2206, 'sun': 2207, 'settl': 2208, 'blend': 2209, 'select': 2210, 'alic': 2211, 'mgm': 2212, 'overcom': 2213, 'environ': 2214, 'bu': 2215, 'widow': 2216, 'rat': 2217, 'pitt': 2218, 'metal': 2219, 'ted': 2220, 'lift': 2221, 'link': 2222, 'particip': 2223, 'revolut': 2224, 'guilti': 2225, 'accompani': 2226, 'prostitut': 2227, 'exagger': 2228, 'corner': 2229, 'johnson': 2230, 'corpor': 2231, 'moron': 2232, 'matrix': 2233, 'afternoon': 2234, '1960': 2235, 'doom': 2236, 'leagu': 2237, 'sincer': 2238, 'instal': 2239, 'hood': 2240, 'friendli': 2241, 'multipl': 2242, 'clair': 2243, 'holm': 2244, 'campi': 2245, 'junk': 2246, 'examin': 2247, 'advis': 2248, 'aka': 2249, 'hip': 2250, 'defend': 2251, 'grim': 2252, 'string': 2253, 'irish': 2254, 'sunday': 2255, 'lugosi': 2256, 'blah': 2257, 'varieti': 2258, 'rachel': 2259, 'pro': 2260, 'confid': 2261, 'shake': 2262, 'icon': 2263, 'tight': 2264, 'shut': 2265, 'directli': 2266, 'medic': 2267, 'sullivan': 2268, 'mexican': 2269, 'goal': 2270, 'attach': 2271, 'jaw': 2272, 'denni': 2273, 'truck': 2274, 'courag': 2275, 'sarah': 2276, 'prior': 2277, 'legendari': 2278, 'breast': 2279, 'dean': 2280, 'sentenc': 2281, 'duke': 2282, 'vietnam': 2283, 'terrorist': 2284, 'bourn': 2285, 'entri': 2286, 'split': 2287, 'nose': 2288, 'un': 2289, 'yell': 2290, 'behav': 2291, 'hong': 2292, 'proceed': 2293, 'donald': 2294, 'concentr': 2295, 'everywher': 2296, 'borrow': 2297, 'confess': 2298, 'lifetim': 2299, 'stolen': 2300, 'forth': 2301, 'jerk': 2302, 'crush': 2303, 'gather': 2304, 'unconvinc': 2305, 'buri': 2306, 'swim': 2307, 'deliveri': 2308, 'turkey': 2309, 'pan': 2310, 'lip': 2311, 'julia': 2312, 'spite': 2313, 'california': 2314, 'downright': 2315, 'china': 2316, 'proud': 2317, 'reward': 2318, 'quest': 2319, 'hoffman': 2320, 'offici': 2321, 'flight': 2322, 'freeman': 2323, 'inept': 2324, 'fabul': 2325, 'worthwhil': 2326, 'encourag': 2327, 'fade': 2328, 'jail': 2329, 'sink': 2330, 'sir': 2331, 'jon': 2332, 'notori': 2333, 'betray': 2334, 'lazi': 2335, 'lisa': 2336, 'bag': 2337, 'storm': 2338, 'relev': 2339, 'bell': 2340, 'retard': 2341, 'imageri': 2342, 'susan': 2343, 'cousin': 2344, 'shower': 2345, 'survivor': 2346, 'teeth': 2347, 'branagh': 2348, 'bride': 2349, 'summari': 2350, 'stab': 2351, 'mexico': 2352, 'tremend': 2353, 'facial': 2354, 'quirki': 2355, 'alright': 2356, 'trade': 2357, 'shark': 2358, 'toler': 2359, 'hugh': 2360, 'finger': 2361, 'hyster': 2362, 'pose': 2363, 'bitter': 2364, 'blown': 2365, 'von': 2366, 'ha': 2367, 'scheme': 2368, 'afterward': 2369, 'address': 2370, 'ron': 2371, 'cruel': 2372, 'larri': 2373, 'bone': 2374, 'christ': 2375, 'ned': 2376, 'snake': 2377, 'screw': 2378, 'tour': 2379, 'pursu': 2380, 'feed': 2381, 'thumb': 2382, 'distinct': 2383, 'beg': 2384, 'traci': 2385, 'swear': 2386, 'obscur': 2387, 'mechan': 2388, 'stomach': 2389, 'chair': 2390, 'raw': 2391, 'photo': 2392, 'occas': 2393, 'heavili': 2394, 'chain': 2395, 'necessarili': 2396, 'resist': 2397, 'holiday': 2398, 'hardi': 2399, 'argument': 2400, 'gruesom': 2401, 'sidney': 2402, 'southern': 2403, 'cabin': 2404, 'render': 2405, 'philip': 2406, 'indulg': 2407, 'india': 2408, 'racist': 2409, 'understood': 2410, 'satan': 2411, 'obnoxi': 2412, 'stalk': 2413, 'forgot': 2414, 'lay': 2415, 'pregnant': 2416, 'tongu': 2417, 'outfit': 2418, 'integr': 2419, 'midnight': 2420, 'fourth': 2421, 'belov': 2422, 'ticket': 2423, 'deeper': 2424, 'restor': 2425, 'inhabit': 2426, 'carol': 2427, 'slapstick': 2428, '17': 2429, 'garden': 2430, 'magazin': 2431, 'brad': 2432, 'incid': 2433, 'devot': 2434, 'lincoln': 2435, 'shoe': 2436, 'divorc': 2437, 'benefit': 2438, 'anticip': 2439, 'disbelief': 2440, 'underground': 2441, 'elizabeth': 2442, 'lili': 2443, 'sandler': 2444, 'guarante': 2445, 'maria': 2446, 'amazingli': 2447, 'capit': 2448, 'cring': 2449, 'creation': 2450, 'princip': 2451, 'bbc': 2452, 'slave': 2453, 'explod': 2454, 'mildli': 2455, 'greater': 2456, 'halfway': 2457, 'extraordinari': 2458, 'introduct': 2459, 'lesli': 2460, 'funnier': 2461, 'enhanc': 2462, 'text': 2463, 'overwhelm': 2464, 'extent': 2465, 'advantag': 2466, 'wreck': 2467, 'tap': 2468, 'punish': 2469, 'transfer': 2470, 'plant': 2471, 'dynam': 2472, 'horrif': 2473, 'error': 2474, 'preview': 2475, 'deliber': 2476, 'lo': 2477, 'jessica': 2478, 'east': 2479, 'lane': 2480, '2000': 2481, 'homosexu': 2482, 'vacat': 2483, 'sophist': 2484, 'miscast': 2485, 'appli': 2486, 'ensu': 2487, 'basi': 2488, 'vincent': 2489, 'miller': 2490, 'spoken': 2491, 'uncomfort': 2492, 'elev': 2493, 'steel': 2494, 'measur': 2495, 'sleazi': 2496, 'extend': 2497, 'via': 2498, 'reed': 2499, 'bollywood': 2500, 'mansion': 2501, 'fix': 2502, 'assign': 2503, 'savag': 2504, 'mous': 2505, 'conceiv': 2506, 'goofi': 2507, 'stanley': 2508, 'beer': 2509, 'overact': 2510, 'cathol': 2511, 'breathtak': 2512, 'daili': 2513, 'blair': 2514, 'melt': 2515, 'alter': 2516, 'dentist': 2517, 'hippi': 2518, 'oppos': 2519, 'burt': 2520, 'properli': 2521, 'sacrific': 2522, 'everyday': 2523, 'inspector': 2524, 'carpent': 2525, 'nowaday': 2526, 'subsequ': 2527, 'succe': 2528, 'circl': 2529, 'neck': 2530, 'massacr': 2531, 'laura': 2532, 'block': 2533, 'grey': 2534, 'mob': 2535, 'pool': 2536, 'access': 2537, 'concert': 2538, 'seagal': 2539, 'lesser': 2540, 'fallen': 2541, 'portrait': 2542, 'christi': 2543, 'fay': 2544, 'jewish': 2545, 'competit': 2546, 'chees': 2547, 'react': 2548, 'relax': 2549, 'usa': 2550, 'isol': 2551, 'sinist': 2552, 'jake': 2553, 'nonetheless': 2554, 'nine': 2555, '2006': 2556, 'creep': 2557, 'lyric': 2558, 'immens': 2559, 'stink': 2560, 'chop': 2561, 'appal': 2562, 'spiritu': 2563, 'suitabl': 2564, 'ironi': 2565, 'spring': 2566, 'nut': 2567, 'shirt': 2568, 'retir': 2569, 'rage': 2570, 'navi': 2571, 'reduc': 2572, 'adopt': 2573, 'sold': 2574, 'luci': 2575, 'needless': 2576, 'franchis': 2577, 'user': 2578, 'showcas': 2579, 'uninspir': 2580, 'nurs': 2581, 'jay': 2582, 'stanwyck': 2583, 'asham': 2584, 'digit': 2585, 'zone': 2586, 'bath': 2587, 'per': 2588, 'bulli': 2589, 'amongst': 2590, 'upper': 2591, 'oddli': 2592, 'broadcast': 2593, 'illustr': 2594, '2001': 2595, 'sutherland': 2596, '1940': 2597, 'laid': 2598, 'disguis': 2599, 'stylish': 2600, 'aspir': 2601, 'throat': 2602, 'baker': 2603, 'brando': 2604, 'fulfil': 2605, '18': 2606, 'neighborhood': 2607, 'pound': 2608, 'impli': 2609, 'endear': 2610, 'em': 2611, 'nobl': 2612, 'wwii': 2613, 'pride': 2614, 'thief': 2615, 'wanna': 2616, 'tens': 2617, 'dawn': 2618, 'shift': 2619, 'shoulder': 2620, 'coher': 2621, 'distribut': 2622, 'rochest': 2623, 'cinematograph': 2624, 'prop': 2625, 'diseas': 2626, 'dinner': 2627, 'bo': 2628, '16': 2629, 'albeit': 2630, 'bett': 2631, 'silenc': 2632, 'poignant': 2633, 'knife': 2634, 'shout': 2635, 'wash': 2636, 'function': 2637, 'forti': 2638, 'snow': 2639, 'rebel': 2640, 'surf': 2641, 'contract': 2642, 'matthau': 2643, 'proof': 2644, 'cancel': 2645, 'henc': 2646, 'cannib': 2647, 'duti': 2648, 'chuck': 2649, 'height': 2650, 'mindless': 2651, 'heat': 2652, 'instinct': 2653, 'horrend': 2654, 'derek': 2655, 'elvira': 2656, 'widmark': 2657, 'internet': 2658, 'eeri': 2659, 'silver': 2660, 'reunion': 2661, 'greatli': 2662, 'innov': 2663, 'musician': 2664, 'torn': 2665, 'glori': 2666, 'pie': 2667, 'etern': 2668, 'alik': 2669, 'absorb': 2670, 'premier': 2671, 'incoher': 2672, 'mill': 2673, 'repetit': 2674, 'neat': 2675, 'spielberg': 2676, 'elvi': 2677, 'britain': 2678, 'crisi': 2679, 'wealthi': 2680, 'infam': 2681, 'nelson': 2682, 'lovabl': 2683, 'blank': 2684, 'racism': 2685, 'redempt': 2686, 'homag': 2687, 'horrifi': 2688, 'fbi': 2689, 'itali': 2690, 'precis': 2691, 'trite': 2692, 'announc': 2693, 'bang': 2694, 'diamond': 2695, 'burton': 2696, 'wilder': 2697, 'pat': 2698, 'helen': 2699, 'happili': 2700, 'ensembl': 2701, 'dedic': 2702, 'resolut': 2703, 'parallel': 2704, 'streisand': 2705, 'flop': 2706, 'chaplin': 2707, 'hammer': 2708, 'carter': 2709, 'plastic': 2710, 'factori': 2711, 'broke': 2712, 'mar': 2713, 'disagre': 2714, 'triumph': 2715, 'conclud': 2716, 'st': 2717, 'oil': 2718, 'cube': 2719, 'march': 2720, 'chuckl': 2721, 'own': 2722, 'bush': 2723, 'climb': 2724, 'fighter': 2725, 'rocket': 2726, 'weight': 2727, 'row': 2728, 'vega': 2729, 'dump': 2730, 'sensibl': 2731, 'meaning': 2732, 'enorm': 2733, 'boot': 2734, 'mst3k': 2735, 'unforgett': 2736, 'spare': 2737, 'kurt': 2738, 'lust': 2739, 'wherea': 2740, 'thug': 2741, 'dane': 2742, 'luca': 2743, 'engin': 2744, 'stress': 2745, 'butt': 2746, 'arnold': 2747, 'brand': 2748, 'bobbi': 2749, 'caricatur': 2750, 'rap': 2751, 'difficulti': 2752, 'adequ': 2753, 'dear': 2754, 'threat': 2755, 'fifti': 2756, 'karloff': 2757, 'journalist': 2758, 'fest': 2759, 'arrog': 2760, 'secretari': 2761, 'polish': 2762, 'ego': 2763, 'swing': 2764, 'barri': 2765, 'elabor': 2766, 'ralph': 2767, 'hamlet': 2768, 'homeless': 2769, 'flynn': 2770, 'tool': 2771, 'simpson': 2772, 'conspiraci': 2773, 'unbear': 2774, 'resort': 2775, 'float': 2776, 'fanci': 2777, 'arrang': 2778, 'grate': 2779, 'puppet': 2780, 'induc': 2781, 'spike': 2782, 'tribut': 2783, 'boll': 2784, 'cruis': 2785, 'muppet': 2786, 'choreograph': 2787, 'basement': 2788, 'exercis': 2789, 'pig': 2790, 'guilt': 2791, 'phillip': 2792, 'layer': 2793, 'fianc': 2794, 'file': 2795, 'ham': 2796, 'editor': 2797, 'korean': 2798, 'puzzl': 2799, 'item': 2800, 'ward': 2801, '24': 2802, 'tower': 2803, 'scarecrow': 2804, 'document': 2805, 'medium': 2806, 'babe': 2807, 'slip': 2808, 'toilet': 2809, 'stan': 2810, 'larger': 2811, 'librari': 2812, 'glover': 2813, 'orient': 2814, 'assur': 2815, 'inexplic': 2816, 'minim': 2817, 'philosoph': 2818, 'slaughter': 2819, 'territori': 2820, 'denzel': 2821, 'portion': 2822, 'persona': 2823, 'doc': 2824, 'transit': 2825, 'catherin': 2826, 'superfici': 2827, 'spark': 2828, 'jeremi': 2829, 'financi': 2830, 'curti': 2831, 'walken': 2832, 'ban': 2833, 'wolf': 2834, 'sneak': 2835, 'boredom': 2836, 'shi': 2837, 'dorothi': 2838, 'owe': 2839, 'jet': 2840, 'pg': 2841, 'eleph': 2842, 'ambigu': 2843, 'backdrop': 2844, 'multi': 2845, 'whale': 2846, 'cusack': 2847, 'profound': 2848, 'metaphor': 2849, 'hudson': 2850, 'elsewher': 2851, 'implaus': 2852, 'ultra': 2853, 'notion': 2854, '2005': 2855, 'birthday': 2856, 'stiff': 2857, 'hack': 2858, 'union': 2859, 'rave': 2860, 'gadget': 2861, 'viru': 2862, 'canada': 2863, 'poison': 2864, 'deriv': 2865, 'squar': 2866, 'pad': 2867, 'bibl': 2868, 'reader': 2869, 'distanc': 2870, 'lloyd': 2871, 'eastwood': 2872, 'superhero': 2873, 'disc': 2874, 'afford': 2875, 'slight': 2876, 'urg': 2877, 'eva': 2878, 'newspap': 2879, 'hawk': 2880, '1st': 2881, 'charisma': 2882, 'button': 2883, 'sadist': 2884, 'skit': 2885, 'drown': 2886, 'health': 2887, 'essenc': 2888, 'huh': 2889, 'heston': 2890, 'montag': 2891, 'cure': 2892, 'restaur': 2893, 'spread': 2894, 'gradual': 2895, 'estat': 2896, 'invest': 2897, 'companion': 2898, 'lab': 2899, 'dealt': 2900, 'maniac': 2901, 'muslim': 2902, 'godfath': 2903, 'scoobi': 2904, 'peak': 2905, 'fetch': 2906, 'alli': 2907, 'tea': 2908, 'countless': 2909, 'kane': 2910, 'servant': 2911, 'subtleti': 2912, 'miik': 2913, 'ritter': 2914, 'cup': 2915, 'gothic': 2916, 'charismat': 2917, 'iii': 2918, 'electr': 2919, 'briefli': 2920, 'heroic': 2921, 'elect': 2922, 'salli': 2923, 'cole': 2924, 'toss': 2925, 'resourc': 2926, 'neil': 2927, 'nuanc': 2928, 'ingredi': 2929, 'bud': 2930, 'tender': 2931, 'wannab': 2932, 'reel': 2933, 'admittedli': 2934, 'grandmoth': 2935, 'shall': 2936, 'stronger': 2937, 'label': 2938, 'reev': 2939, 'punk': 2940, 'carrey': 2941, 'gate': 2942, 'mafia': 2943, 'kubrick': 2944, 'poverti': 2945, 'dawson': 2946, 'stood': 2947, 'mild': 2948, 'pit': 2949, 'pauli': 2950, 'smooth': 2951, 'cardboard': 2952, 'burst': 2953, 'easier': 2954, 'tag': 2955, 'useless': 2956, 'outcom': 2957, 'astair': 2958, 'terri': 2959, 'ian': 2960, 'smash': 2961, 'assault': 2962, 'cox': 2963, 'updat': 2964, 'fond': 2965, 'bakshi': 2966, 'fist': 2967, 'samurai': 2968, 'increasingli': 2969, 'divers': 2970, 'coincid': 2971, 'sketch': 2972, 'qualifi': 2973, 'rex': 2974, 'exchang': 2975, 'vari': 2976, 'resolv': 2977, 'vulner': 2978, '2002': 2979, 'melodramat': 2980, 'templ': 2981, 'scratch': 2982, 'luckili': 2983, 'be': 2984, 'brillianc': 2985, 'insert': 2986, 'suspend': 2987, 'tame': 2988, 'blast': 2989, 'reynold': 2990, 'conveni': 2991, 'hamilton': 2992, 'strictli': 2993, 'farm': 2994, 'pin': 2995, 'walker': 2996, 'jami': 2997, 'coach': 2998, 'nuclear': 2999, 'meat': 3000, 'soprano': 3001, 'ambiti': 3002, 'seventi': 3003, 'matthew': 3004, 'gotta': 3005, 'fisher': 3006, 'cave': 3007, 'kudo': 3008, 'instantli': 3009, 'timeless': 3010, 'eccentr': 3011, 'struck': 3012, 'butcher': 3013, 'monk': 3014, 'clock': 3015, 'recreat': 3016, 'discoveri': 3017, 'brosnan': 3018, 'joey': 3019, 'closet': 3020, 'ninja': 3021, 'grasp': 3022, 'spooki': 3023, 'worthless': 3024, 'revers': 3025, 'convolut': 3026, 'empir': 3027, 'evok': 3028, 'clown': 3029, 'bleak': 3030, 'communist': 3031, 'inconsist': 3032, 'declar': 3033, 'mitchel': 3034, 'norman': 3035, 'wipe': 3036, 'sloppi': 3037, 'sidekick': 3038, 'fifteen': 3039, 'eighti': 3040, 'selfish': 3041, 'pal': 3042, 'seller': 3043, 'importantli': 3044, 'miracl': 3045, 'partli': 3046, 'gray': 3047, 'cliff': 3048, 'chew': 3049, 'flawless': 3050, 'websit': 3051, 'enthusiast': 3052, 'superbl': 3053, 'debat': 3054, 'cheek': 3055, 'farc': 3056, 'ho': 3057, 'stoog': 3058, 'lifestyl': 3059, 'destin': 3060, '45': 3061, 'psychiatrist': 3062, 'seed': 3063, 'australia': 3064, 'piano': 3065, 'aforement': 3066, 'abc': 3067, 'regardless': 3068, 'directori': 3069, 'wick': 3070, 'splatter': 3071, 'emili': 3072, 'slice': 3073, 'akshay': 3074, 'drivel': 3075, 'kitchen': 3076, 'pressur': 3077, 'anni': 3078, 'soviet': 3079, 'incompet': 3080, 'dash': 3081, 'dire': 3082, 'bash': 3083, 'wrestl': 3084, 'duo': 3085, 'boil': 3086, 'pleasantli': 3087, 'mann': 3088, 'cagney': 3089, 'jar': 3090, 'cameron': 3091, 'distant': 3092, 'artifici': 3093, 'suppli': 3094, 'recov': 3095, 'beaten': 3096, 'chapter': 3097, 'glow': 3098, 'curios': 3099, 'helicopt': 3100, 'cia': 3101, 'prize': 3102, 'judi': 3103, 'seduc': 3104, 'ken': 3105, 'lou': 3106, 'increas': 3107, 'doo': 3108, 'dave': 3109, 'blob': 3110, 'flower': 3111, 'combat': 3112, 'splendid': 3113, 'web': 3114, 'laurel': 3115, 'perri': 3116, 'craig': 3117, 'goldberg': 3118, 'turner': 3119, 'drunken': 3120, 'ranger': 3121, 'hop': 3122, 'psychot': 3123, 'francisco': 3124, 'ellen': 3125, 'favour': 3126, 'glenn': 3127, 'panic': 3128, 'craven': 3129, 'eleg': 3130, 'graduat': 3131, 'wizard': 3132, 'philosophi': 3133, 'greek': 3134, 'rid': 3135, 'slightest': 3136, 'hatr': 3137, 'flip': 3138, '20th': 3139, 'gentl': 3140, 'shortli': 3141, 'plausibl': 3142, 'alexand': 3143, 'fx': 3144, 'ruth': 3145, 'min': 3146, 'falk': 3147, 'modesti': 3148, 'gandhi': 3149, 'legal': 3150, 'ocean': 3151, 'fund': 3152, 'futurist': 3153, 'unpleas': 3154, 'harm': 3155, 'knight': 3156, 'tall': 3157, 'manhattan': 3158, 'preciou': 3159, 'lend': 3160, 'jealou': 3161, 'holi': 3162, 'dracula': 3163, 'felix': 3164, 'we': 3165, 'digniti': 3166, 'reviv': 3167, 'explicit': 3168, 'thread': 3169, 'childish': 3170, 'giallo': 3171, 'nod': 3172, 'mock': 3173, 'overdon': 3174, 'ami': 3175, 'tank': 3176, 'scientif': 3177, 'bless': 3178, 'forbidden': 3179, 'margaret': 3180, 'fever': 3181, '2004': 3182, 'elderli': 3183, 'torment': 3184, 'awaken': 3185, 'unwatch': 3186, 'awe': 3187, 'yesterday': 3188, 'broad': 3189, 'thick': 3190, 'repeatedli': 3191, 'mel': 3192, 'verhoeven': 3193, 'nerv': 3194, '99': 3195, 'eve': 3196, 'pirat': 3197, 'politician': 3198, 'royal': 3199, 'kay': 3200, 'eas': 3201, 'ambit': 3202, 'bin': 3203, 'romero': 3204, 'launch': 3205, 'absenc': 3206, 'uniform': 3207, 'ah': 3208, 'acclaim': 3209, 'custom': 3210, 'automat': 3211, 'rivet': 3212, 'timothi': 3213, 'roman': 3214, 'lean': 3215, 'publish': 3216, 'stiller': 3217, 'griffith': 3218, 'termin': 3219, 'crook': 3220, 'gabriel': 3221, 'phrase': 3222, 'wallac': 3223, 'transport': 3224, 'purpl': 3225, 'foul': 3226, 'bathroom': 3227, 'pierc': 3228, 'warren': 3229, 'tomato': 3230, 'stinker': 3231, 'homicid': 3232, 'sunshin': 3233, 'pulp': 3234, 'antic': 3235, 'darker': 3236, 'karen': 3237, 'brazil': 3238, '2003': 3239, 'juvenil': 3240, 'hollow': 3241, 'viciou': 3242, 'rambo': 3243, 'saint': 3244, 'awak': 3245, 'ought': 3246, 'donna': 3247, 'packag': 3248, 'revolutionari': 3249, 'q': 3250, 'album': 3251, 'li': 3252, 'choreographi': 3253, 'eyr': 3254, 'prom': 3255, 'marin': 3256, 'pray': 3257, 'horrid': 3258, 'kenneth': 3259, 'sixti': 3260, 'evolv': 3261, 'contrari': 3262, 'coloni': 3263, 'boast': 3264, 'overr': 3265, 'candid': 3266, 'nerd': 3267, 'conserv': 3268, 'blade': 3269, 'ireland': 3270, 'stole': 3271, 'beatti': 3272, 'option': 3273, 'dose': 3274, 'defi': 3275, 'twelv': 3276, 'kapoor': 3277, 'ramon': 3278, 'mummi': 3279, 'mildr': 3280, 'astonish': 3281, 'trio': 3282, 'kirk': 3283, 'jazz': 3284, 'fulci': 3285, 'detract': 3286, 'confirm': 3287, 'global': 3288, 'collabor': 3289, 'funer': 3290, 'protest': 3291, 'flame': 3292, 'natali': 3293, 'altman': 3294, 'mystic': 3295, 'enterpris': 3296, 'bottl': 3297, 'delici': 3298, 'shade': 3299, 'bull': 3300, 'tommi': 3301, 'yellow': 3302, 'spit': 3303, 'nicholson': 3304, 'leap': 3305, 'destini': 3306, 'blake': 3307, 'whip': 3308, 'racial': 3309, 'audio': 3310, 'meaningless': 3311, 'altogeth': 3312, 'pseudo': 3313, 'bedroom': 3314, 'harder': 3315, 'visibl': 3316, 'swedish': 3317, 'merci': 3318, 'neo': 3319, 'threw': 3320, 'todd': 3321, 'adolesc': 3322, 'vivid': 3323, 'staff': 3324, 'fonda': 3325, 'popcorn': 3326, 'enchant': 3327, 'reunit': 3328, 'inherit': 3329, 'befriend': 3330, 'lawrenc': 3331, 'tip': 3332, 'await': 3333, 'decor': 3334, 'uneven': 3335, 'lemmon': 3336, 'ruthless': 3337, 'bust': 3338, 'moodi': 3339, 'jew': 3340, 'reserv': 3341, 'suspici': 3342, 'wire': 3343, 'roommat': 3344, 'madonna': 3345, 'fanat': 3346, 'synopsi': 3347, 'exhibit': 3348, 'atlanti': 3349, 'respond': 3350, 'crocodil': 3351, 'leonard': 3352, 'kennedi': 3353, 'edi': 3354, 'voight': 3355, 'chao': 3356, 'dimens': 3357, 'clumsi': 3358, 'voyag': 3359, 'centr': 3360, 'bargain': 3361, 'incident': 3362, '2007': 3363, 'bradi': 3364, 'rural': 3365, 'clint': 3366, 'audit': 3367, 'garner': 3368, 'ventur': 3369, 'abysm': 3370, 'unsettl': 3371, 'bold': 3372, 'carl': 3373, 'holli': 3374, 'palma': 3375, 'troop': 3376, 'mall': 3377, 'nearbi': 3378, 'lit': 3379, 'immigr': 3380, 'cd': 3381, 'poetic': 3382, 'hart': 3383, 'versu': 3384, 'humili': 3385, 'characterist': 3386, 'daddi': 3387, 'neglect': 3388, '2nd': 3389, 'cuba': 3390, 'imperson': 3391, 'timon': 3392, 'elimin': 3393, 'trail': 3394, 'wealth': 3395, 'acknowledg': 3396, 'echo': 3397, 'ant': 3398, 'cari': 3399, 'tiger': 3400, 'jeffrey': 3401, 'saga': 3402, 'collaps': 3403, 'mickey': 3404, 'solo': 3405, 'prejudic': 3406, 'celluloid': 3407, 'repuls': 3408, 'pun': 3409, 'mistaken': 3410, 'marshal': 3411, 'domest': 3412, 'infect': 3413, 'paus': 3414, 'homer': 3415, 'coffe': 3416, 'tribe': 3417, 'harvey': 3418, 'pant': 3419, 'coat': 3420, 'assembl': 3421, 'gear': 3422, 'apolog': 3423, 'undoubtedli': 3424, 'ginger': 3425, 'promin': 3426, 'olivi': 3427, '1996': 3428, 'interrupt': 3429, 'equip': 3430, 'inappropri': 3431, 'leon': 3432, 'milk': 3433, 'cake': 3434, 'hbo': 3435, 'sore': 3436, 'inan': 3437, 'chest': 3438, 'primari': 3439, 'retain': 3440, 'trace': 3441, 'exot': 3442, 'jenni': 3443, 'furthermor': 3444, 'humbl': 3445, 'vulgar': 3446, 'consum': 3447, 'maggi': 3448, 'aveng': 3449, 'florida': 3450, 'pot': 3451, 'highest': 3452, 'institut': 3453, 'colleagu': 3454, 'solut': 3455, 'brooklyn': 3456, 'airplan': 3457, 'embrac': 3458, 'polanski': 3459, 'pen': 3460, 'colonel': 3461, 'instant': 3462, 'devast': 3463, 'disabl': 3464, 'rick': 3465, 'smaller': 3466, 'outer': 3467, 'linda': 3468, 'illog': 3469, 'strain': 3470, 'gender': 3471, '3rd': 3472, 'sale': 3473, 'seduct': 3474, 'dian': 3475, 'principl': 3476, 'descend': 3477, 'godzilla': 3478, 'cope': 3479, 'bowl': 3480, 'dutch': 3481, 'ya': 3482, 'wive': 3483, '1999': 3484, 'poke': 3485, 'gundam': 3486, 'bubbl': 3487, 'dud': 3488, 'scope': 3489, 'gloriou': 3490, 'blatant': 3491, 'yard': 3492, 'vast': 3493, 'inferior': 3494, 'secondli': 3495, 'lol': 3496, 'devoid': 3497, 'rabbit': 3498, 'mixtur': 3499, 'primarili': 3500, 'beneath': 3501, 'cue': 3502, 'hal': 3503, 'predecessor': 3504, 'dive': 3505, 'glamor': 3506, 'alert': 3507, 'talki': 3508, 'hideou': 3509, 'aggress': 3510, 'shirley': 3511, 'april': 3512, 'breed': 3513, 'alfr': 3514, 'senseless': 3515, 'casual': 3516, 'museum': 3517, 'z': 3518, 'grinch': 3519, 'myer': 3520, 'trademark': 3521, 'countrysid': 3522, 'invas': 3523, 'arab': 3524, 'simplist': 3525, 'streep': 3526, 'pearl': 3527, 'et': 3528, 'garbo': 3529, 'shelf': 3530, 'disjoint': 3531, 'domino': 3532, 'oz': 3533, 'rendit': 3534, 'experiment': 3535, 'loyal': 3536, 'obtain': 3537, 'defens': 3538, 'hopeless': 3539, 'slide': 3540, 'applaud': 3541, 'uwe': 3542, 'disgrac': 3543, 'boom': 3544, 'stellar': 3545, 'stack': 3546, 'mail': 3547, 'sh': 3548, 'acid': 3549, 'illeg': 3550, 'hardcor': 3551, 'unhappi': 3552, 'robberi': 3553, 'maci': 3554, 'khan': 3555, 'vanish': 3556, 'stir': 3557, 'mayor': 3558, 'robinson': 3559, 'psychic': 3560, 'topless': 3561, 'craze': 3562, 'tempt': 3563, 'amanda': 3564, 'wont': 3565, 'span': 3566, 'rifl': 3567, 'dismiss': 3568, 'diana': 3569, 'emphasi': 3570, 'declin': 3571, 'dicken': 3572, 'spider': 3573, 'incomprehens': 3574, 'berlin': 3575, 'soccer': 3576, 'blew': 3577, 'grandfath': 3578, 'fri': 3579, 'scroog': 3580, 'tenant': 3581, 'counter': 3582, 'hartley': 3583, 'recruit': 3584, 'ethnic': 3585, 'parad': 3586, 'woo': 3587, 'revolt': 3588, 'sibl': 3589, 'shed': 3590, 'trashi': 3591, 'bitch': 3592, 'ration': 3593, 'resurrect': 3594, 'intim': 3595, 'sympath': 3596, 'niro': 3597, 'riot': 3598, 'goer': 3599, 'faster': 3600, 'lumet': 3601, 'wet': 3602, 'justin': 3603, 'shaw': 3604, 'porno': 3605, 'feminist': 3606, 'partial': 3607, 'dealer': 3608, 'hesit': 3609, 'biographi': 3610, 'honesti': 3611, 'eager': 3612, 'jonathan': 3613, 'enlighten': 3614, 'commend': 3615, 'wheel': 3616, 'rider': 3617, 'immort': 3618, '00': 3619, 'ensur': 3620, 'patriot': 3621, 'region': 3622, 'steam': 3623, 'choru': 3624, 'weakest': 3625, 'slick': 3626, 'nephew': 3627, 'farmer': 3628, 'unreal': 3629, 'andr': 3630, 'wendi': 3631, 'mario': 3632, 'hopper': 3633, 'gap': 3634, 'lena': 3635, 'worm': 3636, 'ballet': 3637, 'prequel': 3638, 'leo': 3639, 'kingdom': 3640, 'owen': 3641, 'similarli': 3642, 'sappi': 3643, 'mutant': 3644, 'vice': 3645, 'psychopath': 3646, 'snap': 3647, 'victori': 3648, 'nostalg': 3649, 'charlott': 3650, 'util': 3651, 'properti': 3652, 'sandra': 3653, 'safeti': 3654, 'repress': 3655, 'confin': 3656, 'blunt': 3657, 'skull': 3658, 'franco': 3659, 'composit': 3660, 'morri': 3661, 'wore': 3662, 'hung': 3663, 'macarthur': 3664, 'tad': 3665, 'dust': 3666, 'heartbreak': 3667, 'hyde': 3668, 'bonu': 3669, 'valuabl': 3670, 'recycl': 3671, 'pattern': 3672, 'miseri': 3673, 'bow': 3674, 'rambl': 3675, 'snl': 3676, 'del': 3677, 'bumbl': 3678, 'speci': 3679, 'emperor': 3680, 'whoopi': 3681, 'bergman': 3682, 'dalton': 3683, 'deed': 3684, 'nervou': 3685, 'exit': 3686, 'rope': 3687, 'kyle': 3688, 'compass': 3689, 'tail': 3690, 'repli': 3691, 'rocki': 3692, 'drain': 3693, 'acquir': 3694, 'montana': 3695, 'despair': 3696, 'strand': 3697, 'campbel': 3698, 'thru': 3699, 'compens': 3700, 'drum': 3701, 'farrel': 3702, 'cg': 3703, 'latin': 3704, '1972': 3705, 'olli': 3706, 'contempl': 3707, 'tonight': 3708, 'wacki': 3709, 'gimmick': 3710, 'percept': 3711, 'bleed': 3712, '35': 3713, 'orson': 3714, 'rapist': 3715, 'radic': 3716, 'airport': 3717, 'chess': 3718, 'romp': 3719, 'downhil': 3720, 'rotten': 3721, 'da': 3722, 'roth': 3723, 'gal': 3724, 'oppress': 3725, 'carradin': 3726, 'mistress': 3727, 'pour': 3728, 'slug': 3729, 'martian': 3730, 'edgar': 3731, 'mislead': 3732, 'arguabl': 3733, 'stilt': 3734, 'tooth': 3735, 'taught': 3736, 'unpredict': 3737, 'preach': 3738, 'pervert': 3739, 'arc': 3740, 'slash': 3741, 'melodi': 3742, '1983': 3743, 'belt': 3744, 'pervers': 3745, 'paltrow': 3746, 'programm': 3747, 'attorney': 3748, 'heal': 3749, 'dazzl': 3750, 'shelley': 3751, 'champion': 3752, 'banal': 3753, 'tackl': 3754, 'pursuit': 3755, 'tiresom': 3756, 'rubi': 3757, 'orang': 3758, 'poem': 3759, 'cleverli': 3760, 'uplift': 3761, 'closest': 3762, 'vengeanc': 3763, 'gambl': 3764, 'sensat': 3765, 'raymond': 3766, 'chicken': 3767, 'dixon': 3768, 'franki': 3769, 'mesmer': 3770, 'bela': 3771, 'employe': 3772, 'plight': 3773, 'graham': 3774, 'vocal': 3775, 'duval': 3776, 'passeng': 3777, 'virginia': 3778, 'marti': 3779, 'conneri': 3780, 'maid': 3781, 'inject': 3782, 'whine': 3783, 'engross': 3784, 'paranoia': 3785, 'sirk': 3786, 'quarter': 3787, 'habit': 3788, 'abraham': 3789, 'tube': 3790, 'extens': 3791, 'monologu': 3792, 'mute': 3793, 'swallow': 3794, 'profan': 3795, 'yawn': 3796, 'clone': 3797, 'crystal': 3798, 'climact': 3799, 'volum': 3800, 'calm': 3801, 'secretli': 3802, 'suffic': 3803, 'numb': 3804, 'lundgren': 3805, 'bay': 3806, 'outing': 3807, 'amitabh': 3808, 'scottish': 3809, 'giggl': 3810, 'convincingli': 3811, '1968': 3812, 'gerard': 3813, 'pokemon': 3814, 'iran': 3815, 'fed': 3816, 'junior': 3817, 'bend': 3818, 'expand': 3819, 'im': 3820, 'spock': 3821, 'grotesqu': 3822, 'franci': 3823, 'profess': 3824, 'meander': 3825, 'abort': 3826, 'dispos': 3827, 'poetri': 3828, 'chicago': 3829, 'richardson': 3830, 'trend': 3831, 'austen': 3832, 'underst': 3833, 'backward': 3834, 'nichola': 3835, 'taxi': 3836, 'lowest': 3837, 'surpass': 3838, 'ethan': 3839, 'plod': 3840, 'earl': 3841, 'septemb': 3842, 'linger': 3843, 'frankenstein': 3844, 'cannon': 3845, 'rubber': 3846, 'catchi': 3847, 'myth': 3848, 'lure': 3849, 'compliment': 3850, 'nostalgia': 3851, 'stallon': 3852, 'rant': 3853, 'simplic': 3854, 'muddl': 3855, 'eugen': 3856, 'descent': 3857, 'literatur': 3858, 'econom': 3859, 'instrument': 3860, 'waitress': 3861, 'mundan': 3862, 'spoke': 3863, 'hum': 3864, 'household': 3865, 'der': 3866, 'tourist': 3867, 'dysfunct': 3868, 'sue': 3869, 'greedi': 3870, 'eaten': 3871, 'dement': 3872, 'phantom': 3873, 'crucial': 3874, 'alongsid': 3875, 'mortal': 3876, 'deaf': 3877, 'recognis': 3878, 'phoni': 3879, 'damon': 3880, 'equival': 3881, 'cent': 3882, 'flee': 3883, 'bacal': 3884, 'irrelev': 3885, 'firstli': 3886, 'louis': 3887, 'recognit': 3888, 'duck': 3889, 'stale': 3890, 'hello': 3891, 'coast': 3892, 'occupi': 3893, 'randi': 3894, 'lang': 3895, 'dictat': 3896, 'insur': 3897, 'june': 3898, 'sissi': 3899, 'furi': 3900, 'map': 3901, 'molli': 3902, 'carel': 3903, 'omen': 3904, 'mankind': 3905, 'ashley': 3906, 'likewis': 3907, 'labor': 3908, 'daisi': 3909, 'drake': 3910, 'freez': 3911, 'bump': 3912, 'lengthi': 3913, 'rooney': 3914, 'onlin': 3915, 'dreari': 3916, 'heel': 3917, 'reign': 3918, 'loyalti': 3919, 'distinguish': 3920, 'newli': 3921, 'grayson': 3922, 'blackmail': 3923, 'damm': 3924, 'buffalo': 3925, 'wisdom': 3926, 'rude': 3927, '1973': 3928, 'cyborg': 3929, 'bike': 3930, 'antwon': 3931, 'twilight': 3932, 'biko': 3933, 'exposur': 3934, 'barrymor': 3935, 'incorpor': 3936, 'vein': 3937, 'nineti': 3938, 'chronicl': 3939, 'startl': 3940, 'boxer': 3941, 'approv': 3942, 'interior': 3943, 'ridden': 3944, 'pink': 3945, 'sailor': 3946, 'butler': 3947, 'inher': 3948, 'basketbal': 3949, 'attribut': 3950, 'worn': 3951, 'baddi': 3952, 'provoc': 3953, 'emphas': 3954, 'proce': 3955, 'tunnel': 3956, 'keith': 3957, 'unorigin': 3958, 'prey': 3959, 'analysi': 3960, 'underli': 3961, 'undeni': 3962, 'stalker': 3963, 'elm': 3964, 'indiffer': 3965, 'nicol': 3966, 'degrad': 3967, 'meyer': 3968, 'mighti': 3969, 'improvis': 3970, 'julian': 3971, 'drift': 3972, 'millionair': 3973, 'substitut': 3974, 'unrel': 3975, 'condemn': 3976, 'bunni': 3977, 'belushi': 3978, 'walsh': 3979, 'mormon': 3980, 'hypnot': 3981, 'simmon': 3982, 'carla': 3983, 'robbin': 3984, 'er': 3985, 'fleet': 3986, 'predat': 3987, 'barrel': 3988, 'meg': 3989, 'othello': 3990, 'agenda': 3991, 'vital': 3992, 'alison': 3993, 'nyc': 3994, 'enthusiasm': 3995, 'novak': 3996, 'edgi': 3997, 'warmth': 3998, 'disord': 3999, 'reid': 4000, 'watson': 4001, 'hay': 4002, 'greed': 4003, 'roof': 4004, 'priceless': 4005, 'palac': 4006, 'mtv': 4007, '3d': 4008, 'firm': 4009, 'exquisit': 4010, 'alarm': 4011, 'shove': 4012, 'marion': 4013, 'dolph': 4014, 'rukh': 4015, 'errol': 4016, 'lampoon': 4017, 'unawar': 4018, 'eastern': 4019, 'petti': 4020, 'showdown': 4021, 'randomli': 4022, 'angela': 4023, 'session': 4024, 'distort': 4025, 'thompson': 4026, 'ponder': 4027, '1933': 4028, 'gestur': 4029, 'beatl': 4030, 'iraq': 4031, 'cassidi': 4032, 'championship': 4033, 'orlean': 4034, 'nun': 4035, 'minimum': 4036, 'profit': 4037, 'valentin': 4038, 'unleash': 4039, 'pamela': 4040, 'simultan': 4041, '13th': 4042, 'drip': 4043, 'preserv': 4044, 'what': 4045, 'coup': 4046, 'peril': 4047, 'peck': 4048, 'spain': 4049, 'glanc': 4050, 'sergeant': 4051, 'testament': 4052, 'campaign': 4053, 'israel': 4054, 'crown': 4055, 'zizek': 4056, 'crawl': 4057, 'represent': 4058, 'perpetu': 4059, 'wig': 4060, 'mon': 4061, 'sabrina': 4062, 'reson': 4063, 'contradict': 4064, 'valley': 4065, 'jan': 4066, '1984': 4067, 'climat': 4068, 'rout': 4069, 'empathi': 4070, 'regist': 4071, 'cream': 4072, 'shootout': 4073, 'quinn': 4074, 'cooki': 4075, 'han': 4076, 'realm': 4077, 'crow': 4078, 'buster': 4079, 'scotland': 4080, 'restrain': 4081, 'gentleman': 4082, 'brenda': 4083, 'kurosawa': 4084, 'exposit': 4085, 'travesti': 4086, 'bro': 4087, 'calib': 4088, 'miyazaki': 4089, 'din': 4090, 'stroke': 4091, 'unimagin': 4092, 'stake': 4093, 'fido': 4094, 'compromis': 4095, 'tacki': 4096, 'sucker': 4097, '1987': 4098, 'traumat': 4099, 'businessman': 4100, 'meryl': 4101, 'cloud': 4102, '1997': 4103, 'monoton': 4104, 'distress': 4105, 'painter': 4106, 'pretens': 4107, 'ross': 4108, 'derang': 4109, 'ustinov': 4110, 'demis': 4111, 'josh': 4112, 'greg': 4113, 'shaki': 4114, 'darren': 4115, 'soderbergh': 4116, 'warrant': 4117, 'censor': 4118, 'wax': 4119, 'delic': 4120, 'mclaglen': 4121, 'perceiv': 4122, 'unseen': 4123, 'spacey': 4124, 'stargat': 4125, 'abomin': 4126, 'dana': 4127, 'pole': 4128, 'passabl': 4129, 'geek': 4130, 'baldwin': 4131, 'absent': 4132, 'fuller': 4133, 'femm': 4134, 'unsatisfi': 4135, 'shoddi': 4136, 'crawford': 4137, 'sammi': 4138, 'valid': 4139, 'expedit': 4140, 'nathan': 4141, 'unravel': 4142, 'norm': 4143, 'deniro': 4144, 'verbal': 4145, 'seal': 4146, 'primit': 4147, 'tech': 4148, 'kumar': 4149, 'deceas': 4150, 'correctli': 4151, 'polici': 4152, 'clash': 4153, 'furiou': 4154, 'fenc': 4155, 'sid': 4156, 'reluct': 4157, 'anchor': 4158, 'jewel': 4159, '1993': 4160, 'uncov': 4161, 'judgment': 4162, 'exclus': 4163, 'tarantino': 4164, 'accuraci': 4165, 'wholli': 4166, 'austin': 4167, 'dee': 4168, 'click': 4169, 'fog': 4170, 'antonioni': 4171, '1995': 4172, '3000': 4173, 'joel': 4174, 'hallucin': 4175, 'unfair': 4176, 'enforc': 4177, 'conduct': 4178, 'crippl': 4179, 'roller': 4180, 'shanghai': 4181, 'tax': 4182, 'fought': 4183, 'seldom': 4184, 'sustain': 4185, 'pocket': 4186, 'fart': 4187, 'mode': 4188, 'sheet': 4189, 'sunni': 4190, 'wang': 4191, 'fabric': 4192, 'sand': 4193, 'temper': 4194, 'bake': 4195, 'murray': 4196, 'slam': 4197, 'malon': 4198, 'logan': 4199, 'debt': 4200, 'behold': 4201, '2008': 4202, 'vanc': 4203, 'wretch': 4204, 'trait': 4205, 'clerk': 4206, 'darn': 4207, '1971': 4208, 'ritual': 4209, 'alec': 4210, 'patienc': 4211, 'dreck': 4212, 'nicola': 4213, 'stark': 4214, 'robber': 4215, 'tactic': 4216, 'helpless': 4217, 'pete': 4218, 'shell': 4219, 'legaci': 4220, 'conscious': 4221, 'exhaust': 4222, 'preston': 4223, 'despis': 4224, 'canyon': 4225, 'fundament': 4226, 'grief': 4227, 'scriptwrit': 4228, 'sweep': 4229, 'technicolor': 4230, 'runner': 4231, 'bias': 4232, 'guitar': 4233, 'stuart': 4234, 'clau': 4235, 'soup': 4236, 'rita': 4237, 'penni': 4238, 'preposter': 4239, 'phil': 4240, 'schedul': 4241, 'critiqu': 4242, 'bridget': 4243, 'outlin': 4244, 'isabel': 4245, 'divid': 4246, 'squad': 4247, 'delv': 4248, 'invad': 4249, 'implic': 4250, 'restrict': 4251, 'unexpectedli': 4252, 'propos': 4253, 'alley': 4254, 'culmin': 4255, 'rehash': 4256, 'inabl': 4257, 'agenc': 4258, 'gregori': 4259, 'connor': 4260, 'marc': 4261, 'rear': 4262, 'alicia': 4263, 'newman': 4264, 'consciou': 4265, 'cigarett': 4266, 'sentinel': 4267, 'sniper': 4268, 'jacket': 4269, 'kansa': 4270, 'jodi': 4271, 'boyl': 4272, 'flair': 4273, 'downey': 4274, 'drove': 4275, 'passag': 4276, 'palanc': 4277, 'liberti': 4278, 'sugar': 4279, 'vomit': 4280, 'lacklust': 4281, 'russia': 4282, 'bloom': 4283, 'asylum': 4284, 'horn': 4285, 'rampag': 4286, 'improb': 4287, 'awhil': 4288, 'pale': 4289, 'mccoy': 4290, 'bacon': 4291, 'karl': 4292, 'arrow': 4293, '22': 4294, 'delet': 4295, 'tripe': 4296, 'behaviour': 4297, 'sharon': 4298, 'tendenc': 4299, 'wrench': 4300, 'rod': 4301, 'kolchak': 4302, 'cap': 4303, 'vet': 4304, 'aesthet': 4305, 'feat': 4306, 'chainsaw': 4307, 'ladder': 4308, 'lush': 4309, 'rehears': 4310, '1936': 4311, 'yeti': 4312, 'foxx': 4313, 'conscienc': 4314, 'filler': 4315, 'shortcom': 4316, 'minu': 4317, 'suffici': 4318, 'basing': 4319, 'sung': 4320, '19th': 4321, 'hackney': 4322, 'tomorrow': 4323, 'rhythm': 4324, 'newcom': 4325, 'paradis': 4326, 'el': 4327, 'paramount': 4328, 'rumor': 4329, 'financ': 4330, 'scoop': 4331, 'suspicion': 4332, 'hungri': 4333, 'aristocrat': 4334, 'hulk': 4335, '1988': 4336, 'underneath': 4337, '1920': 4338, 'globe': 4339, '1978': 4340, 'spice': 4341, 'wildli': 4342, 'elit': 4343, 'prank': 4344, 'weav': 4345, 'stream': 4346, 'lurk': 4347, 'wagner': 4348, 'coaster': 4349, 'fright': 4350, 'thunderbird': 4351, 'visitor': 4352, 'loneli': 4353, 'tasteless': 4354, 'amazon': 4355, 'chamberlain': 4356, 'beverli': 4357, 'recogniz': 4358, 'grudg': 4359, 'standout': 4360, 'ingeni': 4361, 'inmat': 4362, '75': 4363, 'ram': 4364, 'choppi': 4365, 'en': 4366, 'cancer': 4367, 'quietli': 4368, 'dirt': 4369, 'leigh': 4370, 'paxton': 4371, 'impos': 4372, 'penn': 4373, 'literari': 4374, 'rub': 4375, 'entranc': 4376, 'tierney': 4377, '1989': 4378, 'smell': 4379, 'atroc': 4380, 'iv': 4381, 'immers': 4382, 'chavez': 4383, 'brit': 4384, 'teas': 4385, '1939': 4386, 'couch': 4387, 'straightforward': 4388, 'lectur': 4389, 'heist': 4390, 'hopkin': 4391, 'abrupt': 4392, 'bread': 4393, 'worship': 4394, 'counterpart': 4395, 'minist': 4396, 'curli': 4397, 'naughti': 4398, 'secondari': 4399, 'posey': 4400, 'springer': 4401, 'wwe': 4402, 'attenborough': 4403, 'esther': 4404, 'misguid': 4405, 'transcend': 4406, 'convert': 4407, 'heartfelt': 4408, 'yearn': 4409, 'clan': 4410, 'morbid': 4411, 'moreov': 4412, 'bernard': 4413, 'laurenc': 4414, 'variat': 4415, 'sassi': 4416, 'skeptic': 4417, 'injuri': 4418, 'entitl': 4419, 'lindsay': 4420, 'nemesi': 4421, 'duel': 4422, 'policeman': 4423, 'ace': 4424, '1986': 4425, 'sublim': 4426, 'enthral': 4427, 'quaid': 4428, 'missil': 4429, 'geni': 4430, 'cattl': 4431, 'watcher': 4432, 'net': 4433, 'nolan': 4434, 'ratso': 4435, 'hopelessli': 4436, 'facil': 4437, 'obstacl': 4438, 'uncut': 4439, 'bean': 4440, 'bye': 4441, 'tyler': 4442, 'out': 4443, 'characteris': 4444, 'graini': 4445, 'moder': 4446, 'enabl': 4447, 'cruelti': 4448, 'reliabl': 4449, 'diari': 4450, 'artsi': 4451, 'hk': 4452, 'setup': 4453, 'mytholog': 4454, 'grin': 4455, 'youngest': 4456, 'egg': 4457, 'kitti': 4458, 'unexplain': 4459, 'steadi': 4460, 'spiral': 4461, 'poe': 4462, 'buzz': 4463, 'rosemari': 4464, 'dont': 4465, 'carlito': 4466, 'vader': 4467, 'puppi': 4468, 'brood': 4469, '1979': 4470, 'kidman': 4471, 'martha': 4472, 'athlet': 4473, 'fuel': 4474, 'hain': 4475, 'bewar': 4476, 'despic': 4477, 'heap': 4478, 'baffl': 4479, 'oblig': 4480, 'narrow': 4481, 'clueless': 4482, 'decept': 4483, 'effici': 4484, 'underworld': 4485, 'hammi': 4486, 'preming': 4487, 'acquaint': 4488, 'christin': 4489, 'sweat': 4490, 'exterior': 4491, 'weather': 4492, 'gillian': 4493, 'bounc': 4494, 'spontan': 4495, 'niec': 4496, 'bronson': 4497, 'brendan': 4498, '1969': 4499, 'gina': 4500, 'disastr': 4501, 'kline': 4502, 'patricia': 4503, 'shatter': 4504, 'angst': 4505, 'suprem': 4506, 'dilemma': 4507, 'trigger': 4508, 'tick': 4509, 'analyz': 4510, 'candl': 4511, 'uh': 4512, 'harmless': 4513, 'mayhem': 4514, 'headach': 4515, 'rome': 4516, 'renaiss': 4517, 'loi': 4518, 'loath': 4519, 'sooner': 4520, 'preachi': 4521, 'virtu': 4522, 'hepburn': 4523, 'fontain': 4524, 'sleepwalk': 4525, '19': 4526, 'mermaid': 4527, 'biker': 4528, 'circu': 4529, 'outlaw': 4530, 'housewif': 4531, 'goof': 4532, 'taboo': 4533, 'insipid': 4534, 'scar': 4535, 'astound': 4536, 'viewpoint': 4537, 'enlist': 4538, 'injur': 4539, 'lester': 4540, '73': 4541, 'dandi': 4542, 'fluff': 4543, 'sox': 4544, 'boston': 4545, 'glorifi': 4546, 'filth': 4547, 'spade': 4548, 'oldest': 4549, 'zoom': 4550, 'intric': 4551, 'foolish': 4552, 'camcord': 4553, 'ariel': 4554, 'stimul': 4555, 'macho': 4556, 'overlong': 4557, 'slimi': 4558, 'phenomenon': 4559, 'hokey': 4560, 'idol': 4561, 'hooker': 4562, 'corbett': 4563, 'stair': 4564, 'dish': 4565, 'hostag': 4566, 'ebert': 4567, 'dismal': 4568, 'tripl': 4569, 'gere': 4570, 'bent': 4571, 'redund': 4572, 'salt': 4573, 'cassavet': 4574, 'whore': 4575, 'surgeri': 4576, 'amor': 4577, 'immatur': 4578, 'claustrophob': 4579, 'steer': 4580, 'contempt': 4581, 'scorses': 4582, 'guin': 4583, '1976': 4584, 'assert': 4585, 'flashi': 4586, 'antagonist': 4587, 'transplant': 4588, 'remad': 4589, 'beard': 4590, 'corman': 4591, 'joker': 4592, '1981': 4593, 'perman': 4594, 'cow': 4595, 'cohen': 4596, 'gasp': 4597, 'dwarf': 4598, 'muscl': 4599, 'mount': 4600, 'shield': 4601, 'preced': 4602, 'schlock': 4603, 'conquer': 4604, 'trivia': 4605, 'cush': 4606, 'strongest': 4607, 'nolt': 4608, 'flag': 4609, 'alvin': 4610, 'gabl': 4611, 'spree': 4612, 'rhyme': 4613, 'margin': 4614, 'flirt': 4615, 'obligatori': 4616, 'messi': 4617, 'frantic': 4618, 'radiat': 4619, 'faint': 4620, 'down': 4621, 'proport': 4622, 'spinal': 4623, 'naschi': 4624, 'shred': 4625, 'fascist': 4626, 'widescreen': 4627, 'harold': 4628, 'keen': 4629, 'astronaut': 4630, 'mutual': 4631, 'zane': 4632, 'interestingli': 4633, 'deer': 4634, 'repris': 4635, 'triangl': 4636, 'claud': 4637, 'scandal': 4638, 'barn': 4639, 'divin': 4640, 'vaniti': 4641, 'off': 4642, 'archiv': 4643, '1945': 4644, 'danish': 4645, 'strive': 4646, 'fishburn': 4647, 'boob': 4648, 'inflict': 4649, 'instruct': 4650, 'wield': 4651, 'discern': 4652, '28': 4653, 'hara': 4654, 'someday': 4655, 'persuad': 4656, 'neurot': 4657, 'raj': 4658, 'carey': 4659, 'flock': 4660, 'bitten': 4661, 'departur': 4662, 'mobil': 4663, 'mol': 4664, 'brush': 4665, 'resum': 4666, 'bachelor': 4667, 'ritchi': 4668, '95': 4669, 'sensual': 4670, 'www': 4671, 'aborigin': 4672, 'info': 4673, 'banter': 4674, 'rot': 4675, 'helm': 4676, 'mobster': 4677, 'melissa': 4678, 'dim': 4679, 'ish': 4680, 'fragil': 4681, 'vibrant': 4682, 'wendigo': 4683, 'pickford': 4684, 'dame': 4685, 'proclaim': 4686, 'biblic': 4687, 'hapless': 4688, 'colin': 4689, 'prophet': 4690, 'heartwarm': 4691, 'pixar': 4692, 'axe': 4693, 'europa': 4694, 'pacif': 4695, 'kathryn': 4696, 'harrison': 4697, 'bate': 4698, 'neill': 4699, 'jade': 4700, 'dylan': 4701, 'submit': 4702, 'artwork': 4703, 'recit': 4704, 'senior': 4705, 'cycl': 4706, 'clad': 4707, 'cher': 4708, 'carlo': 4709, 'casino': 4710, 'earnest': 4711, 'cliffhang': 4712, 'undermin': 4713, 'timberlak': 4714, 'frontier': 4715, 'loretta': 4716, 'luka': 4717, 'anton': 4718, 'hilar': 4719, 'traffic': 4720, 'cb': 4721, 'miracul': 4722, 'hug': 4723, 'parson': 4724, 'northern': 4725, 'lui': 4726, 'eli': 4727, 'token': 4728, 'blatantli': 4729, 'akin': 4730, 'redneck': 4731, 'bikini': 4732, 'orphan': 4733, 'antholog': 4734, 'venom': 4735, 'feast': 4736, 'wardrob': 4737, 'rooki': 4738, 'jo': 4739, 'misfortun': 4740, 'bondag': 4741, 'shepherd': 4742, 'milo': 4743, 'choke': 4744, 'holocaust': 4745, 'trier': 4746, 'cerebr': 4747, 'aris': 4748, 'toronto': 4749, 'flavor': 4750, 'pc': 4751, 'sicken': 4752, 'static': 4753, 'vanessa': 4754, 'vile': 4755, 'marlon': 4756, 'winchest': 4757, 'lucil': 4758, 'jordan': 4759, 'foil': 4760, 'alexandr': 4761, 'isra': 4762, 'illus': 4763, 'razor': 4764, 'articl': 4765, 'nope': 4766, 'electron': 4767, 'uma': 4768, 'breakfast': 4769, 'mathieu': 4770, 'mason': 4771, 'legitim': 4772, 'seedi': 4773, 'estrang': 4774, 'http': 4775, 'psych': 4776, 'abund': 4777, 'howl': 4778, 'gilbert': 4779, 'deem': 4780, 'outdat': 4781, 'ceremoni': 4782, 'magician': 4783, 'linear': 4784, 'highway': 4785, 'fifth': 4786, 'shorter': 4787, 'peer': 4788, 'smack': 4789, 'styliz': 4790, 'ideolog': 4791, 'retriev': 4792, 'swept': 4793, 'audrey': 4794, 'tack': 4795, 'disregard': 4796, 'feminin': 4797, 'wrestler': 4798, 'oppon': 4799, 'charlton': 4800, 'frog': 4801, 'cartoonish': 4802, 'leather': 4803, 'comprehend': 4804, 'glare': 4805, 'affleck': 4806, 'clinic': 4807, 'nightclub': 4808, 'turd': 4809, 'gunga': 4810, 'boyer': 4811, 'dudley': 4812, 'huston': 4813, 'knightley': 4814, 'durat': 4815, '4th': 4816, 'client': 4817, 'monument': 4818, 'whack': 4819, 'bogu': 4820, 'tara': 4821, 'compris': 4822, 'newer': 4823, 'energet': 4824, 'uniformli': 4825, 'lavish': 4826, 'greet': 4827, 'goldsworthi': 4828, 'chip': 4829, 'bastard': 4830, 'potter': 4831, 'braveheart': 4832, 'breakdown': 4833, 'corn': 4834, 'snatch': 4835, 'btw': 4836, 'spawn': 4837, 'phenomen': 4838, 'conrad': 4839, 'toe': 4840, 'senat': 4841, 'salman': 4842, 'lighter': 4843, 'evolut': 4844, 'sleaz': 4845, 'plate': 4846, 'einstein': 4847, 'spine': 4848, 'boo': 4849, 'cuban': 4850, 'summar': 4851, 'lifeless': 4852, '1994': 4853, '1991': 4854, 'moe': 4855, 'deliver': 4856, 'cemeteri': 4857, 'mitch': 4858, 'collector': 4859, 'occup': 4860, 'undead': 4861, 'pronounc': 4862, 'neatli': 4863, 'ol': 4864, 'outright': 4865, 'bulk': 4866, 'kazan': 4867, 'alleg': 4868, 'embark': 4869, 'spectacl': 4870, 'ie': 4871, 'firmli': 4872, 'armstrong': 4873, 'gilliam': 4874, 'fluid': 4875, 'trauma': 4876, 'liu': 4877, 'sorrow': 4878, 'signal': 4879, 'constitut': 4880, 'creek': 4881, 'appl': 4882, 'luxuri': 4883, 'capot': 4884, 'jam': 4885, 'kent': 4886, '1974': 4887, 'jare': 4888, 'healthi': 4889, '1977': 4890, 'evelyn': 4891, 'lex': 4892, 'mcqueen': 4893, 'replay': 4894, 'bori': 4895, 'judd': 4896, 'clara': 4897, 'eleven': 4898, 'cecil': 4899, 'belli': 4900, 'wtf': 4901, 'inaccuraci': 4902, 'randolph': 4903, 'nina': 4904, 'jedi': 4905, 'historian': 4906, 'undertak': 4907, 'jule': 4908, 'subtli': 4909, 'relentless': 4910, 'porter': 4911, 'conan': 4912, 'goldblum': 4913, 'mum': 4914, 'inclus': 4915, 'walt': 4916, 'decapit': 4917, 'vain': 4918, 'knee': 4919, 'forgiven': 4920, '1985': 4921, 'unsuspect': 4922, 'paula': 4923, 'comprehens': 4924, 'lauren': 4925, 'palm': 4926, 'vignett': 4927, 'cape': 4928, 'antonio': 4929, 'genet': 4930, 'aussi': 4931, 'roar': 4932, 'abound': 4933, 'miniseri': 4934, 'curtain': 4935, 'galaxi': 4936, 'sidewalk': 4937, 'fruit': 4938, 'congratul': 4939, 'comb': 4940, 'id': 4941, 'rosario': 4942, 'truman': 4943, 'pepper': 4944, 'tokyo': 4945, 'groan': 4946, 'inaccur': 4947, 'spray': 4948, 'blur': 4949, 'sacrif': 4950, 'bait': 4951, 'meal': 4952, 'lanc': 4953, 'ash': 4954, 'unattract': 4955, 'pioneer': 4956, 'poker': 4957, 'kiddi': 4958, 'propheci': 4959, 'miami': 4960, 'carmen': 4961, 'bsg': 4962, 'basket': 4963, 'sparkl': 4964, 'bravo': 4965, 'playboy': 4966, 'jill': 4967, 'evan': 4968, 'assort': 4969, 'dubiou': 4970, 'omin': 4971, 'hackman': 4972, 'detach': 4973, 'asset': 4974, 'hostil': 4975, 'verg': 4976, 'frontal': 4977, 'sophi': 4978, 'masterson': 4979, 'scariest': 4980, '21st': 4981, 'weari': 4982, 'ingrid': 4983, 'weaker': 4984, 'optimist': 4985, 'reincarn': 4986, 'epitom': 4987, 'incorrect': 4988, 'rapidli': 4989, 'macabr': 4990, 'vastli': 4991, 'orchestr': 4992, 'monti': 4993, 'cypher': 4994, 'profil': 4995, 'growth': 4996, 'ghetto': 4997, 'bach': 4998, 'substanti': 4999}\n"
     ]
    }
   ],
   "source": [
    "word_dict = build_dict(train_X)\n",
    "print(word_dict)"
   ]
  },
  {
   "cell_type": "markdown",
   "metadata": {},
   "source": [
    "**Question:** What are the five most frequently appearing (tokenized) words in the training set? Does it makes sense that these words appear frequently in the training set?"
   ]
  },
  {
   "cell_type": "markdown",
   "metadata": {},
   "source": [
    "**Answer:**"
   ]
  },
  {
   "cell_type": "code",
   "execution_count": 13,
   "metadata": {},
   "outputs": [
    {
     "name": "stdout",
     "output_type": "stream",
     "text": [
      "['movi', 'film', 'one', 'like', 'time']\n"
     ]
    }
   ],
   "source": [
    "# TODO: Use this space to determine the five most frequently appearing words in the training set.\n",
    "print(list(word_dict.keys())[0:5])"
   ]
  },
  {
   "cell_type": "markdown",
   "metadata": {},
   "source": [
    "### Save `word_dict`\n",
    "\n",
    "Later on when we construct an endpoint which processes a submitted review we will need to make use of the `word_dict` which we have created. As such, we will save it to a file now for future use."
   ]
  },
  {
   "cell_type": "code",
   "execution_count": 14,
   "metadata": {},
   "outputs": [],
   "source": [
    "data_dir = '../data/pytorch' # The folder we will use for storing data\n",
    "if not os.path.exists(data_dir): # Make sure that the folder exists\n",
    "    os.makedirs(data_dir)"
   ]
  },
  {
   "cell_type": "code",
   "execution_count": 15,
   "metadata": {},
   "outputs": [],
   "source": [
    "with open(os.path.join(data_dir, 'word_dict.pkl'), \"wb\") as f:\n",
    "    pickle.dump(word_dict, f)"
   ]
  },
  {
   "cell_type": "markdown",
   "metadata": {},
   "source": [
    "### Transform the reviews\n",
    "\n",
    "Now that we have our word dictionary which allows us to transform the words appearing in the reviews into integers, it is time to make use of it and convert our reviews to their integer sequence representation, making sure to pad or truncate to a fixed length, which in our case is `500`."
   ]
  },
  {
   "cell_type": "code",
   "execution_count": 16,
   "metadata": {},
   "outputs": [],
   "source": [
    "def convert_and_pad(word_dict, sentence, pad=500):\n",
    "    NOWORD = 0 # We will use 0 to represent the 'no word' category\n",
    "    INFREQ = 1 # and we use 1 to represent the infrequent words, i.e., words not appearing in word_dict\n",
    "    \n",
    "    working_sentence = [NOWORD] * pad\n",
    "    \n",
    "    for word_index, word in enumerate(sentence[:pad]):\n",
    "        if word in word_dict:\n",
    "            working_sentence[word_index] = word_dict[word]\n",
    "        else:\n",
    "            working_sentence[word_index] = INFREQ\n",
    "            \n",
    "    return working_sentence, min(len(sentence), pad)\n",
    "\n",
    "def convert_and_pad_data(word_dict, data, pad=500):\n",
    "    result = []\n",
    "    lengths = []\n",
    "    \n",
    "    for sentence in data:\n",
    "        converted, leng = convert_and_pad(word_dict, sentence, pad)\n",
    "        result.append(converted)\n",
    "        lengths.append(leng)\n",
    "        \n",
    "    return np.array(result), np.array(lengths)"
   ]
  },
  {
   "cell_type": "code",
   "execution_count": 17,
   "metadata": {},
   "outputs": [],
   "source": [
    "train_X, train_X_len = convert_and_pad_data(word_dict, train_X)\n",
    "test_X, test_X_len = convert_and_pad_data(word_dict, test_X)"
   ]
  },
  {
   "cell_type": "markdown",
   "metadata": {},
   "source": [
    "As a quick check to make sure that things are working as intended, check to see what one of the reviews in the training set looks like after having been processeed. Does this look reasonable? What is the length of a review in the training set?"
   ]
  },
  {
   "cell_type": "code",
   "execution_count": 18,
   "metadata": {},
   "outputs": [
    {
     "name": "stdout",
     "output_type": "stream",
     "text": [
      "Review Length: \n",
      "\n",
      "163\n",
      "\n",
      "Converted and Paddedded review:\n",
      "\n",
      " [  70  233    1    1  795   28  205 2913    3   99  330 2107  156  528\n",
      "    5  528  341  697 2913 3521  498  247 1171 2482 4533 1474  815    5\n",
      " 1257    9    1  115    4 2913  870  586    3   38 1251   34   15  149\n",
      " 2396   58   30  152    3 1536  317 1909 1524 2391 1033   39 1295  188\n",
      "  156  442  661  514 1040  991    2   36    1   58    1    3  156  148\n",
      "  498 1163    1    1  446 2193  892    1  658   18  162 2390 2961  214\n",
      " 2913    3   36  165   10  170 2281    5    3  658  473  602  293 1140\n",
      "  159   22 2042    1  576  293 1140   27  441  560  778 2913  630  890\n",
      "  764  785 1484    1  668  319  596 1034   17 1257    9   16   45   50\n",
      "  159  244  421  495  594    1 1660  119   49   57  170   21 2913 1544\n",
      "   65 1508  192    3  139 2087   66    5    1    1 1257    9 3053  420\n",
      "  137  437 2445  451    3  693 1026   64   40    0    0    0    0    0\n",
      "    0    0    0    0    0    0    0    0    0    0    0    0    0    0\n",
      "    0    0    0    0    0    0    0    0    0    0    0    0    0    0\n",
      "    0    0    0    0    0    0    0    0    0    0    0    0    0    0\n",
      "    0    0    0    0    0    0    0    0    0    0    0    0    0    0\n",
      "    0    0    0    0    0    0    0    0    0    0    0    0    0    0\n",
      "    0    0    0    0    0    0    0    0    0    0    0    0    0    0\n",
      "    0    0    0    0    0    0    0    0    0    0    0    0    0    0\n",
      "    0    0    0    0    0    0    0    0    0    0    0    0    0    0\n",
      "    0    0    0    0    0    0    0    0    0    0    0    0    0    0\n",
      "    0    0    0    0    0    0    0    0    0    0    0    0    0    0\n",
      "    0    0    0    0    0    0    0    0    0    0    0    0    0    0\n",
      "    0    0    0    0    0    0    0    0    0    0    0    0    0    0\n",
      "    0    0    0    0    0    0    0    0    0    0    0    0    0    0\n",
      "    0    0    0    0    0    0    0    0    0    0    0    0    0    0\n",
      "    0    0    0    0    0    0    0    0    0    0    0    0    0    0\n",
      "    0    0    0    0    0    0    0    0    0    0    0    0    0    0\n",
      "    0    0    0    0    0    0    0    0    0    0    0    0    0    0\n",
      "    0    0    0    0    0    0    0    0    0    0    0    0    0    0\n",
      "    0    0    0    0    0    0    0    0    0    0    0    0    0    0\n",
      "    0    0    0    0    0    0    0    0    0    0    0    0    0    0\n",
      "    0    0    0    0    0    0    0    0    0    0    0    0    0    0\n",
      "    0    0    0    0    0    0    0    0    0    0    0    0    0    0\n",
      "    0    0    0    0    0    0    0    0    0    0    0    0    0    0\n",
      "    0    0    0    0    0    0    0    0    0    0]\n"
     ]
    }
   ],
   "source": [
    "# Use this cell to examine one of the processed reviews to make sure everything is working as intended.\n",
    "print(\"Review Length: \\n\\n%s\" % (train_X_len[600]))\n",
    "\n",
    "print(\"\\nConverted and Paddedded review:\\n\\n %s\" % (train_X[600]))\n"
   ]
  },
  {
   "cell_type": "markdown",
   "metadata": {},
   "source": [
    "**Question:** In the cells above we use the `preprocess_data` and `convert_and_pad_data` methods to process both the training and testing set. Why or why not might this be a problem?"
   ]
  },
  {
   "cell_type": "markdown",
   "metadata": {},
   "source": [
    "**Answer:**\n",
    "\n",
    "Preprocessing and padding data allow us to analyze the data, however it does have its pros and cons\n",
    "\n",
    "Pros:\n",
    "Only meaningful words in a sentence would be used\n",
    "The resulting information can be used for analysis and building our model as the data is now standardized.\n",
    "\n",
    "Cons:\n",
    "Some stop words may contain some meaning\n",
    "We may have to truncate some words in order to do the padding or standardize the input data for training, validation etc"
   ]
  },
  {
   "cell_type": "markdown",
   "metadata": {},
   "source": [
    "## Step 3: Upload the data to S3\n",
    "\n",
    "As in the XGBoost notebook, we will need to upload the training dataset to S3 in order for our training code to access it. For now we will save it locally and we will upload to S3 later on.\n",
    "\n",
    "### Save the processed training dataset locally\n",
    "\n",
    "It is important to note the format of the data that we are saving as we will need to know it when we write the training code. In our case, each row of the dataset has the form `label`, `length`, `review[500]` where `review[500]` is a sequence of `500` integers representing the words in the review."
   ]
  },
  {
   "cell_type": "code",
   "execution_count": 19,
   "metadata": {},
   "outputs": [],
   "source": [
    "import pandas as pd\n",
    "    \n",
    "pd.concat([pd.DataFrame(train_y), pd.DataFrame(train_X_len), pd.DataFrame(train_X)], axis=1) \\\n",
    "        .to_csv(os.path.join(data_dir, 'train.csv'), header=False, index=False)"
   ]
  },
  {
   "cell_type": "markdown",
   "metadata": {},
   "source": [
    "### Uploading the training data\n",
    "\n",
    "\n",
    "Next, we need to upload the training data to the SageMaker default S3 bucket so that we can provide access to it while training our model."
   ]
  },
  {
   "cell_type": "code",
   "execution_count": 20,
   "metadata": {},
   "outputs": [],
   "source": [
    "import sagemaker\n",
    "\n",
    "sagemaker_session = sagemaker.Session()\n",
    "\n",
    "bucket = sagemaker_session.default_bucket()\n",
    "prefix = 'sagemaker/sentiment_rnn'\n",
    "\n",
    "role = sagemaker.get_execution_role()"
   ]
  },
  {
   "cell_type": "code",
   "execution_count": 21,
   "metadata": {},
   "outputs": [],
   "source": [
    "input_data = sagemaker_session.upload_data(path=data_dir, bucket=bucket, key_prefix=prefix)"
   ]
  },
  {
   "cell_type": "markdown",
   "metadata": {},
   "source": [
    "**NOTE:** The cell above uploads the entire contents of our data directory. This includes the `word_dict.pkl` file. This is fortunate as we will need this later on when we create an endpoint that accepts an arbitrary review. For now, we will just take note of the fact that it resides in the data directory (and so also in the S3 training bucket) and that we will need to make sure it gets saved in the model directory."
   ]
  },
  {
   "cell_type": "markdown",
   "metadata": {},
   "source": [
    "## Step 4: Build and Train the PyTorch Model\n",
    "\n",
    "In the XGBoost notebook we discussed what a model is in the SageMaker framework. In particular, a model comprises three objects\n",
    "\n",
    " - Model Artifacts,\n",
    " - Training Code, and\n",
    " - Inference Code,\n",
    " \n",
    "each of which interact with one another. In the XGBoost example we used training and inference code that was provided by Amazon. Here we will still be using containers provided by Amazon with the added benefit of being able to include our own custom code.\n",
    "\n",
    "We will start by implementing our own neural network in PyTorch along with a training script. For the purposes of this project we have provided the necessary model object in the `model.py` file, inside of the `train` folder. You can see the provided implementation by running the cell below."
   ]
  },
  {
   "cell_type": "code",
   "execution_count": 22,
   "metadata": {},
   "outputs": [
    {
     "name": "stdout",
     "output_type": "stream",
     "text": [
      "\u001b[34mimport\u001b[39;49;00m \u001b[04m\u001b[36mtorch.nn\u001b[39;49;00m \u001b[34mas\u001b[39;49;00m \u001b[04m\u001b[36mnn\u001b[39;49;00m\r\n",
      "\r\n",
      "\u001b[34mclass\u001b[39;49;00m \u001b[04m\u001b[32mLSTMClassifier\u001b[39;49;00m(nn.Module):\r\n",
      "    \u001b[33m\"\"\"\u001b[39;49;00m\r\n",
      "\u001b[33m    This is the simple RNN model we will be using to perform Sentiment Analysis.\u001b[39;49;00m\r\n",
      "\u001b[33m    \"\"\"\u001b[39;49;00m\r\n",
      "\r\n",
      "    \u001b[34mdef\u001b[39;49;00m \u001b[32m__init__\u001b[39;49;00m(\u001b[36mself\u001b[39;49;00m, embedding_dim, hidden_dim, vocab_size):\r\n",
      "        \u001b[33m\"\"\"\u001b[39;49;00m\r\n",
      "\u001b[33m        Initialize the model by settingg up the various layers.\u001b[39;49;00m\r\n",
      "\u001b[33m        \"\"\"\u001b[39;49;00m\r\n",
      "        \u001b[36msuper\u001b[39;49;00m(LSTMClassifier, \u001b[36mself\u001b[39;49;00m).\u001b[32m__init__\u001b[39;49;00m()\r\n",
      "\r\n",
      "        \u001b[36mself\u001b[39;49;00m.embedding = nn.Embedding(vocab_size, embedding_dim, padding_idx=\u001b[34m0\u001b[39;49;00m)\r\n",
      "        \u001b[36mself\u001b[39;49;00m.lstm = nn.LSTM(embedding_dim, hidden_dim)\r\n",
      "        \u001b[36mself\u001b[39;49;00m.dense = nn.Linear(in_features=hidden_dim, out_features=\u001b[34m1\u001b[39;49;00m)\r\n",
      "        \u001b[36mself\u001b[39;49;00m.sig = nn.Sigmoid()\r\n",
      "        \r\n",
      "        \u001b[36mself\u001b[39;49;00m.word_dict = \u001b[36mNone\u001b[39;49;00m\r\n",
      "\r\n",
      "    \u001b[34mdef\u001b[39;49;00m \u001b[32mforward\u001b[39;49;00m(\u001b[36mself\u001b[39;49;00m, x):\r\n",
      "        \u001b[33m\"\"\"\u001b[39;49;00m\r\n",
      "\u001b[33m        Perform a forward pass of our model on some input.\u001b[39;49;00m\r\n",
      "\u001b[33m        \"\"\"\u001b[39;49;00m\r\n",
      "        x = x.t()\r\n",
      "        lengths = x[\u001b[34m0\u001b[39;49;00m,:]\r\n",
      "        reviews = x[\u001b[34m1\u001b[39;49;00m:,:]\r\n",
      "        embeds = \u001b[36mself\u001b[39;49;00m.embedding(reviews)\r\n",
      "        lstm_out, _ = \u001b[36mself\u001b[39;49;00m.lstm(embeds)\r\n",
      "        out = \u001b[36mself\u001b[39;49;00m.dense(lstm_out)\r\n",
      "        out = out[lengths - \u001b[34m1\u001b[39;49;00m, \u001b[36mrange\u001b[39;49;00m(\u001b[36mlen\u001b[39;49;00m(lengths))]\r\n",
      "        \u001b[34mreturn\u001b[39;49;00m \u001b[36mself\u001b[39;49;00m.sig(out.squeeze())\r\n"
     ]
    }
   ],
   "source": [
    "!pygmentize train/model.py"
   ]
  },
  {
   "cell_type": "markdown",
   "metadata": {},
   "source": [
    "The important takeaway from the implementation provided is that there are three parameters that we may wish to tweak to improve the performance of our model. These are the embedding dimension, the hidden dimension and the size of the vocabulary. We will likely want to make these parameters configurable in the training script so that if we wish to modify them we do not need to modify the script itself. We will see how to do this later on. To start we will write some of the training code in the notebook so that we can more easily diagnose any issues that arise.\n",
    "\n",
    "First we will load a small portion of the training data set to use as a sample. It would be very time consuming to try and train the model completely in the notebook as we do not have access to a gpu and the compute instance that we are using is not particularly powerful. However, we can work on a small bit of the data to get a feel for how our training script is behaving."
   ]
  },
  {
   "cell_type": "code",
   "execution_count": 23,
   "metadata": {},
   "outputs": [],
   "source": [
    "import torch\n",
    "import torch.utils.data\n",
    "\n",
    "# Read in only the first 250 rows\n",
    "train_sample = pd.read_csv(os.path.join(data_dir, 'train.csv'), header=None, names=None, nrows=250)\n",
    "\n",
    "# Turn the input pandas dataframe into tensors\n",
    "train_sample_y = torch.from_numpy(train_sample[[0]].values).float().squeeze()\n",
    "train_sample_X = torch.from_numpy(train_sample.drop([0], axis=1).values).long()\n",
    "\n",
    "# Build the dataset\n",
    "train_sample_ds = torch.utils.data.TensorDataset(train_sample_X, train_sample_y)\n",
    "# Build the dataloader\n",
    "train_sample_dl = torch.utils.data.DataLoader(train_sample_ds, batch_size=50)"
   ]
  },
  {
   "cell_type": "markdown",
   "metadata": {},
   "source": [
    "### (TODO) Writing the training method\n",
    "\n",
    "Next we need to write the training code itself. This should be very similar to training methods that you have written before to train PyTorch models. We will leave any difficult aspects such as model saving / loading and parameter loading until a little later."
   ]
  },
  {
   "cell_type": "code",
   "execution_count": 24,
   "metadata": {},
   "outputs": [],
   "source": [
    "def train(model, train_loader, epochs, optimizer, loss_fn, device):\n",
    "    for epoch in range(1, epochs + 1):\n",
    "        model.train()\n",
    "        total_loss = 0\n",
    "        for batch in train_loader:         \n",
    "            batch_X, batch_y = batch\n",
    "            \n",
    "            batch_X = batch_X.to(device)\n",
    "            batch_y = batch_y.to(device)\n",
    "            \n",
    "            # TODO: Complete this train method to train the model provided.\n",
    "            optimizer.zero_grad()\n",
    "                        \n",
    "            output = model(batch_X)\n",
    "            \n",
    "            loss = loss_fn(output, batch_y)\n",
    "            \n",
    "            loss.backward()\n",
    "            \n",
    "            optimizer.step()\n",
    "            \n",
    "            total_loss += loss.data.item()\n",
    "        print(\"Epoch: {}, BCELoss: {}\".format(epoch, total_loss / len(train_loader)))"
   ]
  },
  {
   "cell_type": "markdown",
   "metadata": {},
   "source": [
    "Supposing we have the training method above, we will test that it is working by writing a bit of code in the notebook that executes our training method on the small sample training set that we loaded earlier. The reason for doing this in the notebook is so that we have an opportunity to fix any errors that arise early when they are easier to diagnose."
   ]
  },
  {
   "cell_type": "code",
   "execution_count": 25,
   "metadata": {},
   "outputs": [
    {
     "name": "stdout",
     "output_type": "stream",
     "text": [
      "Epoch: 1, BCELoss: 0.6934941053390503\n",
      "Epoch: 2, BCELoss: 0.6855717539787293\n",
      "Epoch: 3, BCELoss: 0.6789231777191163\n",
      "Epoch: 4, BCELoss: 0.6716037631034851\n",
      "Epoch: 5, BCELoss: 0.6626604676246644\n"
     ]
    }
   ],
   "source": [
    "import torch.optim as optim\n",
    "from train.model import LSTMClassifier\n",
    "\n",
    "device = torch.device(\"cuda\" if torch.cuda.is_available() else \"cpu\")\n",
    "model = LSTMClassifier(32, 100, 5000).to(device)\n",
    "optimizer = optim.Adam(model.parameters())\n",
    "loss_fn = torch.nn.BCELoss()\n",
    "\n",
    "train(model, train_sample_dl, 5, optimizer, loss_fn, device)"
   ]
  },
  {
   "cell_type": "markdown",
   "metadata": {},
   "source": [
    "In order to construct a PyTorch model using SageMaker we must provide SageMaker with a training script. We may optionally include a directory which will be copied to the container and from which our training code will be run. When the training container is executed it will check the uploaded directory (if there is one) for a `requirements.txt` file and install any required Python libraries, after which the training script will be run."
   ]
  },
  {
   "cell_type": "markdown",
   "metadata": {},
   "source": [
    "### (TODO) Training the model\n",
    "\n",
    "When a PyTorch model is constructed in SageMaker, an entry point must be specified. This is the Python file which will be executed when the model is trained. Inside of the `train` directory is a file called `train.py` which has been provided and which contains most of the necessary code to train our model. The only thing that is missing is the implementation of the `train()` method which you wrote earlier in this notebook.\n",
    "\n",
    "**TODO**: Copy the `train()` method written above and paste it into the `train/train.py` file where required.\n",
    "\n",
    "The way that SageMaker passes hyperparameters to the training script is by way of arguments. These arguments can then be parsed and used in the training script. To see how this is done take a look at the provided `train/train.py` file."
   ]
  },
  {
   "cell_type": "code",
   "execution_count": 26,
   "metadata": {},
   "outputs": [],
   "source": [
    "from sagemaker.pytorch import PyTorch\n",
    "\n",
    "estimator = PyTorch(entry_point=\"train.py\",\n",
    "                    source_dir=\"train\",\n",
    "                    role=role,\n",
    "                    framework_version='0.4.0',\n",
    "                    train_instance_count=1,\n",
    "                    train_instance_type='ml.p2.xlarge',\n",
    "                    hyperparameters={\n",
    "                        'epochs': 13,\n",
    "                        'hidden_dim': 200,\n",
    "                    })"
   ]
  },
  {
   "cell_type": "code",
   "execution_count": 27,
   "metadata": {},
   "outputs": [
    {
     "name": "stdout",
     "output_type": "stream",
     "text": [
      "2020-05-29 04:02:49 Starting - Starting the training job...\n",
      "2020-05-29 04:02:53 Starting - Launching requested ML instances......\n",
      "2020-05-29 04:04:02 Starting - Preparing the instances for training......\n",
      "2020-05-29 04:05:09 Downloading - Downloading input data......\n",
      "2020-05-29 04:06:15 Training - Training image download completed. Training in progress..\u001b[34mbash: cannot set terminal process group (-1): Inappropriate ioctl for device\u001b[0m\n",
      "\u001b[34mbash: no job control in this shell\u001b[0m\n",
      "\u001b[34m2020-05-29 04:06:16,251 sagemaker-containers INFO     Imported framework sagemaker_pytorch_container.training\u001b[0m\n",
      "\u001b[34m2020-05-29 04:06:16,275 sagemaker_pytorch_container.training INFO     Block until all host DNS lookups succeed.\u001b[0m\n",
      "\u001b[34m2020-05-29 04:06:16,279 sagemaker_pytorch_container.training INFO     Invoking user training script.\u001b[0m\n",
      "\u001b[34m2020-05-29 04:06:16,525 sagemaker-containers INFO     Module train does not provide a setup.py. \u001b[0m\n",
      "\u001b[34mGenerating setup.py\u001b[0m\n",
      "\u001b[34m2020-05-29 04:06:16,526 sagemaker-containers INFO     Generating setup.cfg\u001b[0m\n",
      "\u001b[34m2020-05-29 04:06:16,526 sagemaker-containers INFO     Generating MANIFEST.in\u001b[0m\n",
      "\u001b[34m2020-05-29 04:06:16,526 sagemaker-containers INFO     Installing module with the following command:\u001b[0m\n",
      "\u001b[34m/usr/bin/python -m pip install -U . -r requirements.txt\u001b[0m\n",
      "\u001b[34mProcessing /opt/ml/code\u001b[0m\n",
      "\u001b[34mCollecting pandas (from -r requirements.txt (line 1))\n",
      "  Downloading https://files.pythonhosted.org/packages/74/24/0cdbf8907e1e3bc5a8da03345c23cbed7044330bb8f73bb12e711a640a00/pandas-0.24.2-cp35-cp35m-manylinux1_x86_64.whl (10.0MB)\u001b[0m\n",
      "\u001b[34mCollecting numpy (from -r requirements.txt (line 2))\n",
      "  Downloading https://files.pythonhosted.org/packages/38/92/fa5295d9755c7876cb8490eab866e1780154033fa45978d9cf74ffbd4c68/numpy-1.18.4-cp35-cp35m-manylinux1_x86_64.whl (20.0MB)\u001b[0m\n",
      "\u001b[34mCollecting nltk (from -r requirements.txt (line 3))\n",
      "  Downloading https://files.pythonhosted.org/packages/92/75/ce35194d8e3022203cca0d2f896dbb88689f9b3fce8e9f9cff942913519d/nltk-3.5.zip (1.4MB)\u001b[0m\n",
      "\u001b[34mCollecting beautifulsoup4 (from -r requirements.txt (line 4))\n",
      "  Downloading https://files.pythonhosted.org/packages/66/25/ff030e2437265616a1e9b25ccc864e0371a0bc3adb7c5a404fd661c6f4f6/beautifulsoup4-4.9.1-py3-none-any.whl (115kB)\u001b[0m\n",
      "\u001b[34mCollecting html5lib (from -r requirements.txt (line 5))\n",
      "  Downloading https://files.pythonhosted.org/packages/a5/62/bbd2be0e7943ec8504b517e62bab011b4946e1258842bc159e5dfde15b96/html5lib-1.0.1-py2.py3-none-any.whl (117kB)\u001b[0m\n",
      "\u001b[34mRequirement already satisfied, skipping upgrade: python-dateutil>=2.5.0 in /usr/local/lib/python3.5/dist-packages (from pandas->-r requirements.txt (line 1)) (2.7.5)\u001b[0m\n",
      "\u001b[34mCollecting pytz>=2011k (from pandas->-r requirements.txt (line 1))\n",
      "  Downloading https://files.pythonhosted.org/packages/4f/a4/879454d49688e2fad93e59d7d4efda580b783c745fd2ec2a3adf87b0808d/pytz-2020.1-py2.py3-none-any.whl (510kB)\u001b[0m\n",
      "\u001b[34mRequirement already satisfied, skipping upgrade: click in /usr/local/lib/python3.5/dist-packages (from nltk->-r requirements.txt (line 3)) (7.0)\u001b[0m\n",
      "\u001b[34mCollecting joblib (from nltk->-r requirements.txt (line 3))\n",
      "  Downloading https://files.pythonhosted.org/packages/28/5c/cf6a2b65a321c4a209efcdf64c2689efae2cb62661f8f6f4bb28547cf1bf/joblib-0.14.1-py2.py3-none-any.whl (294kB)\u001b[0m\n",
      "\u001b[34mCollecting regex (from nltk->-r requirements.txt (line 3))\u001b[0m\n",
      "\u001b[34m  Downloading https://files.pythonhosted.org/packages/14/8d/d44863d358e9dba3bdfb06099bbbeddbac8fb360773ba73250a849af4b01/regex-2020.5.14.tar.gz (696kB)\u001b[0m\n",
      "\u001b[34mCollecting tqdm (from nltk->-r requirements.txt (line 3))\n",
      "  Downloading https://files.pythonhosted.org/packages/c9/40/058b12e8ba10e35f89c9b1fdfc2d4c7f8c05947df2d5eb3c7b258019fda0/tqdm-4.46.0-py2.py3-none-any.whl (63kB)\u001b[0m\n",
      "\u001b[34mCollecting soupsieve>1.2 (from beautifulsoup4->-r requirements.txt (line 4))\n",
      "  Downloading https://files.pythonhosted.org/packages/6f/8f/457f4a5390eeae1cc3aeab89deb7724c965be841ffca6cfca9197482e470/soupsieve-2.0.1-py3-none-any.whl\u001b[0m\n",
      "\u001b[34mRequirement already satisfied, skipping upgrade: six>=1.9 in /usr/local/lib/python3.5/dist-packages (from html5lib->-r requirements.txt (line 5)) (1.11.0)\u001b[0m\n",
      "\u001b[34mCollecting webencodings (from html5lib->-r requirements.txt (line 5))\n",
      "  Downloading https://files.pythonhosted.org/packages/f4/24/2a3e3df732393fed8b3ebf2ec078f05546de641fe1b667ee316ec1dcf3b7/webencodings-0.5.1-py2.py3-none-any.whl\u001b[0m\n",
      "\u001b[34mBuilding wheels for collected packages: nltk, train, regex\n",
      "  Running setup.py bdist_wheel for nltk: started\u001b[0m\n",
      "\u001b[34m  Running setup.py bdist_wheel for nltk: finished with status 'done'\n",
      "  Stored in directory: /root/.cache/pip/wheels/ae/8c/3f/b1fe0ba04555b08b57ab52ab7f86023639a526d8bc8d384306\n",
      "  Running setup.py bdist_wheel for train: started\u001b[0m\n",
      "\u001b[34m  Running setup.py bdist_wheel for train: finished with status 'done'\n",
      "  Stored in directory: /tmp/pip-ephem-wheel-cache-_e6qn8z_/wheels/35/24/16/37574d11bf9bde50616c67372a334f94fa8356bc7164af8ca3\n",
      "  Running setup.py bdist_wheel for regex: started\u001b[0m\n",
      "\u001b[34m  Running setup.py bdist_wheel for regex: finished with status 'done'\n",
      "  Stored in directory: /root/.cache/pip/wheels/ee/3a/5c/1f0ce151d6ddeee56e03e933603e21b5b8dcc727989fde82f5\u001b[0m\n",
      "\u001b[34mSuccessfully built nltk train regex\u001b[0m\n",
      "\u001b[34mInstalling collected packages: pytz, numpy, pandas, joblib, regex, tqdm, nltk, soupsieve, beautifulsoup4, webencodings, html5lib, train\u001b[0m\n",
      "\u001b[34m  Found existing installation: numpy 1.15.4\n",
      "    Uninstalling numpy-1.15.4:\n",
      "      Successfully uninstalled numpy-1.15.4\u001b[0m\n",
      "\u001b[34mSuccessfully installed beautifulsoup4-4.9.1 html5lib-1.0.1 joblib-0.14.1 nltk-3.5 numpy-1.18.4 pandas-0.24.2 pytz-2020.1 regex-2020.5.14 soupsieve-2.0.1 tqdm-4.46.0 train-1.0.0 webencodings-0.5.1\u001b[0m\n",
      "\u001b[34mYou are using pip version 18.1, however version 20.2b1 is available.\u001b[0m\n",
      "\u001b[34mYou should consider upgrading via the 'pip install --upgrade pip' command.\u001b[0m\n",
      "\u001b[34m2020-05-29 04:06:39,009 sagemaker-containers INFO     Invoking user script\n",
      "\u001b[0m\n",
      "\u001b[34mTraining Env:\n",
      "\u001b[0m\n",
      "\u001b[34m{\n",
      "    \"resource_config\": {\n",
      "        \"current_host\": \"algo-1\",\n",
      "        \"hosts\": [\n",
      "            \"algo-1\"\n",
      "        ],\n",
      "        \"network_interface_name\": \"eth0\"\n",
      "    },\n",
      "    \"network_interface_name\": \"eth0\",\n",
      "    \"input_config_dir\": \"/opt/ml/input/config\",\n",
      "    \"output_data_dir\": \"/opt/ml/output/data\",\n",
      "    \"channel_input_dirs\": {\n",
      "        \"training\": \"/opt/ml/input/data/training\"\n",
      "    },\n",
      "    \"user_entry_point\": \"train.py\",\n",
      "    \"hyperparameters\": {\n",
      "        \"hidden_dim\": 200,\n",
      "        \"epochs\": 13\n",
      "    },\n",
      "    \"hosts\": [\n",
      "        \"algo-1\"\n",
      "    ],\n",
      "    \"log_level\": 20,\n",
      "    \"module_name\": \"train\",\n",
      "    \"model_dir\": \"/opt/ml/model\",\n",
      "    \"output_dir\": \"/opt/ml/output\",\n",
      "    \"input_dir\": \"/opt/ml/input\",\n",
      "    \"num_gpus\": 1,\n",
      "    \"module_dir\": \"s3://sagemaker-us-west-2-919744973527/sagemaker-pytorch-2020-05-29-04-02-49-385/source/sourcedir.tar.gz\",\n",
      "    \"additional_framework_parameters\": {},\n",
      "    \"current_host\": \"algo-1\",\n",
      "    \"job_name\": \"sagemaker-pytorch-2020-05-29-04-02-49-385\",\n",
      "    \"framework_module\": \"sagemaker_pytorch_container.training:main\",\n",
      "    \"num_cpus\": 4,\n",
      "    \"output_intermediate_dir\": \"/opt/ml/output/intermediate\",\n",
      "    \"input_data_config\": {\n",
      "        \"training\": {\n",
      "            \"RecordWrapperType\": \"None\",\n",
      "            \"TrainingInputMode\": \"File\",\n",
      "            \"S3DistributionType\": \"FullyReplicated\"\n",
      "        }\n",
      "    }\u001b[0m\n",
      "\u001b[34m}\n",
      "\u001b[0m\n",
      "\u001b[34mEnvironment variables:\n",
      "\u001b[0m\n",
      "\u001b[34mSM_RESOURCE_CONFIG={\"current_host\":\"algo-1\",\"hosts\":[\"algo-1\"],\"network_interface_name\":\"eth0\"}\u001b[0m\n",
      "\u001b[34mSM_FRAMEWORK_PARAMS={}\u001b[0m\n",
      "\u001b[34mSM_USER_ARGS=[\"--epochs\",\"13\",\"--hidden_dim\",\"200\"]\u001b[0m\n",
      "\u001b[34mSM_CHANNELS=[\"training\"]\u001b[0m\n",
      "\u001b[34mSM_OUTPUT_INTERMEDIATE_DIR=/opt/ml/output/intermediate\u001b[0m\n",
      "\u001b[34mSM_OUTPUT_DATA_DIR=/opt/ml/output/data\u001b[0m\n",
      "\u001b[34mSM_NUM_CPUS=4\u001b[0m\n",
      "\u001b[34mSM_INPUT_CONFIG_DIR=/opt/ml/input/config\u001b[0m\n",
      "\u001b[34mSM_MODEL_DIR=/opt/ml/model\u001b[0m\n",
      "\u001b[34mSM_CHANNEL_TRAINING=/opt/ml/input/data/training\u001b[0m\n",
      "\u001b[34mSM_MODULE_NAME=train\u001b[0m\n",
      "\u001b[34mSM_LOG_LEVEL=20\u001b[0m\n",
      "\u001b[34mSM_TRAINING_ENV={\"additional_framework_parameters\":{},\"channel_input_dirs\":{\"training\":\"/opt/ml/input/data/training\"},\"current_host\":\"algo-1\",\"framework_module\":\"sagemaker_pytorch_container.training:main\",\"hosts\":[\"algo-1\"],\"hyperparameters\":{\"epochs\":13,\"hidden_dim\":200},\"input_config_dir\":\"/opt/ml/input/config\",\"input_data_config\":{\"training\":{\"RecordWrapperType\":\"None\",\"S3DistributionType\":\"FullyReplicated\",\"TrainingInputMode\":\"File\"}},\"input_dir\":\"/opt/ml/input\",\"job_name\":\"sagemaker-pytorch-2020-05-29-04-02-49-385\",\"log_level\":20,\"model_dir\":\"/opt/ml/model\",\"module_dir\":\"s3://sagemaker-us-west-2-919744973527/sagemaker-pytorch-2020-05-29-04-02-49-385/source/sourcedir.tar.gz\",\"module_name\":\"train\",\"network_interface_name\":\"eth0\",\"num_cpus\":4,\"num_gpus\":1,\"output_data_dir\":\"/opt/ml/output/data\",\"output_dir\":\"/opt/ml/output\",\"output_intermediate_dir\":\"/opt/ml/output/intermediate\",\"resource_config\":{\"current_host\":\"algo-1\",\"hosts\":[\"algo-1\"],\"network_interface_name\":\"eth0\"},\"user_entry_point\":\"train.py\"}\u001b[0m\n",
      "\u001b[34mSM_HP_HIDDEN_DIM=200\u001b[0m\n",
      "\u001b[34mSM_CURRENT_HOST=algo-1\u001b[0m\n",
      "\u001b[34mSM_NETWORK_INTERFACE_NAME=eth0\u001b[0m\n",
      "\u001b[34mSM_NUM_GPUS=1\u001b[0m\n",
      "\u001b[34mSM_HP_EPOCHS=13\u001b[0m\n",
      "\u001b[34mSM_OUTPUT_DIR=/opt/ml/output\u001b[0m\n",
      "\u001b[34mSM_FRAMEWORK_MODULE=sagemaker_pytorch_container.training:main\u001b[0m\n",
      "\u001b[34mSM_HOSTS=[\"algo-1\"]\u001b[0m\n",
      "\u001b[34mSM_INPUT_DATA_CONFIG={\"training\":{\"RecordWrapperType\":\"None\",\"S3DistributionType\":\"FullyReplicated\",\"TrainingInputMode\":\"File\"}}\u001b[0m\n",
      "\u001b[34mSM_HPS={\"epochs\":13,\"hidden_dim\":200}\u001b[0m\n",
      "\u001b[34mPYTHONPATH=/usr/local/bin:/usr/lib/python35.zip:/usr/lib/python3.5:/usr/lib/python3.5/plat-x86_64-linux-gnu:/usr/lib/python3.5/lib-dynload:/usr/local/lib/python3.5/dist-packages:/usr/lib/python3/dist-packages\u001b[0m\n",
      "\u001b[34mSM_MODULE_DIR=s3://sagemaker-us-west-2-919744973527/sagemaker-pytorch-2020-05-29-04-02-49-385/source/sourcedir.tar.gz\u001b[0m\n",
      "\u001b[34mSM_USER_ENTRY_POINT=train.py\u001b[0m\n",
      "\u001b[34mSM_INPUT_DIR=/opt/ml/input\n",
      "\u001b[0m\n",
      "\u001b[34mInvoking script with the following command:\n",
      "\u001b[0m\n",
      "\u001b[34m/usr/bin/python -m train --epochs 13 --hidden_dim 200\n",
      "\n",
      "\u001b[0m\n",
      "\u001b[34mUsing device cuda.\u001b[0m\n",
      "\u001b[34mGet train data loader.\u001b[0m\n"
     ]
    },
    {
     "name": "stdout",
     "output_type": "stream",
     "text": [
      "\u001b[34mModel loaded with embedding_dim 32, hidden_dim 200, vocab_size 5000.\u001b[0m\n",
      "\u001b[34mEpoch: 1, BCELoss: 0.6686013231472093\u001b[0m\n",
      "\u001b[34mEpoch: 2, BCELoss: 0.5892637238210562\u001b[0m\n",
      "\u001b[34mEpoch: 3, BCELoss: 0.5200315707800339\u001b[0m\n",
      "\u001b[34mEpoch: 4, BCELoss: 0.43629522773684287\u001b[0m\n",
      "\u001b[34mEpoch: 5, BCELoss: 0.43168795717005826\u001b[0m\n",
      "\u001b[34mEpoch: 6, BCELoss: 0.37396928059811496\u001b[0m\n",
      "\u001b[34mEpoch: 7, BCELoss: 0.3456390062156989\u001b[0m\n",
      "\u001b[34mEpoch: 8, BCELoss: 0.32121738061612964\u001b[0m\n",
      "\u001b[34mEpoch: 9, BCELoss: 0.30589907570761077\u001b[0m\n",
      "\u001b[34mEpoch: 10, BCELoss: 0.3023831455075011\u001b[0m\n",
      "\u001b[34mEpoch: 11, BCELoss: 0.2781171865609227\u001b[0m\n",
      "\u001b[34mEpoch: 12, BCELoss: 0.25769686181934515\u001b[0m\n",
      "\u001b[34mEpoch: 13, BCELoss: 0.24302384835116717\u001b[0m\n",
      "\u001b[34m2020-05-29 04:10:25,280 sagemaker-containers INFO     Reporting training SUCCESS\u001b[0m\n",
      "\n",
      "2020-05-29 04:11:18 Uploading - Uploading generated training model\n",
      "2020-05-29 04:11:25 Completed - Training job completed\n",
      "Training seconds: 376\n",
      "Billable seconds: 376\n"
     ]
    }
   ],
   "source": [
    "estimator.fit({'training': input_data})"
   ]
  },
  {
   "cell_type": "markdown",
   "metadata": {},
   "source": [
    "## Step 5: Testing the model\n",
    "\n",
    "As mentioned at the top of this notebook, we will be testing this model by first deploying it and then sending the testing data to the deployed endpoint. We will do this so that we can make sure that the deployed model is working correctly.\n",
    "\n",
    "## Step 6: Deploy the model for testing\n",
    "\n",
    "Now that we have trained our model, we would like to test it to see how it performs. Currently our model takes input of the form `review_length, review[500]` where `review[500]` is a sequence of `500` integers which describe the words present in the review, encoded using `word_dict`. Fortunately for us, SageMaker provides built-in inference code for models with simple inputs such as this.\n",
    "\n",
    "There is one thing that we need to provide, however, and that is a function which loads the saved model. This function must be called `model_fn()` and takes as its only parameter a path to the directory where the model artifacts are stored. This function must also be present in the python file which we specified as the entry point. In our case the model loading function has been provided and so no changes need to be made.\n",
    "\n",
    "**NOTE**: When the built-in inference code is run it must import the `model_fn()` method from the `train.py` file. This is why the training code is wrapped in a main guard ( ie, `if __name__ == '__main__':` )\n",
    "\n",
    "Since we don't need to change anything in the code that was uploaded during training, we can simply deploy the current model as-is.\n",
    "\n",
    "**NOTE:** When deploying a model you are asking SageMaker to launch an compute instance that will wait for data to be sent to it. As a result, this compute instance will continue to run until *you* shut it down. This is important to know since the cost of a deployed endpoint depends on how long it has been running for.\n",
    "\n",
    "In other words **If you are no longer using a deployed endpoint, shut it down!**\n",
    "\n",
    "**TODO:** Deploy the trained model."
   ]
  },
  {
   "cell_type": "code",
   "execution_count": 28,
   "metadata": {},
   "outputs": [
    {
     "name": "stdout",
     "output_type": "stream",
     "text": [
      "---------------!"
     ]
    }
   ],
   "source": [
    "# TODO: Deploy the trained model\n",
    "predictor = estimator.deploy(initial_instance_count=1, instance_type='ml.m4.xlarge')"
   ]
  },
  {
   "cell_type": "markdown",
   "metadata": {},
   "source": [
    "## Step 7 - Use the model for testing\n",
    "\n",
    "Once deployed, we can read in the test data and send it off to our deployed model to get some results. Once we collect all of the results we can determine how accurate our model is."
   ]
  },
  {
   "cell_type": "code",
   "execution_count": 29,
   "metadata": {},
   "outputs": [],
   "source": [
    "test_X = pd.concat([pd.DataFrame(test_X_len), pd.DataFrame(test_X)], axis=1)"
   ]
  },
  {
   "cell_type": "code",
   "execution_count": 30,
   "metadata": {},
   "outputs": [],
   "source": [
    "# We split the data into chunks and send each chunk seperately, accumulating the results.\n",
    "\n",
    "def predict(data, rows=512):\n",
    "    split_array = np.array_split(data, int(data.shape[0] / float(rows) + 1))\n",
    "    predictions = np.array([])\n",
    "    for array in split_array:\n",
    "        predictions = np.append(predictions, predictor.predict(array))\n",
    "    \n",
    "    return predictions"
   ]
  },
  {
   "cell_type": "code",
   "execution_count": 31,
   "metadata": {},
   "outputs": [],
   "source": [
    "predictions = predict(test_X.values)\n",
    "predictions = [round(num) for num in predictions]"
   ]
  },
  {
   "cell_type": "code",
   "execution_count": 32,
   "metadata": {},
   "outputs": [
    {
     "data": {
      "text/plain": [
       "0.8416"
      ]
     },
     "execution_count": 32,
     "metadata": {},
     "output_type": "execute_result"
    }
   ],
   "source": [
    "from sklearn.metrics import accuracy_score\n",
    "accuracy_score(test_y, predictions)"
   ]
  },
  {
   "cell_type": "markdown",
   "metadata": {},
   "source": [
    "**Question:** How does this model compare to the XGBoost model you created earlier? Why might these two models perform differently on this dataset? Which do *you* think is better for sentiment analysis?"
   ]
  },
  {
   "cell_type": "markdown",
   "metadata": {},
   "source": [
    "**Answer:**\n",
    "\n",
    "- The loss is much better\n",
    "- The accuracy is much better\n",
    "- This model would perform better as LSTM may be better suited for these type of predictions"
   ]
  },
  {
   "cell_type": "markdown",
   "metadata": {},
   "source": [
    "### (TODO) More testing\n",
    "\n",
    "We now have a trained model which has been deployed and which we can send processed reviews to and which returns the predicted sentiment. However, ultimately we would like to be able to send our model an unprocessed review. That is, we would like to send the review itself as a string. For example, suppose we wish to send the following review to our model."
   ]
  },
  {
   "cell_type": "code",
   "execution_count": 33,
   "metadata": {},
   "outputs": [],
   "source": [
    "test_review = 'The simplest pleasures in life are the best, and this film is one of them. Combining a rather basic storyline of love and adventure this movie transcends the usual weekend fair with wit and unmitigated charm.'"
   ]
  },
  {
   "cell_type": "markdown",
   "metadata": {},
   "source": [
    "The question we now need to answer is, how do we send this review to our model?\n",
    "\n",
    "Recall in the first section of this notebook we did a bunch of data processing to the IMDb dataset. In particular, we did two specific things to the provided reviews.\n",
    " - Removed any html tags and stemmed the input\n",
    " - Encoded the review as a sequence of integers using `word_dict`\n",
    " \n",
    "In order process the review we will need to repeat these two steps.\n",
    "\n",
    "**TODO**: Using the `review_to_words` and `convert_and_pad` methods from section one, convert `test_review` into a numpy array `test_data` suitable to send to our model. Remember that our model expects input of the form `review_length, review[500]`."
   ]
  },
  {
   "cell_type": "code",
   "execution_count": 34,
   "metadata": {},
   "outputs": [],
   "source": [
    "# TODO: Convert test_review into a form usable by the model and save the results in test_data\n",
    "#words = review_to_words(test_review)\n",
    "#test_data = [np.array(convert_and_pad(word_dict, words)[0])]\n",
    "test_data_int, len_test  = convert_and_pad(word_dict, review_to_words(test_review))\n",
    "test_data = np.array([np.array([len_test] + test_data_int)])"
   ]
  },
  {
   "cell_type": "markdown",
   "metadata": {},
   "source": [
    "Now that we have processed the review, we can send the resulting array to our model to predict the sentiment of the review."
   ]
  },
  {
   "cell_type": "code",
   "execution_count": 35,
   "metadata": {},
   "outputs": [
    {
     "data": {
      "text/plain": [
       "array(0.9700558, dtype=float32)"
      ]
     },
     "execution_count": 35,
     "metadata": {},
     "output_type": "execute_result"
    }
   ],
   "source": [
    "predictor.predict(test_data)"
   ]
  },
  {
   "cell_type": "markdown",
   "metadata": {},
   "source": [
    "Since the return value of our model is close to `1`, we can be certain that the review we submitted is positive."
   ]
  },
  {
   "cell_type": "markdown",
   "metadata": {},
   "source": [
    "### Delete the endpoint\n",
    "\n",
    "Of course, just like in the XGBoost notebook, once we've deployed an endpoint it continues to run until we tell it to shut down. Since we are done using our endpoint for now, we can delete it."
   ]
  },
  {
   "cell_type": "code",
   "execution_count": 36,
   "metadata": {},
   "outputs": [],
   "source": [
    "estimator.delete_endpoint()"
   ]
  },
  {
   "cell_type": "markdown",
   "metadata": {},
   "source": [
    "## Step 6 (again) - Deploy the model for the web app\n",
    "\n",
    "Now that we know that our model is working, it's time to create some custom inference code so that we can send the model a review which has not been processed and have it determine the sentiment of the review.\n",
    "\n",
    "As we saw above, by default the estimator which we created, when deployed, will use the entry script and directory which we provided when creating the model. However, since we now wish to accept a string as input and our model expects a processed review, we need to write some custom inference code.\n",
    "\n",
    "We will store the code that we write in the `serve` directory. Provided in this directory is the `model.py` file that we used to construct our model, a `utils.py` file which contains the `review_to_words` and `convert_and_pad` pre-processing functions which we used during the initial data processing, and `predict.py`, the file which will contain our custom inference code. Note also that `requirements.txt` is present which will tell SageMaker what Python libraries are required by our custom inference code.\n",
    "\n",
    "When deploying a PyTorch model in SageMaker, you are expected to provide four functions which the SageMaker inference container will use.\n",
    " - `model_fn`: This function is the same function that we used in the training script and it tells SageMaker how to load our model.\n",
    " - `input_fn`: This function receives the raw serialized input that has been sent to the model's endpoint and its job is to de-serialize and make the input available for the inference code.\n",
    " - `output_fn`: This function takes the output of the inference code and its job is to serialize this output and return it to the caller of the model's endpoint.\n",
    " - `predict_fn`: The heart of the inference script, this is where the actual prediction is done and is the function which you will need to complete.\n",
    "\n",
    "For the simple website that we are constructing during this project, the `input_fn` and `output_fn` methods are relatively straightforward. We only require being able to accept a string as input and we expect to return a single value as output. You might imagine though that in a more complex application the input or output may be image data or some other binary data which would require some effort to serialize.\n",
    "\n",
    "### (TODO) Writing inference code\n",
    "\n",
    "Before writing our custom inference code, we will begin by taking a look at the code which has been provided."
   ]
  },
  {
   "cell_type": "code",
   "execution_count": 37,
   "metadata": {},
   "outputs": [
    {
     "name": "stdout",
     "output_type": "stream",
     "text": [
      "\u001b[34mimport\u001b[39;49;00m \u001b[04m\u001b[36margparse\u001b[39;49;00m\r\n",
      "\u001b[34mimport\u001b[39;49;00m \u001b[04m\u001b[36mjson\u001b[39;49;00m\r\n",
      "\u001b[34mimport\u001b[39;49;00m \u001b[04m\u001b[36mos\u001b[39;49;00m\r\n",
      "\u001b[34mimport\u001b[39;49;00m \u001b[04m\u001b[36mpickle\u001b[39;49;00m\r\n",
      "\u001b[34mimport\u001b[39;49;00m \u001b[04m\u001b[36msys\u001b[39;49;00m\r\n",
      "\u001b[34mimport\u001b[39;49;00m \u001b[04m\u001b[36msagemaker_containers\u001b[39;49;00m\r\n",
      "\u001b[34mimport\u001b[39;49;00m \u001b[04m\u001b[36mpandas\u001b[39;49;00m \u001b[34mas\u001b[39;49;00m \u001b[04m\u001b[36mpd\u001b[39;49;00m\r\n",
      "\u001b[34mimport\u001b[39;49;00m \u001b[04m\u001b[36mnumpy\u001b[39;49;00m \u001b[34mas\u001b[39;49;00m \u001b[04m\u001b[36mnp\u001b[39;49;00m\r\n",
      "\u001b[34mimport\u001b[39;49;00m \u001b[04m\u001b[36mtorch\u001b[39;49;00m\r\n",
      "\u001b[34mimport\u001b[39;49;00m \u001b[04m\u001b[36mtorch.nn\u001b[39;49;00m \u001b[34mas\u001b[39;49;00m \u001b[04m\u001b[36mnn\u001b[39;49;00m\r\n",
      "\u001b[34mimport\u001b[39;49;00m \u001b[04m\u001b[36mtorch.optim\u001b[39;49;00m \u001b[34mas\u001b[39;49;00m \u001b[04m\u001b[36moptim\u001b[39;49;00m\r\n",
      "\u001b[34mimport\u001b[39;49;00m \u001b[04m\u001b[36mtorch.utils.data\u001b[39;49;00m\r\n",
      "\r\n",
      "\u001b[34mfrom\u001b[39;49;00m \u001b[04m\u001b[36mmodel\u001b[39;49;00m \u001b[34mimport\u001b[39;49;00m LSTMClassifier\r\n",
      "\r\n",
      "\u001b[34mfrom\u001b[39;49;00m \u001b[04m\u001b[36mutils\u001b[39;49;00m \u001b[34mimport\u001b[39;49;00m review_to_words, convert_and_pad\r\n",
      "\r\n",
      "\u001b[34mdef\u001b[39;49;00m \u001b[32mmodel_fn\u001b[39;49;00m(model_dir):\r\n",
      "    \u001b[33m\"\"\"Load the PyTorch model from the `model_dir` directory.\"\"\"\u001b[39;49;00m\r\n",
      "    \u001b[34mprint\u001b[39;49;00m(\u001b[33m\"\u001b[39;49;00m\u001b[33mLoading model.\u001b[39;49;00m\u001b[33m\"\u001b[39;49;00m)\r\n",
      "\r\n",
      "    \u001b[37m# First, load the parameters used to create the model.\u001b[39;49;00m\r\n",
      "    model_info = {}\r\n",
      "    model_info_path = os.path.join(model_dir, \u001b[33m'\u001b[39;49;00m\u001b[33mmodel_info.pth\u001b[39;49;00m\u001b[33m'\u001b[39;49;00m)\r\n",
      "    \u001b[34mwith\u001b[39;49;00m \u001b[36mopen\u001b[39;49;00m(model_info_path, \u001b[33m'\u001b[39;49;00m\u001b[33mrb\u001b[39;49;00m\u001b[33m'\u001b[39;49;00m) \u001b[34mas\u001b[39;49;00m f:\r\n",
      "        model_info = torch.load(f)\r\n",
      "\r\n",
      "    \u001b[34mprint\u001b[39;49;00m(\u001b[33m\"\u001b[39;49;00m\u001b[33mmodel_info: {}\u001b[39;49;00m\u001b[33m\"\u001b[39;49;00m.format(model_info))\r\n",
      "\r\n",
      "    \u001b[37m# Determine the device and construct the model.\u001b[39;49;00m\r\n",
      "    device = torch.device(\u001b[33m\"\u001b[39;49;00m\u001b[33mcuda\u001b[39;49;00m\u001b[33m\"\u001b[39;49;00m \u001b[34mif\u001b[39;49;00m torch.cuda.is_available() \u001b[34melse\u001b[39;49;00m \u001b[33m\"\u001b[39;49;00m\u001b[33mcpu\u001b[39;49;00m\u001b[33m\"\u001b[39;49;00m)\r\n",
      "    model = LSTMClassifier(model_info[\u001b[33m'\u001b[39;49;00m\u001b[33membedding_dim\u001b[39;49;00m\u001b[33m'\u001b[39;49;00m], model_info[\u001b[33m'\u001b[39;49;00m\u001b[33mhidden_dim\u001b[39;49;00m\u001b[33m'\u001b[39;49;00m], model_info[\u001b[33m'\u001b[39;49;00m\u001b[33mvocab_size\u001b[39;49;00m\u001b[33m'\u001b[39;49;00m])\r\n",
      "\r\n",
      "    \u001b[37m# Load the store model parameters.\u001b[39;49;00m\r\n",
      "    model_path = os.path.join(model_dir, \u001b[33m'\u001b[39;49;00m\u001b[33mmodel.pth\u001b[39;49;00m\u001b[33m'\u001b[39;49;00m)\r\n",
      "    \u001b[34mwith\u001b[39;49;00m \u001b[36mopen\u001b[39;49;00m(model_path, \u001b[33m'\u001b[39;49;00m\u001b[33mrb\u001b[39;49;00m\u001b[33m'\u001b[39;49;00m) \u001b[34mas\u001b[39;49;00m f:\r\n",
      "        model.load_state_dict(torch.load(f))\r\n",
      "\r\n",
      "    \u001b[37m# Load the saved word_dict.\u001b[39;49;00m\r\n",
      "    word_dict_path = os.path.join(model_dir, \u001b[33m'\u001b[39;49;00m\u001b[33mword_dict.pkl\u001b[39;49;00m\u001b[33m'\u001b[39;49;00m)\r\n",
      "    \u001b[34mwith\u001b[39;49;00m \u001b[36mopen\u001b[39;49;00m(word_dict_path, \u001b[33m'\u001b[39;49;00m\u001b[33mrb\u001b[39;49;00m\u001b[33m'\u001b[39;49;00m) \u001b[34mas\u001b[39;49;00m f:\r\n",
      "        model.word_dict = pickle.load(f)\r\n",
      "\r\n",
      "    model.to(device).eval()\r\n",
      "\r\n",
      "    \u001b[34mprint\u001b[39;49;00m(\u001b[33m\"\u001b[39;49;00m\u001b[33mDone loading model.\u001b[39;49;00m\u001b[33m\"\u001b[39;49;00m)\r\n",
      "    \u001b[34mreturn\u001b[39;49;00m model\r\n",
      "\r\n",
      "\u001b[34mdef\u001b[39;49;00m \u001b[32minput_fn\u001b[39;49;00m(serialized_input_data, content_type):\r\n",
      "    \u001b[34mprint\u001b[39;49;00m(\u001b[33m'\u001b[39;49;00m\u001b[33mDeserializing the input data.\u001b[39;49;00m\u001b[33m'\u001b[39;49;00m)\r\n",
      "    \u001b[34mif\u001b[39;49;00m content_type == \u001b[33m'\u001b[39;49;00m\u001b[33mtext/plain\u001b[39;49;00m\u001b[33m'\u001b[39;49;00m:\r\n",
      "        data = serialized_input_data.decode(\u001b[33m'\u001b[39;49;00m\u001b[33mutf-8\u001b[39;49;00m\u001b[33m'\u001b[39;49;00m)\r\n",
      "        \u001b[34mreturn\u001b[39;49;00m data\r\n",
      "    \u001b[34mraise\u001b[39;49;00m \u001b[36mException\u001b[39;49;00m(\u001b[33m'\u001b[39;49;00m\u001b[33mRequested unsupported ContentType in content_type: \u001b[39;49;00m\u001b[33m'\u001b[39;49;00m + content_type)\r\n",
      "\r\n",
      "\u001b[34mdef\u001b[39;49;00m \u001b[32moutput_fn\u001b[39;49;00m(prediction_output, accept):\r\n",
      "    \u001b[34mprint\u001b[39;49;00m(\u001b[33m'\u001b[39;49;00m\u001b[33mSerializing the generated output.\u001b[39;49;00m\u001b[33m'\u001b[39;49;00m)\r\n",
      "    \u001b[34mreturn\u001b[39;49;00m \u001b[36mstr\u001b[39;49;00m(prediction_output)\r\n",
      "\r\n",
      "\u001b[34mdef\u001b[39;49;00m \u001b[32mpredict_fn\u001b[39;49;00m(input_data, model):\r\n",
      "    \u001b[34mprint\u001b[39;49;00m(\u001b[33m'\u001b[39;49;00m\u001b[33mInferring sentiment of input data.\u001b[39;49;00m\u001b[33m'\u001b[39;49;00m)\r\n",
      "\r\n",
      "    device = torch.device(\u001b[33m\"\u001b[39;49;00m\u001b[33mcuda\u001b[39;49;00m\u001b[33m\"\u001b[39;49;00m \u001b[34mif\u001b[39;49;00m torch.cuda.is_available() \u001b[34melse\u001b[39;49;00m \u001b[33m\"\u001b[39;49;00m\u001b[33mcpu\u001b[39;49;00m\u001b[33m\"\u001b[39;49;00m)\r\n",
      "    \r\n",
      "    \u001b[34mif\u001b[39;49;00m model.word_dict \u001b[35mis\u001b[39;49;00m \u001b[36mNone\u001b[39;49;00m:\r\n",
      "        \u001b[34mraise\u001b[39;49;00m \u001b[36mException\u001b[39;49;00m(\u001b[33m'\u001b[39;49;00m\u001b[33mModel has not been loaded properly, no word_dict.\u001b[39;49;00m\u001b[33m'\u001b[39;49;00m)\r\n",
      "    \r\n",
      "    \u001b[37m# TODO: Process input_data so that it is ready to be sent to our model.\u001b[39;49;00m\r\n",
      "    \u001b[37m#       You should produce two variables:\u001b[39;49;00m\r\n",
      "    \u001b[37m#         data_X   - A sequence of length 500 which represents the converted review\u001b[39;49;00m\r\n",
      "    \u001b[37m#         data_len - The length of the review\u001b[39;49;00m\r\n",
      "\r\n",
      "    data_X = \u001b[36mNone\u001b[39;49;00m\r\n",
      "    data_len = \u001b[36mNone\u001b[39;49;00m\r\n",
      "    \u001b[37m#Added processing of input_data\u001b[39;49;00m\r\n",
      "    data_X, data_len = convert_and_pad(model.word_dict, np.array(review_to_words(input_data)))\r\n",
      "    \u001b[37m# Using data_X and data_len we construct an appropriate input tensor. Remember\u001b[39;49;00m\r\n",
      "    \u001b[37m# that our model expects input data of the form 'len, review[500]'.\u001b[39;49;00m\r\n",
      "    data_pack = np.hstack((data_len, data_X))\r\n",
      "    data_pack = data_pack.reshape(\u001b[34m1\u001b[39;49;00m, -\u001b[34m1\u001b[39;49;00m)\r\n",
      "    \r\n",
      "    data = torch.from_numpy(data_pack)\r\n",
      "    data = data.to(device)\r\n",
      "\r\n",
      "    \u001b[37m# Make sure to put the model into evaluation mode\u001b[39;49;00m\r\n",
      "    model.eval()\r\n",
      "\r\n",
      "    \u001b[37m# TODO: Compute the result of applying the model to the input data. The variable `result` should\u001b[39;49;00m\r\n",
      "    \u001b[37m#       be a numpy array which contains a single integer which is either 1 or 0\u001b[39;49;00m\r\n",
      "    \u001b[34mwith\u001b[39;49;00m torch.no_grad():\r\n",
      "        output = model.forward(data)\r\n",
      "\r\n",
      "    \u001b[37m#Back to CPU to use numpy\u001b[39;49;00m\r\n",
      "    \u001b[34mif\u001b[39;49;00m torch.cuda.is_available():\r\n",
      "        output.to(\u001b[33m'\u001b[39;49;00m\u001b[33mcpu\u001b[39;49;00m\u001b[33m'\u001b[39;49;00m)        \r\n",
      "    \u001b[37m#to numpy and to int\u001b[39;49;00m\r\n",
      "    result = \u001b[36mint\u001b[39;49;00m(np.round(output.detach().numpy()))\r\n",
      "\r\n",
      "    \u001b[34mreturn\u001b[39;49;00m result\r\n"
     ]
    }
   ],
   "source": [
    "!pygmentize serve/predict.py"
   ]
  },
  {
   "cell_type": "markdown",
   "metadata": {},
   "source": [
    "As mentioned earlier, the `model_fn` method is the same as the one provided in the training code and the `input_fn` and `output_fn` methods are very simple and your task will be to complete the `predict_fn` method. Make sure that you save the completed file as `predict.py` in the `serve` directory.\n",
    "\n",
    "**TODO**: Complete the `predict_fn()` method in the `serve/predict.py` file."
   ]
  },
  {
   "cell_type": "markdown",
   "metadata": {},
   "source": [
    "### Deploying the model\n",
    "\n",
    "Now that the custom inference code has been written, we will create and deploy our model. To begin with, we need to construct a new PyTorchModel object which points to the model artifacts created during training and also points to the inference code that we wish to use. Then we can call the deploy method to launch the deployment container.\n",
    "\n",
    "**NOTE**: The default behaviour for a deployed PyTorch model is to assume that any input passed to the predictor is a `numpy` array. In our case we want to send a string so we need to construct a simple wrapper around the `RealTimePredictor` class to accomodate simple strings. In a more complicated situation you may want to provide a serialization object, for example if you wanted to sent image data."
   ]
  },
  {
   "cell_type": "code",
   "execution_count": 46,
   "metadata": {},
   "outputs": [
    {
     "name": "stdout",
     "output_type": "stream",
     "text": [
      "-------------!"
     ]
    }
   ],
   "source": [
    "from sagemaker.predictor import RealTimePredictor\n",
    "from sagemaker.pytorch import PyTorchModel\n",
    "\n",
    "class StringPredictor(RealTimePredictor):\n",
    "    def __init__(self, endpoint_name, sagemaker_session):\n",
    "        super(StringPredictor, self).__init__(endpoint_name, sagemaker_session, content_type='text/plain')\n",
    "\n",
    "model = PyTorchModel(model_data=estimator.model_data,\n",
    "                     role = role,\n",
    "                     framework_version='0.4.0',\n",
    "                     entry_point='predict.py',\n",
    "                     source_dir='serve',\n",
    "                     predictor_cls=StringPredictor)\n",
    "predictor = model.deploy(initial_instance_count=1, instance_type='ml.m4.xlarge')"
   ]
  },
  {
   "cell_type": "markdown",
   "metadata": {},
   "source": [
    "### Testing the model\n",
    "\n",
    "Now that we have deployed our model with the custom inference code, we should test to see if everything is working. Here we test our model by loading the first `250` positive and negative reviews and send them to the endpoint, then collect the results. The reason for only sending some of the data is that the amount of time it takes for our model to process the input and then perform inference is quite long and so testing the entire data set would be prohibitive."
   ]
  },
  {
   "cell_type": "code",
   "execution_count": 47,
   "metadata": {},
   "outputs": [],
   "source": [
    "import glob\n",
    "\n",
    "def test_reviews(data_dir='../data/aclImdb', stop=250):\n",
    "    \n",
    "    results = []\n",
    "    ground = []\n",
    "    \n",
    "    # We make sure to test both positive and negative reviews    \n",
    "    for sentiment in ['pos', 'neg']:\n",
    "        \n",
    "        path = os.path.join(data_dir, 'test', sentiment, '*.txt')\n",
    "        files = glob.glob(path)\n",
    "        \n",
    "        files_read = 0\n",
    "        \n",
    "        print('Starting ', sentiment, ' files')\n",
    "        \n",
    "        # Iterate through the files and send them to the predictor\n",
    "        for f in files:\n",
    "            with open(f) as review:\n",
    "                # First, we store the ground truth (was the review positive or negative)\n",
    "                if sentiment == 'pos':\n",
    "                    ground.append(1)\n",
    "                else:\n",
    "                    ground.append(0)\n",
    "                # Read in the review and convert to 'utf-8' for transmission via HTTP\n",
    "                review_input = review.read().encode('utf-8')\n",
    "                # Send the review to the predictor and store the results\n",
    "                results.append(int(predictor.predict(review_input)))\n",
    "                \n",
    "            # Sending reviews to our endpoint one at a time takes a while so we\n",
    "            # only send a small number of reviews\n",
    "            files_read += 1\n",
    "            if files_read == stop:\n",
    "                break\n",
    "            \n",
    "    return ground, results"
   ]
  },
  {
   "cell_type": "code",
   "execution_count": 48,
   "metadata": {},
   "outputs": [
    {
     "name": "stdout",
     "output_type": "stream",
     "text": [
      "Starting  pos  files\n",
      "Starting  neg  files\n"
     ]
    }
   ],
   "source": [
    "ground, results = test_reviews()"
   ]
  },
  {
   "cell_type": "code",
   "execution_count": 49,
   "metadata": {},
   "outputs": [
    {
     "data": {
      "text/plain": [
       "0.836"
      ]
     },
     "execution_count": 49,
     "metadata": {},
     "output_type": "execute_result"
    }
   ],
   "source": [
    "from sklearn.metrics import accuracy_score\n",
    "accuracy_score(ground, results)"
   ]
  },
  {
   "cell_type": "markdown",
   "metadata": {},
   "source": [
    "As an additional test, we can try sending the `test_review` that we looked at earlier."
   ]
  },
  {
   "cell_type": "code",
   "execution_count": 50,
   "metadata": {},
   "outputs": [
    {
     "data": {
      "text/plain": [
       "b'1'"
      ]
     },
     "execution_count": 50,
     "metadata": {},
     "output_type": "execute_result"
    }
   ],
   "source": [
    "predictor.predict(test_review)"
   ]
  },
  {
   "cell_type": "markdown",
   "metadata": {},
   "source": [
    "Now that we know our endpoint is working as expected, we can set up the web page that will interact with it. If you don't have time to finish the project now, make sure to skip down to the end of this notebook and shut down your endpoint. You can deploy it again when you come back."
   ]
  },
  {
   "cell_type": "markdown",
   "metadata": {},
   "source": [
    "## Step 7 (again): Use the model for the web app\n",
    "\n",
    "> **TODO:** This entire section and the next contain tasks for you to complete, mostly using the AWS console.\n",
    "\n",
    "So far we have been accessing our model endpoint by constructing a predictor object which uses the endpoint and then just using the predictor object to perform inference. What if we wanted to create a web app which accessed our model? The way things are set up currently makes that not possible since in order to access a SageMaker endpoint the app would first have to authenticate with AWS using an IAM role which included access to SageMaker endpoints. However, there is an easier way! We just need to use some additional AWS services.\n",
    "\n",
    "<img src=\"Web App Diagram.svg\">\n",
    "\n",
    "The diagram above gives an overview of how the various services will work together. On the far right is the model which we trained above and which is deployed using SageMaker. On the far left is our web app that collects a user's movie review, sends it off and expects a positive or negative sentiment in return.\n",
    "\n",
    "In the middle is where some of the magic happens. We will construct a Lambda function, which you can think of as a straightforward Python function that can be executed whenever a specified event occurs. We will give this function permission to send and recieve data from a SageMaker endpoint.\n",
    "\n",
    "Lastly, the method we will use to execute the Lambda function is a new endpoint that we will create using API Gateway. This endpoint will be a url that listens for data to be sent to it. Once it gets some data it will pass that data on to the Lambda function and then return whatever the Lambda function returns. Essentially it will act as an interface that lets our web app communicate with the Lambda function.\n",
    "\n",
    "### Setting up a Lambda function\n",
    "\n",
    "The first thing we are going to do is set up a Lambda function. This Lambda function will be executed whenever our public API has data sent to it. When it is executed it will receive the data, perform any sort of processing that is required, send the data (the review) to the SageMaker endpoint we've created and then return the result.\n",
    "\n",
    "#### Part A: Create an IAM Role for the Lambda function\n",
    "\n",
    "Since we want the Lambda function to call a SageMaker endpoint, we need to make sure that it has permission to do so. To do this, we will construct a role that we can later give the Lambda function.\n",
    "\n",
    "Using the AWS Console, navigate to the **IAM** page and click on **Roles**. Then, click on **Create role**. Make sure that the **AWS service** is the type of trusted entity selected and choose **Lambda** as the service that will use this role, then click **Next: Permissions**.\n",
    "\n",
    "In the search box type `sagemaker` and select the check box next to the **AmazonSageMakerFullAccess** policy. Then, click on **Next: Review**.\n",
    "\n",
    "Lastly, give this role a name. Make sure you use a name that you will remember later on, for example `LambdaSageMakerRole`. Then, click on **Create role**.\n",
    "\n",
    "#### Part B: Create a Lambda function\n",
    "\n",
    "Now it is time to actually create the Lambda function.\n",
    "\n",
    "Using the AWS Console, navigate to the AWS Lambda page and click on **Create a function**. When you get to the next page, make sure that **Author from scratch** is selected. Now, name your Lambda function, using a name that you will remember later on, for example `sentiment_analysis_func`. Make sure that the **Python 3.6** runtime is selected and then choose the role that you created in the previous part. Then, click on **Create Function**.\n",
    "\n",
    "On the next page you will see some information about the Lambda function you've just created. If you scroll down you should see an editor in which you can write the code that will be executed when your Lambda function is triggered. In our example, we will use the code below. \n",
    "\n",
    "```python\n",
    "# We need to use the low-level library to interact with SageMaker since the SageMaker API\n",
    "# is not available natively through Lambda.\n",
    "import boto3\n",
    "\n",
    "def lambda_handler(event, context):\n",
    "\n",
    "    # The SageMaker runtime is what allows us to invoke the endpoint that we've created.\n",
    "    runtime = boto3.Session().client('sagemaker-runtime')\n",
    "\n",
    "    # Now we use the SageMaker runtime to invoke our endpoint, sending the review we were given\n",
    "    response = runtime.invoke_endpoint(EndpointName = '**ENDPOINT NAME HERE**',    # The name of the endpoint we created\n",
    "                                       ContentType = 'text/plain',                 # The data format that is expected\n",
    "                                       Body = event['body'])                       # The actual review\n",
    "\n",
    "    # The response is an HTTP response whose body contains the result of our inference\n",
    "    result = response['Body'].read().decode('utf-8')\n",
    "\n",
    "    return {\n",
    "        'statusCode' : 200,\n",
    "        'headers' : { 'Content-Type' : 'text/plain', 'Access-Control-Allow-Origin' : '*' },\n",
    "        'body' : result\n",
    "    }\n",
    "```\n",
    "\n",
    "Once you have copy and pasted the code above into the Lambda code editor, replace the `**ENDPOINT NAME HERE**` portion with the name of the endpoint that we deployed earlier. You can determine the name of the endpoint using the code cell below."
   ]
  },
  {
   "cell_type": "code",
   "execution_count": 51,
   "metadata": {},
   "outputs": [
    {
     "data": {
      "text/plain": [
       "'sagemaker-pytorch-2020-05-29-04-42-06-080'"
      ]
     },
     "execution_count": 51,
     "metadata": {},
     "output_type": "execute_result"
    }
   ],
   "source": [
    "predictor.endpoint"
   ]
  },
  {
   "cell_type": "markdown",
   "metadata": {},
   "source": [
    "Once you have added the endpoint name to the Lambda function, click on **Save**. Your Lambda function is now up and running. Next we need to create a way for our web app to execute the Lambda function.\n",
    "\n",
    "### Setting up API Gateway\n",
    "\n",
    "Now that our Lambda function is set up, it is time to create a new API using API Gateway that will trigger the Lambda function we have just created.\n",
    "\n",
    "Using AWS Console, navigate to **Amazon API Gateway** and then click on **Get started**.\n",
    "\n",
    "On the next page, make sure that **New API** is selected and give the new api a name, for example, `sentiment_analysis_api`. Then, click on **Create API**.\n",
    "\n",
    "Now we have created an API, however it doesn't currently do anything. What we want it to do is to trigger the Lambda function that we created earlier.\n",
    "\n",
    "Select the **Actions** dropdown menu and click **Create Method**. A new blank method will be created, select its dropdown menu and select **POST**, then click on the check mark beside it.\n",
    "\n",
    "For the integration point, make sure that **Lambda Function** is selected and click on the **Use Lambda Proxy integration**. This option makes sure that the data that is sent to the API is then sent directly to the Lambda function with no processing. It also means that the return value must be a proper response object as it will also not be processed by API Gateway.\n",
    "\n",
    "Type the name of the Lambda function you created earlier into the **Lambda Function** text entry box and then click on **Save**. Click on **OK** in the pop-up box that then appears, giving permission to API Gateway to invoke the Lambda function you created.\n",
    "\n",
    "The last step in creating the API Gateway is to select the **Actions** dropdown and click on **Deploy API**. You will need to create a new Deployment stage and name it anything you like, for example `prod`.\n",
    "\n",
    "You have now successfully set up a public API to access your SageMaker model. Make sure to copy or write down the URL provided to invoke your newly created public API as this will be needed in the next step. This URL can be found at the top of the page, highlighted in blue next to the text **Invoke URL**."
   ]
  },
  {
   "cell_type": "markdown",
   "metadata": {},
   "source": [
    "## Step 4: Deploying our web app\n",
    "\n",
    "Now that we have a publicly available API, we can start using it in a web app. For our purposes, we have provided a simple static html file which can make use of the public api you created earlier.\n",
    "\n",
    "In the `website` folder there should be a file called `index.html`. Download the file to your computer and open that file up in a text editor of your choice. There should be a line which contains **\\*\\*REPLACE WITH PUBLIC API URL\\*\\***. Replace this string with the url that you wrote down in the last step and then save the file.\n",
    "\n",
    "Now, if you open `index.html` on your local computer, your browser will behave as a local web server and you can use the provided site to interact with your SageMaker model.\n",
    "\n",
    "If you'd like to go further, you can host this html file anywhere you'd like, for example using github or hosting a static site on Amazon's S3. Once you have done this you can share the link with anyone you'd like and have them play with it too!\n",
    "\n",
    "> **Important Note** In order for the web app to communicate with the SageMaker endpoint, the endpoint has to actually be deployed and running. This means that you are paying for it. Make sure that the endpoint is running when you want to use the web app but that you shut it down when you don't need it, otherwise you will end up with a surprisingly large AWS bill.\n",
    "\n",
    "**TODO:** Make sure that you include the edited `index.html` file in your project submission."
   ]
  },
  {
   "cell_type": "markdown",
   "metadata": {},
   "source": [
    "Now that your web app is working, trying playing around with it and see how well it works.\n",
    "\n",
    "**Question**: Give an example of a review that you entered into your web app. What was the predicted sentiment of your example review?"
   ]
  },
  {
   "cell_type": "markdown",
   "metadata": {},
   "source": [
    "**Answer:**\n",
    "\n",
    "An example review: It left me speechless. The depth of the message was incredible. Very sentimental.\n",
    "\n",
    "Expected result: Positive\n"
   ]
  },
  {
   "cell_type": "code",
   "execution_count": 52,
   "metadata": {},
   "outputs": [
    {
     "data": {
      "text/plain": [
       "b'1'"
      ]
     },
     "execution_count": 52,
     "metadata": {},
     "output_type": "execute_result"
    }
   ],
   "source": [
    "predictor.predict(\"It left me speechless. The depth of the message was incredible. Very sentimental.\")"
   ]
  },
  {
   "cell_type": "markdown",
   "metadata": {},
   "source": [
    "### Delete the endpoint\n",
    "\n",
    "Remember to always shut down your endpoint if you are no longer using it. You are charged for the length of time that the endpoint is running so if you forget and leave it on you could end up with an unexpectedly large bill."
   ]
  },
  {
   "cell_type": "code",
   "execution_count": 53,
   "metadata": {},
   "outputs": [],
   "source": [
    "predictor.delete_endpoint()"
   ]
  },
  {
   "cell_type": "code",
   "execution_count": null,
   "metadata": {},
   "outputs": [],
   "source": []
  }
 ],
 "metadata": {
  "kernelspec": {
   "display_name": "conda_pytorch_p36",
   "language": "python",
   "name": "conda_pytorch_p36"
  },
  "language_info": {
   "codemirror_mode": {
    "name": "ipython",
    "version": 3
   },
   "file_extension": ".py",
   "mimetype": "text/x-python",
   "name": "python",
   "nbconvert_exporter": "python",
   "pygments_lexer": "ipython3",
   "version": "3.6.5"
  }
 },
 "nbformat": 4,
 "nbformat_minor": 2
}
